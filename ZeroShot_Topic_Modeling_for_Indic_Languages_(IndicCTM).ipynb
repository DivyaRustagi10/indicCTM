{
  "cells": [
    {
      "cell_type": "markdown",
      "metadata": {
        "id": "view-in-github",
        "colab_type": "text"
      },
      "source": [
        "<a href=\"https://colab.research.google.com/github/DivyaRustagi10/indic-ctm/blob/main/ZeroShot_Topic_Modeling_for_Indic_Languages_(IndicCTM).ipynb\" target=\"_parent\"><img src=\"https://colab.research.google.com/assets/colab-badge.svg\" alt=\"Open In Colab\"/></a>"
      ]
    },
    {
      "cell_type": "markdown",
      "metadata": {
        "id": "Te7oLPMkvQR_"
      },
      "source": [
        "#  ZeroShot Topic Modeling for Indic Languages (IndicCTM)\n",
        "*Previously Zero-shot Cross-Lingual Topic Modeling For Same Script Languages*\n",
        "> Do conxtextualized TM tackle zero-shot cross-lingual topic modeling better on same script languages?\n",
        "\n",
        "We use 4000 documents as training and consider randomly sampled 800 documents as the test set. We collect the 800 respective instances in Hindi (hi), Assamese (as), Gujarati (gu), Kannada (kn), Malayalam (ml), Marathi (mr), Oriya (or), Punjabi (pa), Tamil (ta), Telugu (te) and English (en).\n",
        "\n",
        "First, we use IndicBERT to generate multilingual embeddings as the input of the model. Then we evaluate multilingual topic predictions on the multilingual abstracts in test set."
      ]
    },
    {
      "cell_type": "markdown",
      "metadata": {
        "id": "N_rvOPdVkJ62"
      },
      "source": [
        "### Initial Setup"
      ]
    },
    {
      "cell_type": "code",
      "execution_count": null,
      "metadata": {
        "id": "M3H5Cn_ftZzW"
      },
      "outputs": [],
      "source": [
        "# Install the contextualized topic model library\n",
        "%%capture\n",
        "!pip install -U contextualized_topic_models"
      ]
    },
    {
      "cell_type": "code",
      "execution_count": null,
      "metadata": {
        "id": "Vht2fQJ6uqvh"
      },
      "outputs": [],
      "source": [
        "%%capture\n",
        "!pip install pyldavis\n",
        "!pip install wget\n",
        "!pip install head\n",
        "!nvidia-smi\n",
        "\n",
        "# Setup Hindi for analysis\n",
        "!pip install indic-nlp-library==0.81\n",
        "!pip install stopwordsiso\n",
        "#!pip install torch==1.13.0+cpu -f https://download.pytorch.org/whl/torch_stable.html\n",
        "!pip install inltk\n",
        "!pip install regex\n",
        "!pip install urduhack"
      ]
    },
    {
      "cell_type": "code",
      "execution_count": null,
      "metadata": {
        "id": "yTkSBfbBq25Z"
      },
      "outputs": [],
      "source": [
        "# Imports\n",
        "from contextualized_topic_models.models.ctm import ZeroShotTM\n",
        "from contextualized_topic_models.utils.data_preparation import TopicModelDataPreparation\n",
        "from contextualized_topic_models.utils.preprocessing import  WhiteSpacePreprocessingStopwords\n",
        "import pickle"
      ]
    },
    {
      "cell_type": "code",
      "execution_count": null,
      "metadata": {
        "id": "zaM6lH0GjDsR"
      },
      "outputs": [],
      "source": [
        "from inltk.inltk import setup\n",
        "\n",
        "try:\n",
        "  setup('hi')\n",
        "except:\n",
        "  pass"
      ]
    },
    {
      "cell_type": "markdown",
      "metadata": {
        "id": "pVPQoVENZ-mr"
      },
      "source": [
        "## Data\n",
        "\n",
        "###**Building PMIndia Corpus**\n",
        "\n",
        "Below contains the code for creating a parallel corpus from the website of the Indian Prime Minister (www.pmindia.gov.in). \n",
        "\n",
        "We combine each speech document into one, for every language. Datasets are downloaded from [Statistical Machine Translation](https://data.statmt.org/pmindia/v1/monolingual/)."
      ]
    },
    {
      "cell_type": "markdown",
      "metadata": {
        "id": "VaEkTabsl9ef"
      },
      "source": [
        "*Downloading Dataset*"
      ]
    },
    {
      "cell_type": "code",
      "execution_count": null,
      "metadata": {
        "id": "AXdZmkuJbo4p"
      },
      "outputs": [],
      "source": [
        "# Imports\n",
        "import urllib\n",
        "import wget\n",
        "import pandas as pd\n",
        "import os\n",
        "\n",
        "# Download PMIndia Datasets\n",
        "FILES_DIR = os.getcwd() # REPLACE WITH YOUR DIRECTORY IF YOU PREFER DOWNLOADING IN SPECIFIC DIRECTORY\n",
        "LINK = \"https://drive.google.com/u/0/uc?id=1IqH2XQFw1XHPT2Sh_Yz3LnrMEVqS8oef&export=download\"  # LINK TO PMINDIA FILE LOCATION\n",
        "FILE_PATH = os.getcwd() + \"/\" + wget.download(LINK) # PATH TO DOWNLOADS\n",
        "\n",
        "pmindia_list = pd.read_csv(FILE_PATH, sep = \",\",  names = [\"lang\", \"link\"], engine = \"python\" )['link']\n",
        "pmindia_list = [FILES_DIR + \"/\" + wget.download(link.strip(\" \")) for link in pmindia_list]"
      ]
    },
    {
      "cell_type": "code",
      "execution_count": null,
      "metadata": {
        "id": "VtaE0KjRR7qf"
      },
      "outputs": [],
      "source": [
        "# Build directory to store speech files\n",
        "%%bash\n",
        "mkdir parallel_speeches\n",
        "cd parallel_speeches"
      ]
    },
    {
      "cell_type": "code",
      "execution_count": null,
      "metadata": {
        "id": "prkgcgs6ITdQ",
        "colab": {
          "base_uri": "https://localhost:8080/"
        },
        "outputId": "103cd9ae-ecb6-4509-801c-7a8ad21a8e61"
      },
      "outputs": [
        {
          "output_type": "stream",
          "name": "stdout",
          "text": [
            "Downloading Model. This might take time, depending on your internet connection. Please be patient.\n",
            "We'll only do this for the first time.\n"
          ]
        }
      ],
      "source": [
        "# Files stored in content directory\n",
        "# Data will need to be re-downloaded if a session closes\n",
        "''' Following script will download parallel corpus into new directory named parallel_speeches.\n",
        "Each folder in parallel_speeches contains pmindia speeches in indic language identified by their ISO code.\n",
        "\n",
        "For e.g.\n",
        "parallel_speeches/as/ contains speeches in Assamese.\n",
        "parallel_speeches/hi contains speeches in Hindi.\n",
        "'''\n",
        "import tarfile\n",
        "import os\n",
        "\n",
        "FILES_DIR = os.getcwd() # REPLACE WITH DIRECTORY OF FILES\n",
        "STORE_FILES_HERE = os.getcwd() + \"/parallel_speeches\" # STORE EXTRACTED FILES HERE\n",
        "\n",
        "for fname in pmindia_list:\n",
        "    tar = tarfile.open(fname, \"r:gz\") # unzip file\n",
        "    tar.extractall(STORE_FILES_HERE)    \n",
        "    foldername = fname[fname.rfind('.tgz')-2: fname.rfind('.tgz')] # get folder name\n",
        "    os.rename(STORE_FILES_HERE + \"/split\", STORE_FILES_HERE + \"/\" + foldername) # rename default split folder to language name\n",
        "    tar.close()"
      ]
    },
    {
      "cell_type": "markdown",
      "metadata": {
        "id": "8tVllbDgmERy"
      },
      "source": [
        "*Get Parallel Speeches*"
      ]
    },
    {
      "cell_type": "code",
      "execution_count": null,
      "metadata": {
        "id": "HT0AkExw3D8q"
      },
      "outputs": [],
      "source": [
        "import glob # SEEK FILES FROM ABOVE FOR DOWNLOAD\n",
        "FOLDERS_DIR = os.getcwd() + \"/parallel_speeches\"  # DIRECTORY FOR SAVING PARALLEL SPEECHES\n",
        "\n",
        "# Stores list of speeches in dictionary keyed by ISO language name\n",
        "SPEECHES_IN_LANGS = {languagefolder[-2:] : sorted(list(glob.glob(languagefolder + \"/*.txt\")))[3:] for languagefolder in glob.glob(FOLDERS_DIR + \"/*\")}"
      ]
    },
    {
      "cell_type": "code",
      "execution_count": null,
      "metadata": {
        "id": "VGe718ULoiWJ"
      },
      "outputs": [],
      "source": [
        "# Get file names to find common test corpus (set of files common between all languages)\n",
        "STRIP_INDEX = SPEECHES_IN_LANGS['as'][0].index('as') + len('as/')   # GET LANGUAGE ISO CODE\n",
        "\n",
        "filenames = {}\n",
        "for lang in SPEECHES_IN_LANGS.keys():\n",
        "  temp = [item[STRIP_INDEX:] for item in SPEECHES_IN_LANGS[lang]]\n",
        "  filenames[lang] = temp"
      ]
    },
    {
      "cell_type": "markdown",
      "metadata": {
        "id": "JALisreCmu77"
      },
      "source": [
        "*Combine Parallel Speeches Into Corpus*"
      ]
    },
    {
      "cell_type": "code",
      "execution_count": null,
      "metadata": {
        "id": "lecI86aHVEEx",
        "colab": {
          "base_uri": "https://localhost:8080/",
          "height": 206
        },
        "outputId": "25b24693-9f93-4b21-91de-67ee0b344214"
      },
      "outputs": [
        {
          "output_type": "execute_result",
          "data": {
            "text/plain": [
              "                                    Speech File Name\n",
              "0  15th-edition-of-pravasi-bharatiya-diwas-inaugu...\n",
              "1  ambassador-ms-nikki-haley-united-states-perman...\n",
              "2  anganwadi-workers-from-across-the-country-call...\n",
              "3  asha-representatives-from-across-the-country-c...\n",
              "4  beneficiaries-of-pradhan-mantri-mudra-yojana-s..."
            ],
            "text/html": [
              "\n",
              "  <div id=\"df-616e0091-4c8d-4dc7-bb9c-59ce59200e2d\">\n",
              "    <div class=\"colab-df-container\">\n",
              "      <div>\n",
              "<style scoped>\n",
              "    .dataframe tbody tr th:only-of-type {\n",
              "        vertical-align: middle;\n",
              "    }\n",
              "\n",
              "    .dataframe tbody tr th {\n",
              "        vertical-align: top;\n",
              "    }\n",
              "\n",
              "    .dataframe thead th {\n",
              "        text-align: right;\n",
              "    }\n",
              "</style>\n",
              "<table border=\"1\" class=\"dataframe\">\n",
              "  <thead>\n",
              "    <tr style=\"text-align: right;\">\n",
              "      <th></th>\n",
              "      <th>Speech File Name</th>\n",
              "    </tr>\n",
              "  </thead>\n",
              "  <tbody>\n",
              "    <tr>\n",
              "      <th>0</th>\n",
              "      <td>15th-edition-of-pravasi-bharatiya-diwas-inaugu...</td>\n",
              "    </tr>\n",
              "    <tr>\n",
              "      <th>1</th>\n",
              "      <td>ambassador-ms-nikki-haley-united-states-perman...</td>\n",
              "    </tr>\n",
              "    <tr>\n",
              "      <th>2</th>\n",
              "      <td>anganwadi-workers-from-across-the-country-call...</td>\n",
              "    </tr>\n",
              "    <tr>\n",
              "      <th>3</th>\n",
              "      <td>asha-representatives-from-across-the-country-c...</td>\n",
              "    </tr>\n",
              "    <tr>\n",
              "      <th>4</th>\n",
              "      <td>beneficiaries-of-pradhan-mantri-mudra-yojana-s...</td>\n",
              "    </tr>\n",
              "  </tbody>\n",
              "</table>\n",
              "</div>\n",
              "      <button class=\"colab-df-convert\" onclick=\"convertToInteractive('df-616e0091-4c8d-4dc7-bb9c-59ce59200e2d')\"\n",
              "              title=\"Convert this dataframe to an interactive table.\"\n",
              "              style=\"display:none;\">\n",
              "        \n",
              "  <svg xmlns=\"http://www.w3.org/2000/svg\" height=\"24px\"viewBox=\"0 0 24 24\"\n",
              "       width=\"24px\">\n",
              "    <path d=\"M0 0h24v24H0V0z\" fill=\"none\"/>\n",
              "    <path d=\"M18.56 5.44l.94 2.06.94-2.06 2.06-.94-2.06-.94-.94-2.06-.94 2.06-2.06.94zm-11 1L8.5 8.5l.94-2.06 2.06-.94-2.06-.94L8.5 2.5l-.94 2.06-2.06.94zm10 10l.94 2.06.94-2.06 2.06-.94-2.06-.94-.94-2.06-.94 2.06-2.06.94z\"/><path d=\"M17.41 7.96l-1.37-1.37c-.4-.4-.92-.59-1.43-.59-.52 0-1.04.2-1.43.59L10.3 9.45l-7.72 7.72c-.78.78-.78 2.05 0 2.83L4 21.41c.39.39.9.59 1.41.59.51 0 1.02-.2 1.41-.59l7.78-7.78 2.81-2.81c.8-.78.8-2.07 0-2.86zM5.41 20L4 18.59l7.72-7.72 1.47 1.35L5.41 20z\"/>\n",
              "  </svg>\n",
              "      </button>\n",
              "      \n",
              "  <style>\n",
              "    .colab-df-container {\n",
              "      display:flex;\n",
              "      flex-wrap:wrap;\n",
              "      gap: 12px;\n",
              "    }\n",
              "\n",
              "    .colab-df-convert {\n",
              "      background-color: #E8F0FE;\n",
              "      border: none;\n",
              "      border-radius: 50%;\n",
              "      cursor: pointer;\n",
              "      display: none;\n",
              "      fill: #1967D2;\n",
              "      height: 32px;\n",
              "      padding: 0 0 0 0;\n",
              "      width: 32px;\n",
              "    }\n",
              "\n",
              "    .colab-df-convert:hover {\n",
              "      background-color: #E2EBFA;\n",
              "      box-shadow: 0px 1px 2px rgba(60, 64, 67, 0.3), 0px 1px 3px 1px rgba(60, 64, 67, 0.15);\n",
              "      fill: #174EA6;\n",
              "    }\n",
              "\n",
              "    [theme=dark] .colab-df-convert {\n",
              "      background-color: #3B4455;\n",
              "      fill: #D2E3FC;\n",
              "    }\n",
              "\n",
              "    [theme=dark] .colab-df-convert:hover {\n",
              "      background-color: #434B5C;\n",
              "      box-shadow: 0px 1px 3px 1px rgba(0, 0, 0, 0.15);\n",
              "      filter: drop-shadow(0px 1px 2px rgba(0, 0, 0, 0.3));\n",
              "      fill: #FFFFFF;\n",
              "    }\n",
              "  </style>\n",
              "\n",
              "      <script>\n",
              "        const buttonEl =\n",
              "          document.querySelector('#df-616e0091-4c8d-4dc7-bb9c-59ce59200e2d button.colab-df-convert');\n",
              "        buttonEl.style.display =\n",
              "          google.colab.kernel.accessAllowed ? 'block' : 'none';\n",
              "\n",
              "        async function convertToInteractive(key) {\n",
              "          const element = document.querySelector('#df-616e0091-4c8d-4dc7-bb9c-59ce59200e2d');\n",
              "          const dataTable =\n",
              "            await google.colab.kernel.invokeFunction('convertToInteractive',\n",
              "                                                     [key], {});\n",
              "          if (!dataTable) return;\n",
              "\n",
              "          const docLinkHtml = 'Like what you see? Visit the ' +\n",
              "            '<a target=\"_blank\" href=https://colab.research.google.com/notebooks/data_table.ipynb>data table notebook</a>'\n",
              "            + ' to learn more about interactive tables.';\n",
              "          element.innerHTML = '';\n",
              "          dataTable['output_type'] = 'display_data';\n",
              "          await google.colab.output.renderOutput(dataTable, element);\n",
              "          const docLink = document.createElement('div');\n",
              "          docLink.innerHTML = docLinkHtml;\n",
              "          element.appendChild(docLink);\n",
              "        }\n",
              "      </script>\n",
              "    </div>\n",
              "  </div>\n",
              "  "
            ]
          },
          "metadata": {},
          "execution_count": 10
        }
      ],
      "source": [
        "# Setting seed for reproducibility\n",
        "import random\n",
        "random.seed(210)\n",
        "\n",
        "# Select 800 random corpus\n",
        "sample_corpus = sorted(random.sample(list(set.intersection(*map(set, filenames.values()))), 800))\n",
        "pd.DataFrame(sample_corpus, columns = [\"Speech File Name\"]).head()"
      ]
    },
    {
      "cell_type": "code",
      "execution_count": null,
      "metadata": {
        "id": "E-mt_vI1jUh7"
      },
      "outputs": [],
      "source": [
        "# NORMALIZE HINDI TEXTS\n",
        "from indicnlp.normalize.indic_normalize import IndicNormalizerFactory\n",
        "from indicnlp.tokenize.indic_tokenize import trivial_tokenize\n",
        "import urduhack \n",
        "\n",
        "def normalize(sent, lang = 'hi'):  \n",
        "  normalizer_factory = IndicNormalizerFactory()\n",
        "  normalizer = normalizer_factory.get_normalizer(lang)\n",
        "  normalized = normalizer.normalize(sent)\n",
        "  return normalized"
      ]
    },
    {
      "cell_type": "code",
      "execution_count": null,
      "metadata": {
        "id": "_HLUyqCLifq1"
      },
      "outputs": [],
      "source": [
        "# Combine selected 800 sample speeches into one document for each lang \n",
        "parallel_speeches = {}    # STORE TEST SPEECHES\n",
        "train_speeches = {}       # STORE TRAIN SPEECHES\n",
        "\n",
        "for lang, speeches in SPEECHES_IN_LANGS.items(): \n",
        "  each_lang = []         # list of speeches for one language at a time\n",
        "  just_train = []\n",
        "  \n",
        "  for speech_file in speeches:                          # access list of files in speeches for one language at a time\n",
        "    with open(speech_file, 'r') as speech:              # read file\n",
        "      speech = \" \".join([str(line) for line in speech]) # each speech file becomes one string\n",
        "      \n",
        "      if lang != 'en' and lang != 'ur':                 # normalize each speech per language\n",
        "        normalize(speech, lang)\n",
        "\n",
        "      if speech_file[STRIP_INDEX:] in sample_corpus:\n",
        "        each_lang.append(speech)                        # append string version of speech file\n",
        "      else:\n",
        "        just_train.append(speech)                       # add to train set\n",
        "\n",
        "  parallel_speeches[lang] = each_lang                   # add list of speeches for every language\n",
        "  train_speeches[lang] = just_train                     # add to train set\n",
        "\n",
        "train_speeches['hi'] = [normalize(list) for list in train_speeches['hi']]"
      ]
    },
    {
      "cell_type": "markdown",
      "metadata": {
        "id": "_vkfxcP4mk-W"
      },
      "source": [
        "*Split Parallel Corpus Into Test and Train*"
      ]
    },
    {
      "cell_type": "code",
      "execution_count": null,
      "metadata": {
        "id": "PMPHUR_D4f9e",
        "colab": {
          "base_uri": "https://localhost:8080/"
        },
        "outputId": "bcf5aeb1-2227-4402-dc2e-eca351c5675c"
      },
      "outputs": [
        {
          "output_type": "stream",
          "name": "stdout",
          "text": [
            "                                                   0\n",
            "0  नागरिकों से स्वच्छाग्रही बनने और स्वच्छ भारत ब...\n",
            "1  श्री सोमनाथ न्यास के न्यासियों की 116वीं बैठक ...\n",
            "2  प्रधानमंत्री श्री नरेन्द्र मोदी की अध्यक्षता म...\n",
            "3  प्रधानमंत्री श्री नरेन्द्र मोदी ने आज ही के दि...\n",
            "4  · खूंटी की जिला अदालत में छत पर लगने वाले सौर ...\n",
            "                                                   0\n",
            "0  PM Calls upon citizens to become Swachhagrahis...\n",
            "1  The first 10 months of Prime Minister Narendra...\n",
            "2  BRICS in Africa: Collaboration for Inclusive G...\n",
            "3  The 116th meeting of the trustees of Shri Somn...\n",
            "4  Deendayal Upadhyaya Gram Jyoti Yojana\\n The Un...\n"
          ]
        }
      ],
      "source": [
        "# Imports\n",
        "import pandas as pd\n",
        "from pprint import pprint\n",
        "import re\n",
        "\n",
        "# Selecting Train speeches\n",
        "hindi_unprep = pd.DataFrame(list for list in train_speeches['hi'])\n",
        "english_unprep = pd.DataFrame(list for list in train_speeches['en'])\n",
        "\n",
        "# View each row as a speech\n",
        "print(hindi_unprep[:5])\n",
        "print(english_unprep[:5])"
      ]
    },
    {
      "cell_type": "markdown",
      "metadata": {
        "id": "vEcvJVNDnF02"
      },
      "source": [
        "## Training Models"
      ]
    },
    {
      "cell_type": "markdown",
      "metadata": {
        "id": "pCeeGc0ykG25"
      },
      "source": [
        "### Setup"
      ]
    },
    {
      "cell_type": "code",
      "execution_count": null,
      "metadata": {
        "id": "erO2thoszs7P"
      },
      "outputs": [],
      "source": [
        "# Imports\n",
        "from contextualized_topic_models.models.ctm import ZeroShotTM\n",
        "import contextualized_topic_models.utils.data_preparation\n",
        "from contextualized_topic_models.utils.data_preparation import TopicModelDataPreparation\n",
        "from contextualized_topic_models.utils.preprocessing import WhiteSpacePreprocessing\n",
        "import nltk\n",
        "import pickle"
      ]
    },
    {
      "cell_type": "code",
      "execution_count": null,
      "metadata": {
        "id": "nbFHdpLD-f4G"
      },
      "outputs": [],
      "source": [
        "from sklearn.feature_extraction.text import CountVectorizer\n",
        "import string\n",
        "from nltk.corpus import stopwords as stop_words\n",
        "from gensim.utils import deaccent\n",
        "import warnings\n",
        "from inltk.inltk import remove_foreign_languages\n",
        "import regex \n",
        "from indicnlp.normalize.indic_normalize import IndicNormalizerFactory\n",
        "from indicnlp.tokenize.indic_tokenize import trivial_tokenize\n",
        "\n",
        "class WhiteSpacePreprocessingStopwords(WhiteSpacePreprocessingStopwords):\n",
        "    \"\"\"\n",
        "    Overriden author's original code to keep accents during preprocessing.\n",
        "    Provides a very simple preprocessing script that filters infrequent tokens from text\n",
        "    \"\"\"\n",
        "    \n",
        "    def tokenize_indic(self, sent, LANG = 'hi'):      \n",
        "      normalizer_factory = IndicNormalizerFactory()\n",
        "      normalizer = normalizer_factory.get_normalizer(LANG)\n",
        "      normalized = normalizer.normalize(sent)\n",
        "      tokenized = ' '.join(trivial_tokenize(normalized, LANG))\n",
        "      return tokenized\n",
        "    \n",
        "    def custom_analyzer(self, text):\n",
        "        \"\"\"\n",
        "        code source: https://stackoverflow.com/questions/60763030\n",
        "                      having-an-issue-in-doing-count-vectorization-for-hindi-text\n",
        "        \"\"\"\n",
        "        words = regex.findall(r'\\w{2,}', text) # extract words of at least 2 letters\n",
        "        for w in words:\n",
        "            yield w\n",
        "\n",
        "    def preprocess(self):\n",
        "        \"\"\"\n",
        "        Note that if after filtering some documents do not contain words we remove them. That is why we return also the\n",
        "        list of unpreprocessed documents.\n",
        "        :return: preprocessed documents, unpreprocessed documents and the vocabulary list\n",
        "        \"\"\"\n",
        "        preprocessed_docs_tmp = self.documents\n",
        "        preprocessed_docs_tmp = [doc.translate(\n",
        "            str.maketrans(string.punctuation, ' ' * len(string.punctuation))) for doc in preprocessed_docs_tmp]\n",
        "        if self.remove_numbers:\n",
        "            preprocessed_docs_tmp = [doc.translate(str.maketrans(\"0123456789\", ' ' * len(\"0123456789\")))\n",
        "                                     for doc in preprocessed_docs_tmp]\n",
        "        preprocessed_docs_tmp = [' '.join([w for w in doc.split() if len(w) > 0 and w not in self.stopwords])\n",
        "                                 for doc in preprocessed_docs_tmp]\n",
        "     \n",
        "        preprocessed_docs_tmp = [self.tokenize_indic(sent) for sent in preprocessed_docs_tmp]\n",
        "        \n",
        "        # USE CUSTOM ANALYZER TO PRESERVE ACCENTS IN VECTORIZER\n",
        "        vectorizer = CountVectorizer(analyzer = self.custom_analyzer, max_features=self.vocabulary_size, max_df=self.max_df)\n",
        "        vectorizer.fit_transform(preprocessed_docs_tmp)\n",
        "        temp_vocabulary = set(vectorizer.get_feature_names())\n",
        "\n",
        "        preprocessed_docs_tmp = [' '.join([w for w in doc.split() if w in temp_vocabulary])\n",
        "                                 for doc in preprocessed_docs_tmp]\n",
        "\n",
        "        preprocessed_docs, unpreprocessed_docs, retained_indices = [], [], []\n",
        "        for i, doc in enumerate(preprocessed_docs_tmp):\n",
        "            if len(doc) > 0 and len(doc) >= self.min_words:\n",
        "                preprocessed_docs.append(doc)\n",
        "                unpreprocessed_docs.append(self.documents[i])\n",
        "                retained_indices.append(i)\n",
        "\n",
        "        vocabulary = list(set([item for doc in preprocessed_docs for item in doc.split()]))\n",
        "\n",
        "        return preprocessed_docs, unpreprocessed_docs, vocabulary, retained_indices                                              "
      ]
    },
    {
      "cell_type": "markdown",
      "metadata": {
        "id": "n8NOdgoBJMGd"
      },
      "source": [
        "Above class method is taken from author's original code and modified to support preprocessing of Hindi documents. Additional helper methods have been added to support the updated preprocessing() method.\n",
        "\n",
        "FIXED: Returns expected preprocessed hindi texts."
      ]
    },
    {
      "cell_type": "markdown",
      "metadata": {
        "id": "w7NsHKg2WXZS"
      },
      "source": [
        "###**Hindi-Based ZeroshotTM**\n",
        "\n",
        "*Preprocessing*\n",
        "\n",
        "Why do we use the preprocessed text here? We need text without punctuation to build the bag of word. Also, we might want only to have the most frequent words inside the BoW. Too many words might not help."
      ]
    },
    {
      "cell_type": "code",
      "execution_count": null,
      "metadata": {
        "id": "sQBKiAC_z_aj",
        "colab": {
          "base_uri": "https://localhost:8080/"
        },
        "outputId": "8c76573e-82ce-4a99-9601-f54099556962"
      },
      "outputs": [
        {
          "output_type": "stream",
          "name": "stdout",
          "text": [
            "4003 4003\n"
          ]
        },
        {
          "output_type": "stream",
          "name": "stderr",
          "text": [
            "/usr/local/lib/python3.8/dist-packages/sklearn/utils/deprecation.py:87: FutureWarning: Function get_feature_names is deprecated; get_feature_names is deprecated in 1.0 and will be removed in 1.2. Please use get_feature_names_out instead.\n",
            "  warnings.warn(msg, category=FutureWarning)\n"
          ]
        }
      ],
      "source": [
        "### HINDI ###\n",
        "LANG_SELECTED = 'hi'\n",
        "\n",
        "# We select 200 tokens per speech\n",
        "NUM_TOKENS = 200\n",
        "\n",
        "# Import Hindi Stopwords\n",
        "import stopwordsiso as stopwords\n",
        "\n",
        "# Run preprocessing script\n",
        "documents = [line[:NUM_TOKENS].strip() for line in train_speeches[LANG_SELECTED]]\n",
        "sp = WhiteSpacePreprocessingStopwords(documents, stopwords_list = stopwords.stopwords(LANG_SELECTED))\n",
        "preprocessed_documents, unpreprocessed_corpus, vocab, __ = sp.preprocess()\n",
        "\n",
        "# Ensure same length for preprocessed and unpreprocessed\n",
        "print(len(preprocessed_documents), len(unpreprocessed_corpus))"
      ]
    },
    {
      "cell_type": "code",
      "execution_count": null,
      "metadata": {
        "id": "lzUzqgrB_F2N"
      },
      "outputs": [],
      "source": [
        "#stopwords.stopwords('hi')"
      ]
    },
    {
      "cell_type": "code",
      "execution_count": null,
      "metadata": {
        "id": "kHgQLW0hZwjS",
        "colab": {
          "base_uri": "https://localhost:8080/"
        },
        "outputId": "4292cc6e-10c2-4eef-9098-b26c9cc34fc4"
      },
      "outputs": [
        {
          "output_type": "stream",
          "name": "stdout",
          "text": [
            "['नागरिकों बनने स्वच्छ भारत बनाने आह्वान प्रधानमंत्री श्री नरेन्द्र मोदी '\n",
            " 'महात्मा गांधी साल पूरे अवसर राष्ट्रीय राजधानी',\n",
            " 'श्री वीं बैठक आज सम्पन्न हुई बैठक प्रधानमंत्री श्री नरेंद्र मोदी श्री आडवाणी '\n",
            " 'श्री शाह श्री भाई पटेल श्री पी',\n",
            " 'प्रधानमंत्री श्री नरेन्द्र मोदी अध्यक्षता मंत्रीमंडल बैठक दीनदयाल उपाध्याय '\n",
            " 'ग्राम योजना प्रारंभ आज अनुमति दी गई योजना तहत ग्रामीण क्षेत्रों',\n",
            " 'प्रधानमंत्री श्री नरेन्द्र मोदी आज दिन मुंबई आतंकी हमलों दौरान शहीद सलाम '\n",
            " 'जिन्होंने जिंदगी दे',\n",
            " 'जिला सौर ऊर्जा संयंत्र उद्घाटन किया प्रधानमंत्री मुद्रा योजना विशाल ऋण '\n",
            " 'उद्घाटन लाभार्थियों ऋण दस्तावेज मुद्रा सौ']\n"
          ]
        }
      ],
      "source": [
        "from pprint import pprint\n",
        "pprint(preprocessed_documents[:5])"
      ]
    },
    {
      "cell_type": "markdown",
      "metadata": {
        "id": "rnIptVxk0F4n"
      },
      "source": [
        "We don't discard the non-preprocessed hindi texts, because we are going to use them as input for obtaining the **contextualized** document representations. We will now pass our files with preprocess and unpreprocessed data to our TopicModelDataPreparation object. This object takes care of creating the bag of words and obtains the contextualized BERT representations of documents. This operation allows us to create our training dataset.\n",
        "\n",
        "Note: Here we use the contextualized model \"ai4bharat/indic-bert\", because we need a multilingual model for indic languages for performing cross-lingual predictions later.\n",
        "\n"
      ]
    },
    {
      "cell_type": "markdown",
      "metadata": {
        "id": "C5dx85bGx7eu"
      },
      "source": [
        "*Training ZeroshotTM*"
      ]
    },
    {
      "cell_type": "code",
      "execution_count": null,
      "metadata": {
        "id": "es7y5swOOtDZ"
      },
      "outputs": [],
      "source": [
        "from contextualized_topic_models.utils import data_preparation as dp\n",
        "import numpy as np\n",
        "from sentence_transformers import SentenceTransformer\n",
        "import scipy.sparse\n",
        "import warnings\n",
        "from contextualized_topic_models.datasets.dataset import CTMDataset\n",
        "from sklearn.feature_extraction.text import CountVectorizer\n",
        "from sklearn.preprocessing import OneHotEncoder\n",
        "\n",
        "class TopicModelDataPreparation(TopicModelDataPreparation):\n",
        "      def custom_analyzer(self, text):\n",
        "        \"\"\"\n",
        "        code source: https://stackoverflow.com/questions/60763030\n",
        "                  having-an-issue-in-doing-count-vectorization-for-hindi-text\n",
        "        \"\"\"\n",
        "        words = regex.findall(r'\\w{2,}', text) # extract words of at least 2 letters\n",
        "        for w in words:\n",
        "          yield w\n",
        "\n",
        "      def fit(self, text_for_contextual, text_for_bow, labels=None, custom_embeddings=None):\n",
        "        \"\"\"\n",
        "        This method fits the vectorizer and gets the embeddings from the contextual model\n",
        "        :param text_for_contextual: list of unpreprocessed documents to generate the contextualized embeddings\n",
        "        :param text_for_bow: list of preprocessed documents for creating the bag-of-words\n",
        "        :param custom_embeddings: np.ndarray type object to use custom embeddings (optional).\n",
        "        :param labels: list of labels associated with each document (optional).\n",
        "        \"\"\"\n",
        "\n",
        "        if custom_embeddings is not None:\n",
        "            assert len(text_for_contextual) == len(custom_embeddings)\n",
        "\n",
        "            if text_for_bow is not None:\n",
        "                assert len(custom_embeddings) == len(text_for_bow)\n",
        "\n",
        "            if type(custom_embeddings).__module__ != 'numpy':\n",
        "                raise TypeError(\"contextualized_embeddings must be a numpy.ndarray type object\")\n",
        "\n",
        "        if text_for_bow is not None:\n",
        "            assert len(text_for_contextual) == len(text_for_bow)\n",
        "\n",
        "        if self.contextualized_model is None and custom_embeddings is None:\n",
        "            raise Exception(\"A contextualized model or contextualized embeddings must be defined\")\n",
        "\n",
        "        # TODO: this count vectorizer removes tokens that have len = 1, might be unexpected for the users\n",
        "        self.vectorizer = CountVectorizer(analyzer = self.custom_analyzer)\n",
        "\n",
        "        train_bow_embeddings = self.vectorizer.fit_transform(text_for_bow)\n",
        "\n",
        "        # if the user is passing custom embeddings we don't need to create the embeddings using the model\n",
        "        if custom_embeddings is None:\n",
        "            train_contextualized_embeddings = dp.bert_embeddings_from_list(\n",
        "                text_for_contextual, sbert_model_to_load=self.contextualized_model, max_seq_length=self.max_seq_length)\n",
        "        else:\n",
        "            train_contextualized_embeddings = custom_embeddings\n",
        "        self.vocab = self.vectorizer.get_feature_names()\n",
        "        self.id2token = {k: v for k, v in zip(range(0, len(self.vocab)), self.vocab)}\n",
        "\n",
        "        if labels:\n",
        "            self.label_encoder = OneHotEncoder()\n",
        "            encoded_labels = self.label_encoder.fit_transform(np.array([labels]).reshape(-1, 1))\n",
        "        else:\n",
        "            encoded_labels = None\n",
        "        return CTMDataset(\n",
        "            X_contextual=train_contextualized_embeddings, X_bow=train_bow_embeddings,\n",
        "            idx2token=self.id2token, labels=encoded_labels)"
      ]
    },
    {
      "cell_type": "code",
      "execution_count": null,
      "metadata": {
        "id": "GO-88XsA0G6m",
        "colab": {
          "base_uri": "https://localhost:8080/",
          "height": 426,
          "referenced_widgets": [
            "b184b7de29274f50a5405f0e77761819",
            "dca8b6be2f1f4611b4fc157779ca8871",
            "f9dfc745a50f472d87672d75a6d39ef7",
            "bf6d7c853e0e464587c419f4b197b96f",
            "99b33979a8d14b49abe95c16086cdbac",
            "a5964f90ef434e859ebc51d033287d48",
            "e9c3506deed6482ca9c3f3da5bc1129c",
            "f1cf41731abf46d4b04e351463abfe91",
            "c0e899ffdd234ba88c1c3818ff304b1b",
            "dee4c866123f4614bf914d47e825edfe",
            "e775ca1e9c564dfdab997de06abff36f",
            "fff3d411ed4e4bf7915cd2bc78ddedbf",
            "a33c68d05b3c47678ac855ef8725a97c",
            "e32d076ab2964fdcb96749b1221b1559",
            "dd9709a0fce44b98b349154e3a036db0",
            "8ce9ec13481c4dca8a3deb5ec1cc583a",
            "f7e2af7aa17049e49f2eda39e0ea85ba",
            "90d15836b66a48b6a2a204721ee546f4",
            "91df305f0e6d40a8b8b04f24e291af8f",
            "0c7ed3b6749e4caf90d7ce350fa1d89d",
            "912b607224ec4d57beec083a857cae8b",
            "034d554207b449e688f763b8cb366e79",
            "8de454cb03794bf38c6633850e031d44",
            "f1d5fc8cdaae499887985b6ead7073ff",
            "9a0f1d8663ae47bea59cdf58172d0cad",
            "d23c9797b09844169451d4f7a8af0bdf",
            "7973d0d751744f048f456c7ad7efae94",
            "bf4108bcac124c4f9ecc13e9661f34de",
            "8262217b75ce419f83701ed39b4e5fc7",
            "09f3d348127b4486848f158061aeda5f",
            "94d1a1224c394085a0d99ccb9167de9e",
            "9dcc67e190944de6b5a60fb5727f6ade",
            "e159290bb80346b4a16886ceee56c01d",
            "0baaadeb97274776875beb9c8bb89b74",
            "67f29af4ba724edb99640b5c17094675",
            "68613beed379417abcb4d0b7a042d79e",
            "2c794f2ad29e4989814866f986567347",
            "4f867eac84224da8b7558fb588302d78",
            "69ef21523f7747959f4eb09f191f1b4d",
            "2e90937cb18c42638b3c03a49ed89ccf",
            "7f56d71b9d444ea2b4441184dbc37757",
            "4e2237ed0a284cd58310c8f5ca5e6652",
            "f75fdda70903415ba9ca35eedb7cd0e8",
            "e7d624b082874d22bf6e7cb4d691cc0d",
            "a81b678ed95e4da68808966a924e9485",
            "83710a94cf69468b8ca12e12be9d2d0f",
            "04632d8f8bdb486789e04f7c609b5e90",
            "d87ff37bd8f844278b2e40be76c3745b",
            "91a8f531c12a40e4ab833f42f366e9df",
            "bc275e29b5a64d248f3bd12a55ed7675",
            "19e5bf22800443a3b93f862d31669bd7",
            "2bf43c241e8a4ec18d07f092b96f3909",
            "00e5efc4e07d40bb9909c4d42e4c262b",
            "a4c484f299114c4cb1735b26aaa1d668",
            "dec5c83c23e44e9cb2c7ce807ef52ccb",
            "66748e77868e4d39b8b9f1c185f61dc5",
            "c14bb8f44536431daa41ce4d716d45cf",
            "317085fc73054800b4cf321805347f36",
            "f4497bf1ac444b26b755368766961e0d",
            "19ec163338044e559959f280dd9a5eba",
            "a9b45bcd3c4542029d2453488b8c6c2c",
            "cbc836ce3d8445cb85ef9361e9508e0e",
            "11fe754aa60e44d1bcbd4c40e0ef230c",
            "2ca6f0ece55c43a29ccf923bad34b13e",
            "b08de4f765aa407e8df02600d18cd2b9",
            "00a1af4b09c84ede8a997dae01411c7e",
            "3a7f5db86fa44fef83cc739612bf4711",
            "af00b3fae4f4416d98fe16d3584cfe0d",
            "abc9ce9c53624a6399a1b39d506a99a5",
            "46e85adb792d448ca9d9f016459d9c81",
            "283a08252e274c7e811e4397a8e2f06f",
            "98ddaed247d9462b8bb6a39b6e93ac97",
            "54ff370d2f364021a687765a52cc3765",
            "d626132bccc54615a8de0320e623781a",
            "3d6581cd6b3c4e4f880c346ca5b879ec",
            "072b20025b87476e9667f22d431470ed",
            "cca0a9e0b026462a9f5d2fdd25fd5e20",
            "c6dd6a83f5aa4ddfaafd093a2b9e89f8",
            "c85584e00845450c9f031dfece367944",
            "16940b162a1644fab25eb2c2092c45fd",
            "8745541416b148dca6034513502310d9",
            "61d804a3cd504979a73c58a4beb7464d",
            "fe395b9d43d64a24a31418a540fbb1eb",
            "dce2cdd231ce4c7c88f54fed18737ad6",
            "a48ef96582e4408e9042e0c9cc37b2da",
            "60436e974acd4d5fa64b2561013905c5",
            "7e822315f57144ad8783ad55798a9afc",
            "d88dafff4bf84c9d9e03883662af2d8c",
            "9c6b7f1d8b524ed7aa5ec15d55c91872",
            "a29cf81dd71048e7828085397234c37a",
            "802136887ba44e2c8d052c6476131369",
            "b783f86fdc5f4975b83336b879bd62de",
            "4e5be4df8b6f4e1282ffd1897ac7d012",
            "c5f2f6c14fdc4b8f819f6c2d7ecf964b",
            "341ffa07c4a54a6c977ded48981c5346",
            "99c0e7ca8c8d4f188052e068f48a078f",
            "c4c33ee3022748cf9f1c510f00ecb674",
            "018d5a41553a4659a577a1a6ebd3bd8f",
            "a29e7fe400574977b2e9966f5b60e863",
            "db3257f074944f00b78c5ae360d11822",
            "fa2b4be4690e43cdb71c1e9884b08848",
            "c47d3ef6c4a94cbfa49d25aac8732e47",
            "85ce43bf8c9944c0a9b6faf33e459c92",
            "d929e8f3141244e0bb8c672d4db09324",
            "00a78d5a325747779ee401d97e3fbae3",
            "f83ee45cc7e0499fa95b38ae721fe58a",
            "f3607cb40d7a4aeeae5c9e3eb01425a7",
            "eca26916b48f4523acb9428cbf7e1073",
            "48ba70ed36ff4b268acb6bf4f74725e6",
            "6edea9b226d8406aa88b2e0c4540c466"
          ]
        },
        "outputId": "e2c36a24-c331-483c-d10c-09b923acecbd"
      },
      "outputs": [
        {
          "output_type": "display_data",
          "data": {
            "text/plain": [
              "Downloading:   0%|          | 0.00/345 [00:00<?, ?B/s]"
            ],
            "application/vnd.jupyter.widget-view+json": {
              "version_major": 2,
              "version_minor": 0,
              "model_id": "b184b7de29274f50a5405f0e77761819"
            }
          },
          "metadata": {}
        },
        {
          "output_type": "display_data",
          "data": {
            "text/plain": [
              "Downloading:   0%|          | 0.00/4.83k [00:00<?, ?B/s]"
            ],
            "application/vnd.jupyter.widget-view+json": {
              "version_major": 2,
              "version_minor": 0,
              "model_id": "fff3d411ed4e4bf7915cd2bc78ddedbf"
            }
          },
          "metadata": {}
        },
        {
          "output_type": "display_data",
          "data": {
            "text/plain": [
              "Downloading:   0%|          | 0.00/507 [00:00<?, ?B/s]"
            ],
            "application/vnd.jupyter.widget-view+json": {
              "version_major": 2,
              "version_minor": 0,
              "model_id": "8de454cb03794bf38c6633850e031d44"
            }
          },
          "metadata": {}
        },
        {
          "output_type": "display_data",
          "data": {
            "text/plain": [
              "Downloading:   0%|          | 0.00/135M [00:00<?, ?B/s]"
            ],
            "application/vnd.jupyter.widget-view+json": {
              "version_major": 2,
              "version_minor": 0,
              "model_id": "0baaadeb97274776875beb9c8bb89b74"
            }
          },
          "metadata": {}
        },
        {
          "output_type": "display_data",
          "data": {
            "text/plain": [
              "Downloading:   0%|          | 0.00/5.65M [00:00<?, ?B/s]"
            ],
            "application/vnd.jupyter.widget-view+json": {
              "version_major": 2,
              "version_minor": 0,
              "model_id": "a81b678ed95e4da68808966a924e9485"
            }
          },
          "metadata": {}
        },
        {
          "output_type": "display_data",
          "data": {
            "text/plain": [
              "Downloading:   0%|          | 0.00/5.59M [00:00<?, ?B/s]"
            ],
            "application/vnd.jupyter.widget-view+json": {
              "version_major": 2,
              "version_minor": 0,
              "model_id": "66748e77868e4d39b8b9f1c185f61dc5"
            }
          },
          "metadata": {}
        },
        {
          "output_type": "display_data",
          "data": {
            "text/plain": [
              "Downloading:   0%|          | 0.00/400M [00:00<?, ?B/s]"
            ],
            "application/vnd.jupyter.widget-view+json": {
              "version_major": 2,
              "version_minor": 0,
              "model_id": "3a7f5db86fa44fef83cc739612bf4711"
            }
          },
          "metadata": {}
        },
        {
          "output_type": "display_data",
          "data": {
            "text/plain": [
              "Downloading:   0%|          | 0.00/1.87k [00:00<?, ?B/s]"
            ],
            "application/vnd.jupyter.widget-view+json": {
              "version_major": 2,
              "version_minor": 0,
              "model_id": "c6dd6a83f5aa4ddfaafd093a2b9e89f8"
            }
          },
          "metadata": {}
        },
        {
          "output_type": "display_data",
          "data": {
            "text/plain": [
              "Downloading:   0%|          | 0.00/2.20M [00:00<?, ?B/s]"
            ],
            "application/vnd.jupyter.widget-view+json": {
              "version_major": 2,
              "version_minor": 0,
              "model_id": "9c6b7f1d8b524ed7aa5ec15d55c91872"
            }
          },
          "metadata": {}
        },
        {
          "output_type": "stream",
          "name": "stderr",
          "text": [
            "WARNING:sentence_transformers.SentenceTransformer:No sentence-transformers model found with name /root/.cache/torch/sentence_transformers/ai4bharat_indic-bert. Creating a new one with MEAN pooling.\n",
            "Some weights of the model checkpoint at /root/.cache/torch/sentence_transformers/ai4bharat_indic-bert were not used when initializing AlbertModel: ['predictions.LayerNorm.weight', 'predictions.dense.bias', 'predictions.decoder.bias', 'sop_classifier.classifier.bias', 'sop_classifier.classifier.weight', 'predictions.decoder.weight', 'predictions.LayerNorm.bias', 'predictions.bias', 'predictions.dense.weight']\n",
            "- This IS expected if you are initializing AlbertModel from the checkpoint of a model trained on another task or with another architecture (e.g. initializing a BertForSequenceClassification model from a BertForPreTraining model).\n",
            "- This IS NOT expected if you are initializing AlbertModel from the checkpoint of a model that you expect to be exactly identical (initializing a BertForSequenceClassification model from a BertForSequenceClassification model).\n"
          ]
        },
        {
          "output_type": "display_data",
          "data": {
            "text/plain": [
              "Batches:   0%|          | 0/21 [00:00<?, ?it/s]"
            ],
            "application/vnd.jupyter.widget-view+json": {
              "version_major": 2,
              "version_minor": 0,
              "model_id": "db3257f074944f00b78c5ae360d11822"
            }
          },
          "metadata": {}
        }
      ],
      "source": [
        "# Load Indic Multilingual embeddings \n",
        "tp = TopicModelDataPreparation('ai4bharat/indic-bert')\n",
        "tp.max_seq_length = 200\n",
        "\n",
        "# Building training dataset\n",
        "training_dataset = tp.fit(text_for_contextual=unpreprocessed_corpus, text_for_bow=preprocessed_documents)"
      ]
    },
    {
      "cell_type": "code",
      "execution_count": null,
      "metadata": {
        "id": "gA_qiZ7gb0-O",
        "colab": {
          "base_uri": "https://localhost:8080/"
        },
        "outputId": "b4bd3fcc-fae8-407c-979f-106019c780de"
      },
      "outputs": [
        {
          "output_type": "stream",
          "name": "stdout",
          "text": [
            "/root\n"
          ]
        }
      ],
      "source": [
        "%cd\n",
        "!mkdir /content/models"
      ]
    },
    {
      "cell_type": "code",
      "execution_count": null,
      "metadata": {
        "id": "8fmUu7dz_btU",
        "colab": {
          "base_uri": "https://localhost:8080/"
        },
        "outputId": "864f7118-1d7e-4424-d347-38ab49c7595c"
      },
      "outputs": [
        {
          "output_type": "stream",
          "name": "stderr",
          "text": [
            "Epoch: [24/100]\t Seen Samples: [95232/400300]\tTrain Loss: 144.72921826762538\tTime: 0:00:01.000268: : 24it [00:23,  1.01it/s]"
          ]
        }
      ],
      "source": [
        "# Train over 100 epochs\n",
        "# Save model \n",
        "import joblib \n",
        "\n",
        "### HINDI : 25 TOPICS ###\n",
        "z_ctm_25_HI = ZeroShotTM(bow_size=len(tp.vocab), n_components = 25, contextual_size=768, num_epochs=100)\n",
        "\n",
        "z_ctm_25_HI.fit(training_dataset, n_samples = 30) # run the model\n",
        "z_ctm_25_HI.save(\"./\") # save the model\n",
        "joblib.dump(z_ctm_25_HI, '/content/z_ctm_25_HI.pkl')\n",
        "\n",
        "\n",
        "# ### HINDI : 50 TOPICS ###\n",
        "z_ctm_50_HI = ZeroShotTM(bow_size=len(tp.vocab), n_components = 50, contextual_size=768, num_epochs=100)\n",
        "\n",
        "z_ctm_50_HI.fit(training_dataset, n_samples = 30) # run the model\n",
        "z_ctm_50_HI.save(\"./\") # save the model\n",
        "joblib.dump(z_ctm_50_HI, '/content/z_ctm_50_HI.pkl')"
      ]
    },
    {
      "cell_type": "markdown",
      "metadata": {
        "id": "dqVQBpN5j66X"
      },
      "source": [
        "### Topic Predictions"
      ]
    },
    {
      "cell_type": "code",
      "execution_count": null,
      "metadata": {
        "id": "R6sUw2sEjtwU"
      },
      "outputs": [],
      "source": [
        "# See topic predictions per speech doc\n",
        "z_ctm_50_HI.get_topic_lists(5)[:4]"
      ]
    },
    {
      "cell_type": "markdown",
      "metadata": {
        "id": "lWLKRp0HtR4I"
      },
      "source": [
        "### PROBLEM\n",
        "Predicted topics do not make sense in the train language - Hindi. Preprocessing works just fine. Something is getting lost in translation during model fit. \n",
        "\n",
        "* PATH 1: Topics are inferences from text. (NLI?)\n",
        "* PATH 2: Topics are just words from within the text. (Extraction)\n",
        "* PATH 3: Topics are lemmetized versions of preprocessed tokens. \n",
        "\n",
        "\n",
        "> *What is topic modeling?*\n",
        "\n",
        "Topic modeling is an unsupervised machine learning technique that’s capable of scanning a set of documents, detecting word and phrase patterns within them, and automatically clustering word groups and similar expressions that best characterize a set of documents.\n",
        "\n",
        "src: Google"
      ]
    },
    {
      "cell_type": "code",
      "execution_count": null,
      "metadata": {
        "id": "aYjDfidEcwOr"
      },
      "outputs": [],
      "source": [
        "# See topic predictions per speech doc\n",
        "z_ctm_25_HI.get_topic_lists(5)[:4]"
      ]
    },
    {
      "cell_type": "code",
      "execution_count": null,
      "metadata": {
        "id": "d-ejLxGsnw5C"
      },
      "outputs": [],
      "source": [
        "# See topic predictions per speech doc\n",
        "z_ctm_50_HI.get_topic_lists(5)[:4]"
      ]
    },
    {
      "cell_type": "code",
      "execution_count": null,
      "metadata": {
        "id": "FEsfeGMl3d2I"
      },
      "outputs": [],
      "source": [
        "hi_topics_25 = open(\"hi_topics_25.csv\",\"w\")\n",
        "hi_topics_50 = open(\"hi_topics_50.csv\",\"w\")\n",
        "\n",
        "import csv\n",
        "wr1 = csv.writer(hi_topics_25)\n",
        "wr1.writerows(z_ctm_25_HI.get_topic_lists(5))\n",
        "\n",
        "wr = csv.writer(hi_topics_50)\n",
        "wr.writerows(z_ctm_50_HI.get_topic_lists(5))"
      ]
    },
    {
      "cell_type": "markdown",
      "metadata": {
        "id": "_akC5wVPvBa0"
      },
      "source": [
        "**Topic Results for Hindi ZeroShot TM translated to English**"
      ]
    },
    {
      "cell_type": "code",
      "execution_count": null,
      "metadata": {
        "id": "Rcbz3Jzau-lh"
      },
      "outputs": [],
      "source": [
        "# %cd ..\n",
        "# %cd ..\n",
        "# # clone the repo for running evaluation\n",
        "# !git clone https://github.com/AI4Bharat/indicTrans.git\n",
        "# %cd indicTrans\n",
        "# # clone requirements repositories\n",
        "# !git clone https://github.com/anoopkunchukuttan/indic_nlp_library.git\n",
        "# !git clone https://github.com/anoopkunchukuttan/indic_nlp_resources.git\n",
        "# !git clone https://github.com/rsennrich/subword-nmt.git"
      ]
    },
    {
      "cell_type": "code",
      "execution_count": null,
      "metadata": {
        "id": "i1-uKbXg16Kq"
      },
      "outputs": [],
      "source": [
        "# %cd .."
      ]
    },
    {
      "cell_type": "code",
      "execution_count": null,
      "metadata": {
        "id": "g7p3-Rl2zfIi"
      },
      "outputs": [],
      "source": [
        "# # Install the necessary libraries\n",
        "# !pip install sacremoses pandas mock sacrebleu tensorboardX pyarrow indic-nlp-library\n",
        "# ! pip install mosestokenizer subword-nmt\n",
        "# # Install fairseq from source\n",
        "# !git clone https://github.com/pytorch/fairseq.git"
      ]
    },
    {
      "cell_type": "code",
      "execution_count": null,
      "metadata": {
        "id": "5OgvX7Lu2ED5"
      },
      "outputs": [],
      "source": [
        "# %cd fairseq"
      ]
    },
    {
      "cell_type": "code",
      "execution_count": null,
      "metadata": {
        "id": "0Ei44_KK3Mmy"
      },
      "outputs": [],
      "source": [
        "# !pip install -U setuptools"
      ]
    },
    {
      "cell_type": "code",
      "execution_count": null,
      "metadata": {
        "id": "cBZoAWkh0X1j"
      },
      "outputs": [],
      "source": [
        "# !git checkout da9eaba12d82b9bfc1442f0e2c6fc1b895f4d35d\n",
        "!pip install ./\n",
        "!pip install xformers"
      ]
    },
    {
      "cell_type": "code",
      "execution_count": null,
      "metadata": {
        "id": "BhsuaL3Gzpxs"
      },
      "outputs": [],
      "source": [
        "# %cd ..\n",
        "# # add fairseq folder to python path\n",
        "# import os\n",
        "# os.environ['PYTHONPATH'] += \":/content/fairseq/\"\n",
        "# # sanity check to see if fairseq is installed\n",
        "# from fairseq import checkpoint_utils, distributed_utils, options, tasks, utils\n",
        "\n",
        "# # downloading the indic-en model\n",
        "# !wget https://storage.googleapis.com/samanantar-public/V0.3/models/indic-en.zip\n",
        "# !unzip indic-en.zip"
      ]
    },
    {
      "cell_type": "code",
      "execution_count": null,
      "metadata": {
        "id": "j1KNcNKY0lBy"
      },
      "outputs": [],
      "source": [
        "# %cd indicTrans\n",
        "# from indicTrans.inference.engine import Model\n",
        "# indic2en_model = Model(expdir='../indic-en')"
      ]
    },
    {
      "cell_type": "code",
      "execution_count": null,
      "metadata": {
        "id": "CrrTY9PQveYO"
      },
      "outputs": [],
      "source": [
        "# # 25 TOPICS\n",
        "# indic2en_model.batch_translate(z_ctm_25_HI.get_topic_lists(5)[:4], 'hi', 'en')    "
      ]
    },
    {
      "cell_type": "code",
      "execution_count": null,
      "metadata": {
        "id": "Sqdb0xX5vcip"
      },
      "outputs": [],
      "source": [
        "# # 50 TOPICS\n",
        "# indic2en_model.batch_translate(z_ctm_50_HI.get_topic_lists(5)[:4], 'hi', 'en')"
      ]
    },
    {
      "cell_type": "code",
      "execution_count": null,
      "metadata": {
        "id": "w25rY-2Oswg8"
      },
      "outputs": [],
      "source": [
        "pprint(preprocessed_documents[:4])"
      ]
    },
    {
      "cell_type": "code",
      "execution_count": null,
      "metadata": {
        "id": "uwYx_kW3oLun"
      },
      "outputs": [],
      "source": [
        "# Get NPMI Coherence\n",
        "from contextualized_topic_models.evaluation.measures import CoherenceNPMI\n",
        "texts = [doc.split() for doc in preprocessed_documents] # load text for NPMI\n",
        "\n",
        "### 25 TOPICS ###\n",
        "npmi_HI = CoherenceNPMI(texts=texts, topics=z_ctm_25_HI.get_topic_lists(25))\n",
        "print(npmi_HI.score())\n",
        "\n",
        "### 50 TOPICS ###\n",
        "npmi_50_HI = CoherenceNPMI(texts=texts, topics=z_ctm_50_HI.get_topic_lists(50))\n",
        "print(npmi_50_HI.score())\n",
        "\n",
        "# Store NPMI scores\n",
        "zeroshotNPMI_HI = [npmi_HI.score(), npmi_50_HI.score()]"
      ]
    },
    {
      "cell_type": "markdown",
      "metadata": {
        "id": "yJOkb0WAi617"
      },
      "source": [
        "###**English-Based ZeroshotTM**\n",
        "\n",
        "*Preprocessing*\n",
        "\n",
        "Why do we use the preprocessed text here? We need text without punctuation to build the bag of word. Also, we might want only to have the most frequent words inside the BoW. Too many words might not help."
      ]
    },
    {
      "cell_type": "code",
      "execution_count": null,
      "metadata": {
        "id": "0gQ4SObQLMin"
      },
      "outputs": [],
      "source": [
        "### ENGLISH ###\n",
        "LANG_SELECTED = 'en'\n",
        "\n",
        "# We select 200 tokens per speech\n",
        "NUM_TOKENS = 200\n",
        "\n",
        "# Download English Stopwords\n",
        "nltk.download('stopwords')\n",
        "\n",
        "# Run preprocessing script\n",
        "documents = [line[:NUM_TOKENS].strip() for line in train_speeches[LANG_SELECTED]]\n",
        "\n",
        "import nltk\n",
        "nltk.download('words')\n",
        "# preprocessed_documents\n",
        "words = set(nltk.corpus.words.words())\n",
        "\n",
        "documents = [\"\".join([word for word in doc if word.lower() in words or not word.isalpha()]) for doc in documents]\n",
        "\n",
        "sp = WhiteSpacePreprocessing(documents, stopwords_language='english')\n",
        "preprocessed_documents, unpreprocessed_corpus, vocab, __ = sp.preprocess()\n",
        "\n",
        "# Ensure same length for preprocessed and unpreprocessed\n",
        "print(len(preprocessed_documents), len(unpreprocessed_corpus))"
      ]
    },
    {
      "cell_type": "markdown",
      "metadata": {
        "id": "H904cm64wssn"
      },
      "source": [
        "We don't discard the non-preprocessed english texts, because we are going to use them as input for obtaining the **contextualized** document representations. We will now pass our files with preprocess and unpreprocessed data to our TopicModelDataPreparation object. This object takes care of creating the bag of words and obtains the contextualized BERT representations of documents. This operation allows us to create our training dataset.\n",
        "\n",
        "Note: Here we use the contextualized model \"ai4bharat/indic-bert\", because we need a multilingual model for indic languages for performing cross-lingual predictions later.\n",
        "\n"
      ]
    },
    {
      "cell_type": "code",
      "execution_count": null,
      "metadata": {
        "id": "Uj-7NMBgN2oW"
      },
      "outputs": [],
      "source": [
        "# Building training dataset\n",
        "tp = TopicModelDataPreparation(\"sentence-transformers/bert-base-nli-mean-tokens\")\n",
        "en_training = tp.fit(text_for_contextual=unpreprocessed_corpus, text_for_bow=preprocessed_documents)"
      ]
    },
    {
      "cell_type": "markdown",
      "metadata": {
        "id": "WLv6u6EklqNw"
      },
      "source": [
        "*Training ZeroshotTM*"
      ]
    },
    {
      "cell_type": "code",
      "execution_count": null,
      "metadata": {
        "id": "uYP1dTKrOFGy"
      },
      "outputs": [],
      "source": [
        "# Train over 100 epochs\n",
        "\n",
        "### ENGLISH : 25 TOPICS ###\n",
        "z_ctm_25_EN = ZeroShotTM(bow_size=len(tp.vocab), n_components = 25, contextual_size=768, num_epochs=100)\n",
        "z_ctm_25_EN.fit(en_training, n_samples=30) # run the model\n",
        "z_ctm_25_EN.save(\"./\") # save the model\n",
        "joblib.dump(z_ctm_25_EN, '/content/z_ctm_25_EN.pkl')\n",
        "\n",
        "### ENGLISH : 50 TOPICS ###\n",
        "z_ctm_50_EN = ZeroShotTM(bow_size=len(tp.vocab), n_components = 50, contextual_size=768, num_epochs=100)\n",
        "z_ctm_50_EN.fit(en_training, n_samples=30) # run the model\n",
        "z_ctm_50_EN.save(\"./\") # save the model\n",
        "joblib.dump(z_ctm_50_EN, '/content/z_ctm_50_EN.pkl')"
      ]
    },
    {
      "cell_type": "code",
      "execution_count": null,
      "metadata": {
        "id": "h9RD9Y3mVD2j"
      },
      "outputs": [],
      "source": [
        "#save model \n",
        "import joblib \n",
        "joblib.dump(z_ctm_50_EN, '../content/z_ctm_50_EN.pkl')"
      ]
    },
    {
      "cell_type": "markdown",
      "metadata": {
        "id": "YMHa8mAZjj3p"
      },
      "source": [
        "### Topic Prediction Examples"
      ]
    },
    {
      "cell_type": "code",
      "execution_count": null,
      "metadata": {
        "id": "mgZAySpvOy4N"
      },
      "outputs": [],
      "source": [
        "# See topic predictions per speech doc\n",
        "z_ctm_25_EN.get_topic_lists(5)[:4]"
      ]
    },
    {
      "cell_type": "code",
      "execution_count": null,
      "metadata": {
        "id": "u1aSe9afj3pN"
      },
      "outputs": [],
      "source": [
        "# See topic predictions per speech doc\n",
        "z_ctm_50_EN.get_topic_lists(5)[:4]"
      ]
    },
    {
      "cell_type": "markdown",
      "metadata": {
        "id": "i9PnZD8oouRq"
      },
      "source": [
        "# Coherence Results"
      ]
    },
    {
      "cell_type": "code",
      "execution_count": null,
      "metadata": {
        "id": "XQrm1TQXogzy"
      },
      "outputs": [],
      "source": [
        "# Get NPMI Coherence\n",
        "from contextualized_topic_models.evaluation.measures import CoherenceNPMI\n",
        "texts = [doc.split() for doc in preprocessed_documents] # load text for NPMI\n",
        "\n",
        "### 25 TOPICS ###-\n",
        "npmi_EN = CoherenceNPMI(texts=texts, topics=z_ctm_25_EN.get_topic_lists(25))\n",
        "print(npmi_EN.score())\n",
        "\n",
        "### 50 TOPICS ###\n",
        "npmi_50_EN = CoherenceNPMI(texts=texts, topics=z_ctm_50_EN.get_topic_lists(50))\n",
        "print(npmi_50_EN.score())\n",
        "\n",
        "# Store NPMI scores\n",
        "zeroshotNPMI_EN = [npmi_EN.score(), npmi_50_EN.score()]"
      ]
    },
    {
      "cell_type": "code",
      "execution_count": null,
      "metadata": {
        "id": "-wLgjEMMowtT"
      },
      "outputs": [],
      "source": [
        "# SHOW RESULTS\n",
        "NPMI = {\"ZeroShotTM for Hindi\" : zeroshotNPMI_HI,\n",
        "        \"ZeroShotTM for English\" : zeroshotNPMI_EN}\n",
        "\n",
        "npmi = pd.DataFrame.from_dict(NPMI, orient='index')\n",
        "print(\"NPMI Coherences\")\n",
        "npmi.set_axis([\"t(25)\", \"t(50)\"], axis = 1)"
      ]
    },
    {
      "cell_type": "markdown",
      "metadata": {
        "id": "YtQjoX9rENXT"
      },
      "source": [
        "# FastAPI Setup"
      ]
    },
    {
      "cell_type": "markdown",
      "metadata": {
        "id": "ObQcUg5fEbT5"
      },
      "source": [
        "**What is FastApi?**\n",
        "\n",
        "FastAPI offers automatic docs generation functionality, authentication, data validation via pydantic models.\n",
        "\n",
        "**Colab Code**\n",
        "\n",
        "It is a Python package that allows you to start a code server right from your Colab notebooks without setting up anything locally on your system. \n",
        "It can be used to start a VS Code environment, Jupyter Lab server, or tunnel the FastAPI server to the web, all in the colab notebook. \n",
        "\n",
        "This can be a great plus point for the enthusiast coders who train their models on the cloud and now want to share their findings with the world in the form of APIs. \n",
        "\n",
        "Python 3.11 instructions: https://peps.python.org/pep-0681/"
      ]
    },
    {
      "cell_type": "code",
      "execution_count": null,
      "metadata": {
        "id": "eNoBxHlXE2X6"
      },
      "outputs": [],
      "source": [
        "# %%capture\n",
        "# !pip install fastapi\n",
        "# !pip install colabcode\n",
        "# !pip install pyngrok"
      ]
    },
    {
      "cell_type": "code",
      "execution_count": null,
      "metadata": {
        "id": "hRmNcm0REVgA"
      },
      "outputs": [],
      "source": [
        "# from pydantic import BaseModel\n",
        "\n",
        "# # Create data class for input for data validation\n",
        "# class Document(BaseModel):\n",
        "#   input_text: str\n",
        "#   class Config:\n",
        "#     schema_extra = {\n",
        "#         \"example\": {\n",
        "#                 \"input_text\": \n",
        "#                 \"ਗੁਜਰਾਤ ਦੇ 50 ਮਹਿਲਾ ਮੋਟਰਸਾਈਕਲ ਸਵਾਰਾਂ ਦੇ ਗਰੁੱਪ ‘ਬਾਈਕਿੰਗ ਕਵੀਨਜ਼’ ਨੇ ਅੱਜ ਇੱਥੇ ਪ੍ਰਧਾਨ ਮੰਤਰੀ, ਸ਼੍ਰੀ ਨਰੇਂਦਰ ਮੋਦੀ ਨਾਲ ਮੁਲਾਕਾਤ ਕੀਤੀ।\"\\\n",
        "#                 \"ਗਰੁੱਪ ਦਾ ਕਹਿਣਾ ਹੈ ਕਿ ਉਨ੍ਹਾਂ ਨੇ 13 ਰਾਜਾਂ / ਕੇਂਦਰ ਸ਼ਾਸਤ ਪ੍ਰਦੇਸ਼ਾਂ ’ਚ 10,000 ਕਿਲੋਮੀਟਰ ਦਾ ਸਫਰ ਤੈਅ ਕਰਦਿਆਂ ਰਾਹ ਵਿੱਚ ਬੇਟੀ ਬਚਾਓ, ਬੇਟੀ ਪੜ੍ਹਾਓ ਅਤੇ ਸਵੱਛ ਭਾਰਤ\"\\\n",
        "#                 \"ਵਰਗੇ ਕਈ ਸਮਾਜਿਕ ਮੁੱਦਿਆਂ ’ਤੇ ਲੋਕਾਂ ਨਾਲ ਚਰਚਾ ਕੀਤੀ।\"\\\n",
        "#                 \"ਉਨ੍ਹਾਂ ਨੇ 15 ਅਗਸਤ 2017 ਨੂੰ ਲੱਦਾਖ ਦੇ ਖਰਦੁੰਗਲਾ ਵਿੱਖੇ ਤਿਰੰਗਾ ਲਹਿਰਾਇਆ।\"\\\n",
        "#                 \"ਪ੍ਰਧਾਨ ਮੰਤਰੀ ਨੇ ਉਨ੍ਹਾਂ ਦੇ ਯਤਨਾਂ ਦੀ ਪ੍ਰਸ਼ੰਸਾ ਕੀਤੀ ਅਤੇ ਉਨ੍ਹਾਂ ਦੇ ਚੰਗੇ ਭਵਿੱਖ ਦੀ ਕਾਮਨਾ ਕੀਤੀ।\"\n",
        "#             }\n",
        "#         }"
      ]
    },
    {
      "cell_type": "code",
      "execution_count": null,
      "metadata": {
        "id": "Rd89Bv4XEvsA"
      },
      "outputs": [],
      "source": [
        "# from starlette.responses import PlainTextResponse\n",
        "# # Create endpoint for serving requests using endpoint function\n",
        "# from fastapi import FastAPI, Response\n",
        "# from fastapi.responses import UJSONResponse\n",
        "# import joblib\n",
        "\n",
        "# app = FastAPI()\n",
        "\n",
        "\n",
        "# @app.on_event(\"startup\")\n",
        "# def load_model():\n",
        "#   global hindi_model_25\n",
        "#   global hindi_model_50\n",
        "#   global tp\n",
        "#   # Load Indic Multilingual embeddings\n",
        "#   tp = TopicModelDataPreparation('ai4bharat/indic-bert')\n",
        "#   tp.max_seq_length = 200\n",
        "\n",
        "#   file = open(\"/content/models/z_ctm_25_HI.pkl\", \"rb\")\n",
        "#   hindi_model_25 = joblib.load(file)\n",
        "#   hindi_model_50 = joblib.load(open(\"/content/models/z_ctm_50_HI.pkl\", \"rb\"))\n",
        "#   file.close()\n",
        "\n",
        "# @app.get('/')\n",
        "# def index():\n",
        "#   return {'message': 'This is the homepage of the API '}\n",
        "\n",
        "# @app.post('/predict')\n",
        "# def get_topic_predictions(data: Document):\n",
        "#   received = data.dict()\n",
        "#   text = list(received['input_text'])\n",
        "#   input_text = tp.transform(text)\n",
        "\n",
        "#   document_index = 1\n",
        "#   models = {'model_25': hindi_model_25, 'model_50': hindi_model_50}\n",
        "#   output = {}\n",
        "#   for name, model in models.items():\n",
        "#     pred_name = model.get_thetas(input_text, n_samples = 10)\n",
        "#     topic_number = np.argmax(pred_name[1]) # get the topic id of the first document\n",
        "#     predicted_topics = model.get_topic_lists()[topic_number] \n",
        "#     output['prediction_' + name] = predicted_topics\n",
        "\n",
        "#   return output"
      ]
    },
    {
      "cell_type": "code",
      "execution_count": null,
      "metadata": {
        "id": "rpMd1e8_L6JZ"
      },
      "outputs": [],
      "source": [
        "# %%bash \n",
        "# ngrok authtoken 2HjWU6F1LiLRalwg0UqTl8iPD24_Pun7DFWSgABowbjkBSCj"
      ]
    },
    {
      "cell_type": "markdown",
      "metadata": {
        "id": "OdRoSV11qEmR"
      },
      "source": []
    },
    {
      "cell_type": "code",
      "execution_count": null,
      "metadata": {
        "id": "nS0pLspSIIaF"
      },
      "outputs": [],
      "source": [
        "# # Spin Colab server using ColabCode\n",
        "# from colabcode import ColabCode\n",
        "# server = ColabCode(port=10000, code=False)\n",
        "# server.run_app(app=app)"
      ]
    },
    {
      "cell_type": "markdown",
      "metadata": {
        "id": "ID4xeEywiyE1"
      },
      "source": [
        "# Predictions and Evaluation\n",
        "###**Unseen Multilingual  Corpora Predictions**\n",
        "\n",
        "*Languages*\n",
        "\n",
        "* Assamese - as\n",
        "* Bengali - bn\n",
        "* English - en\n",
        "* Gujarati - gu\n",
        "* Hindi - hi\n",
        "* Kannada - kn\n",
        "* Malayalam - ml\n",
        "* Marathi - mr\n",
        "* Oriya - or\n",
        "* Punjabi - pa\n",
        "* Tamil - ta\n",
        "* Telugu - te"
      ]
    },
    {
      "cell_type": "code",
      "execution_count": null,
      "metadata": {
        "id": "IcyhlPNu3CiQ"
      },
      "outputs": [],
      "source": [
        "# Convert test files into test datasets\n",
        "as_testset = tp.transform(parallel_speeches['as'])\n",
        "bn_testset = tp.transform(parallel_speeches['bn'])\n",
        "en_testset = tp.transform(parallel_speeches['en'])\n",
        "gu_testset = tp.transform(parallel_speeches['gu'])\n",
        "hi_testset = tp.transform(parallel_speeches['hi'])\n",
        "kn_testset = tp.transform(parallel_speeches['kn'])\n",
        "ml_testset = tp.transform(parallel_speeches['ml'])\n",
        "mr_testset = tp.transform(parallel_speeches['mr'])\n",
        "or_testset = tp.transform(parallel_speeches['or'])\n",
        "pa_testset = tp.transform(parallel_speeches['pa'])\n",
        "ta_testset = tp.transform(parallel_speeches['ta'])\n",
        "te_testset = tp.transform(parallel_speeches['te'])"
      ]
    },
    {
      "cell_type": "markdown",
      "metadata": {
        "id": "Vq0rRIiuo6Qx"
      },
      "source": [
        "###**Topic Predictions**\n",
        "\n",
        "*Hindi*"
      ]
    },
    {
      "cell_type": "code",
      "execution_count": null,
      "metadata": {
        "id": "gy-tDYkpcDcT"
      },
      "outputs": [],
      "source": [
        "### HINDI : 25 TOPIC PREDICTIONS ### \n",
        "as_topics_predictions = z_ctm_25_HI.get_thetas(as_testset, n_samples=100) # get all the topic predictions\n",
        "bn_topics_predictions = z_ctm_25_HI.get_thetas(bn_testset, n_samples=100) # get all the topic predictions\n",
        "en_topics_predictions = z_ctm_25_HI.get_thetas(en_testset, n_samples=100) # get all the topic predictions\n",
        "gu_topics_predictions = z_ctm_25_HI.get_thetas(gu_testset, n_samples=100) # get all the topic predictions\n",
        "hi_topics_predictions = z_ctm_25_HI.get_thetas(hi_testset, n_samples=100) # get all the topic predictions\n",
        "kn_topics_predictions = z_ctm_25_HI.get_thetas(kn_testset, n_samples=100) # get all the topic predictions\n",
        "ml_topics_predictions = z_ctm_25_HI.get_thetas(ml_testset, n_samples=100) # get all the topic predictions\n",
        "mr_topics_predictions = z_ctm_25_HI.get_thetas(mr_testset, n_samples=100) # get all the topic predictions\n",
        "or_topics_predictions = z_ctm_25_HI.get_thetas(or_testset, n_samples=100) # get all the topic predictions\n",
        "pa_topics_predictions = z_ctm_25_HI.get_thetas(pa_testset, n_samples=100) # get all the topic predictions\n",
        "ta_topics_predictions = z_ctm_25_HI.get_thetas(ta_testset, n_samples=100) # get all the topic predictions\n",
        "te_topics_predictions = z_ctm_25_HI.get_thetas(te_testset, n_samples=100) # get all the topic predictions\n",
        "\n",
        "topics_25_HI = {'as': as_topics_predictions, 'bn': bn_topics_predictions, \n",
        "             'en': en_topics_predictions, 'gu': gu_topics_predictions,\n",
        "             'hi': hi_topics_predictions, 'kn': kn_topics_predictions,\n",
        "             'ml': ml_topics_predictions, 'mr': mr_topics_predictions,\n",
        "             'or': or_topics_predictions, 'pa': pa_topics_predictions,\n",
        "             'ta': ta_topics_predictions, 'te': te_topics_predictions}"
      ]
    },
    {
      "cell_type": "code",
      "execution_count": null,
      "metadata": {
        "id": "d5ZFFpd43v6b"
      },
      "outputs": [],
      "source": [
        "### HINDI : 50 TOPIC PREDICTIONS ### \n",
        "as_topics_predictions = z_ctm_50_HI.get_thetas(as_testset, n_samples=100) # get all the topic predictions\n",
        "bn_topics_predictions = z_ctm_50_HI.get_thetas(bn_testset, n_samples=100) # get all the topic predictions\n",
        "en_topics_predictions = z_ctm_50_HI.get_thetas(en_testset, n_samples=100) # get all the topic predictions\n",
        "gu_topics_predictions = z_ctm_50_HI.get_thetas(gu_testset, n_samples=100) # get all the topic predictions\n",
        "hi_topics_predictions = z_ctm_50_HI.get_thetas(hi_testset, n_samples=100) # get all the topic predictions\n",
        "kn_topics_predictions = z_ctm_50_HI.get_thetas(kn_testset, n_samples=100) # get all the topic predictions\n",
        "ml_topics_predictions = z_ctm_50_HI.get_thetas(ml_testset, n_samples=100) # get all the topic predictions\n",
        "mr_topics_predictions = z_ctm_50_HI.get_thetas(mr_testset, n_samples=100) # get all the topic predictions\n",
        "or_topics_predictions = z_ctm_50_HI.get_thetas(or_testset, n_samples=100) # get all the topic predictions\n",
        "pa_topics_predictions = z_ctm_50_HI.get_thetas(pa_testset, n_samples=100) # get all the topic predictions\n",
        "ta_topics_predictions = z_ctm_50_HI.get_thetas(ta_testset, n_samples=100) # get all the topic predictions\n",
        "te_topics_predictions = z_ctm_50_HI.get_thetas(te_testset, n_samples=100) # get all the topic predictions\n",
        "\n",
        "topics_50_HI = {'as': as_topics_predictions, 'bn': bn_topics_predictions, \n",
        "             'en': en_topics_predictions, 'gu': gu_topics_predictions,\n",
        "             'hi': hi_topics_predictions, 'kn': kn_topics_predictions,\n",
        "             'ml': ml_topics_predictions, 'mr': mr_topics_predictions,\n",
        "             'or': or_topics_predictions, 'pa': pa_topics_predictions,\n",
        "             'ta': ta_topics_predictions, 'te': te_topics_predictions}"
      ]
    },
    {
      "cell_type": "markdown",
      "metadata": {
        "id": "t6Jom4sqpHyo"
      },
      "source": [
        "*English*"
      ]
    },
    {
      "cell_type": "code",
      "execution_count": null,
      "metadata": {
        "id": "8Abhs52LpLt3"
      },
      "outputs": [],
      "source": [
        "### ENGLISH : 25 TOPIC PREDICTIONS ### \n",
        "as_topics_predictions = z_ctm_25_EN.get_thetas(as_testset, n_samples=100) # get all the topic predictions\n",
        "bn_topics_predictions = z_ctm_25_EN.get_thetas(bn_testset, n_samples=100) # get all the topic predictions\n",
        "en_topics_predictions = z_ctm_25_EN.get_thetas(en_testset, n_samples=100) # get all the topic predictions\n",
        "gu_topics_predictions = z_ctm_25_EN.get_thetas(gu_testset, n_samples=100) # get all the topic predictions\n",
        "hi_topics_predictions = z_ctm_25_EN.get_thetas(hi_testset, n_samples=100) # get all the topic predictions\n",
        "kn_topics_predictions = z_ctm_25_EN.get_thetas(kn_testset, n_samples=100) # get all the topic predictions\n",
        "ml_topics_predictions = z_ctm_25_EN.get_thetas(ml_testset, n_samples=100) # get all the topic predictions\n",
        "mr_topics_predictions = z_ctm_25_EN.get_thetas(mr_testset, n_samples=100) # get all the topic predictions\n",
        "or_topics_predictions = z_ctm_25_EN.get_thetas(or_testset, n_samples=100) # get all the topic predictions\n",
        "pa_topics_predictions = z_ctm_25_EN.get_thetas(pa_testset, n_samples=100) # get all the topic predictions\n",
        "ta_topics_predictions = z_ctm_25_EN.get_thetas(ta_testset, n_samples=100) # get all the topic predictions\n",
        "te_topics_predictions = z_ctm_25_EN.get_thetas(te_testset, n_samples=100) # get all the topic predictions\n",
        "\n",
        "topics_25_EN = {'as': as_topics_predictions, 'bn': bn_topics_predictions, \n",
        "             'en': en_topics_predictions, 'gu': gu_topics_predictions,\n",
        "             'hi': hi_topics_predictions, 'kn': kn_topics_predictions,\n",
        "             'ml': ml_topics_predictions, 'mr': mr_topics_predictions,\n",
        "             'or': or_topics_predictions, 'pa': pa_topics_predictions,\n",
        "             'ta': ta_topics_predictions, 'te': te_topics_predictions}"
      ]
    },
    {
      "cell_type": "code",
      "execution_count": null,
      "metadata": {
        "id": "QnJLxNixpL9R"
      },
      "outputs": [],
      "source": [
        "### ENGLISH : 50 TOPIC PREDICTIONS ### \n",
        "as_topics_predictions = z_ctm_50_EN.get_thetas(as_testset, n_samples=100) # get all the topic predictions\n",
        "bn_topics_predictions = z_ctm_50_EN.get_thetas(bn_testset, n_samples=100) # get all the topic predictions\n",
        "en_topics_predictions = z_ctm_50_EN.get_thetas(en_testset, n_samples=100) # get all the topic predictions\n",
        "gu_topics_predictions = z_ctm_50_EN.get_thetas(gu_testset, n_samples=100) # get all the topic predictions\n",
        "hi_topics_predictions = z_ctm_50_EN.get_thetas(hi_testset, n_samples=100) # get all the topic predictions\n",
        "kn_topics_predictions = z_ctm_50_EN.get_thetas(kn_testset, n_samples=100) # get all the topic predictions\n",
        "ml_topics_predictions = z_ctm_50_EN.get_thetas(ml_testset, n_samples=100) # get all the topic predictions\n",
        "mr_topics_predictions = z_ctm_50_EN.get_thetas(mr_testset, n_samples=100) # get all the topic predictions\n",
        "or_topics_predictions = z_ctm_50_EN.get_thetas(or_testset, n_samples=100) # get all the topic predictions\n",
        "pa_topics_predictions = z_ctm_50_EN.get_thetas(pa_testset, n_samples=100) # get all the topic predictions\n",
        "ta_topics_predictions = z_ctm_50_EN.get_thetas(ta_testset, n_samples=100) # get all the topic predictions\n",
        "te_topics_predictions = z_ctm_50_EN.get_thetas(te_testset, n_samples=100) # get all the topic predictions\n",
        "\n",
        "topics_50_EN = {'as': as_topics_predictions, 'bn': bn_topics_predictions, \n",
        "             'en': en_topics_predictions, 'gu': gu_topics_predictions,\n",
        "             'hi': hi_topics_predictions, 'kn': kn_topics_predictions,\n",
        "             'ml': ml_topics_predictions, 'mr': mr_topics_predictions,\n",
        "             'or': or_topics_predictions, 'pa': pa_topics_predictions,\n",
        "             'ta': ta_topics_predictions, 'te': te_topics_predictions}"
      ]
    },
    {
      "cell_type": "markdown",
      "metadata": {
        "id": "1EyO4qpXm4Nj"
      },
      "source": [
        "### **Quantitative Evaluation**"
      ]
    },
    {
      "cell_type": "code",
      "execution_count": null,
      "metadata": {
        "id": "PUHdC6ztmzr5"
      },
      "outputs": [],
      "source": [
        "# Import metrics\n",
        "from contextualized_topic_models.evaluation.measures import Matches, KLDivergence, CentroidDistance\n",
        "import warnings\n",
        "warnings.filterwarnings('ignore')"
      ]
    },
    {
      "cell_type": "markdown",
      "metadata": {
        "id": "rJvWmhANeWea"
      },
      "source": [
        "1. **Matches**\n",
        "\n",
        "> Matches is the % of times the predicted topic for the non-English test document is the same as for the respective test document in English. The higher the scores, the better."
      ]
    },
    {
      "cell_type": "markdown",
      "metadata": {
        "id": "X0BmiGNcrVKD"
      },
      "source": [
        "*Hindi*"
      ]
    },
    {
      "cell_type": "code",
      "execution_count": null,
      "metadata": {
        "id": "aF2GPx1_5Mal"
      },
      "outputs": [],
      "source": [
        "# HINDI : Matches for 25 topics\n",
        "hi_as_matches = Matches(topics_25_HI['hi'], topics_25_HI['as'])\n",
        "hi_bn_matches = Matches(topics_25_HI['hi'], topics_25_HI['bn'])\n",
        "hi_en_matches = Matches(topics_25_HI['hi'], topics_25_HI['en'])\n",
        "hi_gu_matches = Matches(topics_25_HI['hi'], topics_25_HI['gu'])\n",
        "hi_kn_matches = Matches(topics_25_HI['hi'], topics_25_HI['kn'])\n",
        "hi_ml_matches = Matches(topics_25_HI['hi'], topics_25_HI['ml'])\n",
        "hi_mr_matches = Matches(topics_25_HI['hi'], topics_25_HI['mr'])\n",
        "hi_or_matches = Matches(topics_25_HI['hi'], topics_25_HI['or'])\n",
        "hi_pa_matches = Matches(topics_25_HI['hi'], topics_25_HI['pa'])\n",
        "hi_ta_matches = Matches(topics_25_HI['hi'], topics_25_HI['ta'])\n",
        "hi_te_matches = Matches(topics_25_HI['hi'], topics_25_HI['te'])\n",
        "\n",
        "\n",
        "matches_25_HI = {'as': hi_as_matches.score(), 'bn': hi_bn_matches.score(), \n",
        "             'en': hi_en_matches.score(), 'gu': hi_gu_matches.score(),\n",
        "             'kn': hi_kn_matches.score(),\n",
        "             'ml': hi_ml_matches.score(), 'mr': hi_mr_matches.score(),\n",
        "             'or': hi_or_matches.score(), 'pa': hi_pa_matches.score(),\n",
        "             'ta': hi_ta_matches.score(), 'te': hi_te_matches.score()}\n",
        "matches_25_HI"
      ]
    },
    {
      "cell_type": "code",
      "execution_count": null,
      "metadata": {
        "id": "m1EIO1fdfWQ0"
      },
      "outputs": [],
      "source": [
        "# Average Matches for 25 topics\n",
        "average_matches_25_HI = sum(matches_25_HI.values())/len(matches_25_HI.keys())"
      ]
    },
    {
      "cell_type": "code",
      "execution_count": null,
      "metadata": {
        "id": "WLw8Xkt5dElD"
      },
      "outputs": [],
      "source": [
        "# HINDI : Matches for 50 topics\n",
        "hi_as_matches = Matches(topics_50_HI['hi'], topics_50_HI['as'])\n",
        "hi_bn_matches = Matches(topics_50_HI['hi'], topics_50_HI['bn'])\n",
        "hi_en_matches = Matches(topics_50_HI['hi'], topics_50_HI['en'])\n",
        "hi_gu_matches = Matches(topics_50_HI['hi'], topics_50_HI['gu'])\n",
        "hi_kn_matches = Matches(topics_50_HI['hi'], topics_50_HI['kn'])\n",
        "hi_ml_matches = Matches(topics_50_HI['hi'], topics_50_HI['ml'])\n",
        "hi_mr_matches = Matches(topics_50_HI['hi'], topics_50_HI['mr'])\n",
        "hi_or_matches = Matches(topics_50_HI['hi'], topics_50_HI['or'])\n",
        "hi_pa_matches = Matches(topics_50_HI['hi'], topics_50_HI['pa'])\n",
        "hi_ta_matches = Matches(topics_50_HI['hi'], topics_50_HI['ta'])\n",
        "hi_te_matches = Matches(topics_50_HI['hi'], topics_50_HI['te'])\n",
        "\n",
        "\n",
        "matches_50_HI = {'as': hi_as_matches.score(), 'bn': hi_bn_matches.score(), \n",
        "             'en': hi_en_matches.score(), 'gu': hi_gu_matches.score(),\n",
        "             'kn': hi_kn_matches.score(),\n",
        "             'ml': hi_ml_matches.score(), 'mr': hi_mr_matches.score(),\n",
        "             'or': hi_or_matches.score(), 'pa': hi_pa_matches.score(),\n",
        "             'ta': hi_ta_matches.score(), 'te': hi_te_matches.score()}\n",
        "matches_50_HI"
      ]
    },
    {
      "cell_type": "code",
      "execution_count": null,
      "metadata": {
        "id": "wDVjptxefs1N"
      },
      "outputs": [],
      "source": [
        "# Average Matches for 50 topics\n",
        "average_matches_50_HI = sum(matches_50_HI.values())/len(matches_50_HI.keys())"
      ]
    },
    {
      "cell_type": "markdown",
      "metadata": {
        "id": "o862P3oerW-8"
      },
      "source": [
        "*English*"
      ]
    },
    {
      "cell_type": "code",
      "execution_count": null,
      "metadata": {
        "id": "0-D9lipprab7"
      },
      "outputs": [],
      "source": [
        "# ENGLISH : Matches for 25 topics\n",
        "en_as_matches = Matches(topics_25_EN['en'], topics_25_EN['as'])\n",
        "en_bn_matches = Matches(topics_25_EN['en'], topics_25_EN['bn'])\n",
        "en_hi_matches = Matches(topics_25_EN['en'], topics_25_EN['hi'])\n",
        "en_gu_matches = Matches(topics_25_EN['en'], topics_25_EN['gu'])\n",
        "en_kn_matches = Matches(topics_25_EN['en'], topics_25_EN['kn'])\n",
        "en_ml_matches = Matches(topics_25_EN['en'], topics_25_EN['ml'])\n",
        "en_mr_matches = Matches(topics_25_EN['en'], topics_25_EN['mr'])\n",
        "en_or_matches = Matches(topics_25_EN['en'], topics_25_EN['or'])\n",
        "en_pa_matches = Matches(topics_25_EN['en'], topics_25_EN['pa'])\n",
        "en_ta_matches = Matches(topics_25_EN['en'], topics_25_EN['ta'])\n",
        "en_te_matches = Matches(topics_25_EN['en'], topics_25_EN['te'])\n",
        "\n",
        "\n",
        "matches_25_EN = {'as': en_as_matches.score(), 'bn': en_bn_matches.score(), \n",
        "             'en': en_hi_matches.score(), 'gu': en_gu_matches.score(),\n",
        "             'kn': en_kn_matches.score(),\n",
        "             'ml': en_ml_matches.score(), 'mr': en_mr_matches.score(),\n",
        "             'or': en_or_matches.score(), 'pa': en_pa_matches.score(),\n",
        "             'ta': en_ta_matches.score(), 'te': en_te_matches.score()}\n",
        "matches_25_EN"
      ]
    },
    {
      "cell_type": "code",
      "execution_count": null,
      "metadata": {
        "id": "lKSNKSixfxxG"
      },
      "outputs": [],
      "source": [
        "# Average Matches for 25 topics\n",
        "average_matches_25_EN = sum(matches_25_EN.values())/len(matches_25_EN.keys())"
      ]
    },
    {
      "cell_type": "code",
      "execution_count": null,
      "metadata": {
        "id": "3REUgwm-ryeG"
      },
      "outputs": [],
      "source": [
        "# ENGLISH : Matches for 50 topics\n",
        "en_as_matches = Matches(topics_50_EN['en'], topics_50_EN['as'])\n",
        "en_bn_matches = Matches(topics_50_EN['en'], topics_50_EN['bn'])\n",
        "en_en_matches = Matches(topics_50_EN['en'], topics_50_EN['hi'])\n",
        "en_gu_matches = Matches(topics_50_EN['en'], topics_50_EN['gu'])\n",
        "en_kn_matches = Matches(topics_50_EN['en'], topics_50_EN['kn'])\n",
        "en_ml_matches = Matches(topics_50_EN['en'], topics_50_EN['ml'])\n",
        "en_mr_matches = Matches(topics_50_EN['en'], topics_50_EN['mr'])\n",
        "en_or_matches = Matches(topics_50_EN['en'], topics_50_EN['or'])\n",
        "en_pa_matches = Matches(topics_50_EN['en'], topics_50_EN['pa'])\n",
        "en_ta_matches = Matches(topics_50_EN['en'], topics_50_EN['ta'])\n",
        "en_te_matches = Matches(topics_50_EN['en'], topics_50_EN['te'])\n",
        "\n",
        "\n",
        "matches_50_EN = {'as': en_as_matches.score(), 'bn': en_bn_matches.score(), \n",
        "             'en': en_hi_matches.score(), 'gu': en_gu_matches.score(),\n",
        "             'kn': en_kn_matches.score(),\n",
        "             'ml': en_ml_matches.score(), 'mr': en_mr_matches.score(),\n",
        "             'or': en_or_matches.score(), 'pa': en_pa_matches.score(),\n",
        "             'ta': en_ta_matches.score(), 'te': en_te_matches.score()}\n",
        "matches_50_EN"
      ]
    },
    {
      "cell_type": "code",
      "execution_count": null,
      "metadata": {
        "id": "xDAyFUcGf1k1"
      },
      "outputs": [],
      "source": [
        "# Average Matches for 50 topics\n",
        "average_matches_50_EN = sum(matches_50_EN.values())/len(matches_50_EN.keys())"
      ]
    },
    {
      "cell_type": "markdown",
      "metadata": {
        "id": "PysLdKoyZ-fS"
      },
      "source": [
        "2. **Distributional Similarity**\n",
        "> Compute the KL divergence between the predicted topic distribution on the test document and the same test document in English. Lower scores are better, indicating that the distributions do not differ by much."
      ]
    },
    {
      "cell_type": "markdown",
      "metadata": {
        "id": "0qDKyNdesFO_"
      },
      "source": [
        "*Hindi*"
      ]
    },
    {
      "cell_type": "code",
      "execution_count": null,
      "metadata": {
        "id": "nc8TYrOCnUt6"
      },
      "outputs": [],
      "source": [
        "# HINDI : KL Divergence for 25 topics\n",
        "hi_as_kl = KLDivergence(topics_25_HI['hi'], topics_25_HI['as'])\n",
        "hi_bn_kl = KLDivergence(topics_25_HI['hi'], topics_25_HI['bn'])\n",
        "hi_en_kl = KLDivergence(topics_25_HI['hi'], topics_25_HI['en'])\n",
        "hi_gu_kl = KLDivergence(topics_25_HI['hi'], topics_25_HI['gu'])\n",
        "hi_kn_kl = KLDivergence(topics_25_HI['hi'], topics_25_HI['kn'])\n",
        "hi_ml_kl = KLDivergence(topics_25_HI['hi'], topics_25_HI['ml'])\n",
        "hi_mr_kl = KLDivergence(topics_25_HI['hi'], topics_25_HI['mr'])\n",
        "hi_or_kl = KLDivergence(topics_25_HI['hi'], topics_25_HI['or'])\n",
        "hi_pa_kl = KLDivergence(topics_25_HI['hi'], topics_25_HI['pa'])\n",
        "hi_ta_kl = KLDivergence(topics_25_HI['hi'], topics_25_HI['ta'])\n",
        "hi_te_kl = KLDivergence(topics_25_HI['hi'], topics_25_HI['te'])\n",
        "\n",
        "kl_divergence_25_HI = {'as': hi_as_kl.score(), 'bn': hi_bn_kl.score(), \n",
        "             'en': hi_en_kl.score(), 'gu': hi_gu_kl.score(),\n",
        "             'kn': hi_kn_kl.score(),\n",
        "             'ml': hi_ml_kl.score(), 'mr': hi_mr_kl.score(),\n",
        "             'or': hi_or_kl.score(), 'pa': hi_pa_kl.score(),\n",
        "             'ta': hi_ta_kl.score(), 'te': hi_te_kl.score()}\n",
        "\n",
        "kl_divergence_25_HI"
      ]
    },
    {
      "cell_type": "code",
      "execution_count": null,
      "metadata": {
        "id": "Bo3Jtxunf7wC"
      },
      "outputs": [],
      "source": [
        "# Average KLD for 25 topics\n",
        "average_kl_divergence_25_HI = sum(kl_divergence_25_HI.values())/len(kl_divergence_25_HI.keys())"
      ]
    },
    {
      "cell_type": "code",
      "execution_count": null,
      "metadata": {
        "id": "OztmlUHK5M8s"
      },
      "outputs": [],
      "source": [
        "# HINDI : KL Divergence for 50 topics\n",
        "hi_as_kl = KLDivergence(topics_50_HI['hi'], topics_50_HI['as'])\n",
        "hi_bn_kl = KLDivergence(topics_50_HI['hi'], topics_50_HI['bn'])\n",
        "hi_en_kl = KLDivergence(topics_50_HI['hi'], topics_50_HI['en'])\n",
        "hi_gu_kl = KLDivergence(topics_50_HI['hi'], topics_50_HI['gu'])\n",
        "hi_kn_kl = KLDivergence(topics_50_HI['hi'], topics_50_HI['kn'])\n",
        "hi_ml_kl = KLDivergence(topics_50_HI['hi'], topics_50_HI['ml'])\n",
        "hi_mr_kl = KLDivergence(topics_50_HI['hi'], topics_50_HI['mr'])\n",
        "hi_or_kl = KLDivergence(topics_50_HI['hi'], topics_50_HI['or'])\n",
        "hi_pa_kl = KLDivergence(topics_50_HI['hi'], topics_50_HI['pa'])\n",
        "hi_ta_kl = KLDivergence(topics_50_HI['hi'], topics_50_HI['ta'])\n",
        "hi_te_kl = KLDivergence(topics_50_HI['hi'], topics_50_HI['te'])\n",
        "\n",
        "kl_divergence_50_HI = {'as': hi_as_kl.score(), 'bn': hi_bn_kl.score(), \n",
        "             'en': hi_en_kl.score(), 'gu': hi_gu_kl.score(),\n",
        "             'kn': hi_kn_kl.score(),\n",
        "             'ml': hi_ml_kl.score(), 'mr': hi_mr_kl.score(),\n",
        "             'or': hi_or_kl.score(), 'pa': hi_pa_kl.score(),\n",
        "             'ta': hi_ta_kl.score(), 'te': hi_te_kl.score()}\n",
        "\n",
        "kl_divergence_50_HI"
      ]
    },
    {
      "cell_type": "code",
      "execution_count": null,
      "metadata": {
        "id": "dw7A1oBigDFa"
      },
      "outputs": [],
      "source": [
        "# Average KLD for 50 topics\n",
        "average_kl_divergence_50_HI = sum(kl_divergence_50_HI.values())/len(kl_divergence_50_HI.keys())"
      ]
    },
    {
      "cell_type": "markdown",
      "metadata": {
        "id": "JyxUuP1bsG_2"
      },
      "source": [
        "*English*"
      ]
    },
    {
      "cell_type": "code",
      "execution_count": null,
      "metadata": {
        "id": "ieStOUDKsJMO"
      },
      "outputs": [],
      "source": [
        "# ENGLISH : KL Divergence for 25 topics\n",
        "en_as_kl = KLDivergence(topics_25_EN['en'], topics_25_EN['as'])\n",
        "en_bn_kl = KLDivergence(topics_25_EN['en'], topics_25_EN['bn'])\n",
        "en_hi_kl = KLDivergence(topics_25_EN['en'], topics_25_EN['hi'])\n",
        "en_gu_kl = KLDivergence(topics_25_EN['en'], topics_25_EN['gu'])\n",
        "en_kn_kl = KLDivergence(topics_25_EN['en'], topics_25_EN['kn'])\n",
        "en_ml_kl = KLDivergence(topics_25_EN['en'], topics_25_EN['ml'])\n",
        "en_mr_kl = KLDivergence(topics_25_EN['en'], topics_25_EN['mr'])\n",
        "en_or_kl = KLDivergence(topics_25_EN['en'], topics_25_EN['or'])\n",
        "en_pa_kl = KLDivergence(topics_25_EN['en'], topics_25_EN['pa'])\n",
        "en_ta_kl = KLDivergence(topics_25_EN['en'], topics_25_EN['ta'])\n",
        "en_te_kl = KLDivergence(topics_25_EN['en'], topics_25_EN['te'])\n",
        "\n",
        "kl_divergence_25_EN = {'as': en_as_kl.score(), 'bn': en_bn_kl.score(), \n",
        "             'hi': en_hi_kl.score(), 'gu': en_gu_kl.score(),\n",
        "             'kn': en_kn_kl.score(),\n",
        "             'ml': en_ml_kl.score(), 'mr': en_mr_kl.score(),\n",
        "             'or': en_or_kl.score(), 'pa': en_pa_kl.score(),\n",
        "             'ta': en_ta_kl.score(), 'te': en_te_kl.score()}\n",
        "\n",
        "kl_divergence_25_EN"
      ]
    },
    {
      "cell_type": "code",
      "execution_count": null,
      "metadata": {
        "id": "yRJtyvWmgJYv"
      },
      "outputs": [],
      "source": [
        "# Average KLD for 50 topics\n",
        "average_kl_divergence_25_EN = sum(kl_divergence_25_EN.values())/len(kl_divergence_25_EN.keys())"
      ]
    },
    {
      "cell_type": "code",
      "execution_count": null,
      "metadata": {
        "id": "ierbd5Uws0T1"
      },
      "outputs": [],
      "source": [
        "# ENGLISH : KL Divergence for 50 topics\n",
        "en_as_kl = KLDivergence(topics_50_EN['en'], topics_50_EN['as'])\n",
        "en_bn_kl = KLDivergence(topics_50_EN['en'], topics_50_EN['bn'])\n",
        "en_hi_kl = KLDivergence(topics_50_EN['en'], topics_50_EN['hi'])\n",
        "en_gu_kl = KLDivergence(topics_50_EN['en'], topics_50_EN['gu'])\n",
        "en_kn_kl = KLDivergence(topics_50_EN['en'], topics_50_EN['kn'])\n",
        "en_ml_kl = KLDivergence(topics_50_EN['en'], topics_50_EN['ml'])\n",
        "en_mr_kl = KLDivergence(topics_50_EN['en'], topics_50_EN['mr'])\n",
        "en_or_kl = KLDivergence(topics_50_EN['en'], topics_50_EN['or'])\n",
        "en_pa_kl = KLDivergence(topics_50_EN['en'], topics_50_EN['pa'])\n",
        "en_ta_kl = KLDivergence(topics_50_EN['en'], topics_50_EN['ta'])\n",
        "en_te_kl = KLDivergence(topics_50_EN['en'], topics_50_EN['te'])\n",
        "\n",
        "kl_divergence_50_EN = {'as': en_as_kl.score(), 'bn': en_bn_kl.score(), \n",
        "             'hi': en_hi_kl.score(), 'gu': en_gu_kl.score(),\n",
        "             'kn': en_kn_kl.score(),\n",
        "             'ml': en_ml_kl.score(), 'mr': en_mr_kl.score(),\n",
        "             'or': en_or_kl.score(), 'pa': en_pa_kl.score(),\n",
        "             'ta': en_ta_kl.score(), 'te': en_te_kl.score()}\n",
        "\n",
        "kl_divergence_50_EN"
      ]
    },
    {
      "cell_type": "code",
      "execution_count": null,
      "metadata": {
        "id": "7LCOLSftgPGR"
      },
      "outputs": [],
      "source": [
        "# Average KLD for 50 topics\n",
        "average_kl_divergence_50_EN = sum(kl_divergence_50_EN.values())/len(kl_divergence_50_EN.keys())"
      ]
    },
    {
      "cell_type": "markdown",
      "metadata": {
        "id": "UzpXFJ0wZ5-2"
      },
      "source": [
        "3. **Centroid Embeddings**\n",
        "> To also account for similar but not exactly equal topic predictions, we compute the centroid embeddings of the 5 words describing the predicted topic for both English and non-English documents. Then we compute the cosine similarity between those two centroids (CD)."
      ]
    },
    {
      "cell_type": "code",
      "execution_count": null,
      "metadata": {
        "id": "AbXgKs-u5NyD"
      },
      "outputs": [],
      "source": [
        "from gensim.corpora.dictionary import Dictionary\n",
        "from gensim.models.coherencemodel import CoherenceModel\n",
        "from gensim.models import KeyedVectors\n",
        "import gensim.downloader as api\n",
        "from scipy.spatial.distance import cosine\n",
        "import abc\n",
        "import numpy as np\n",
        "\n",
        "class CD(CentroidDistance):\n",
        "    \"\"\"Override author's function to upgrade compatibility with Gensim 4.0.0.\n",
        "    See https://github.com/RaRe-Technologies/gensim/wiki/Migrating-from-Gensim-3.x-to-4.\"\"\"\n",
        "\n",
        "    def get_centroid(self, word_list):\n",
        "        vector_list = []\n",
        "        for word in word_list:\n",
        "            if word in self.wv:   # changed from self.wv.vocab to self.wv as in Gensim 4.0.0\n",
        "                vector_list.append(self.wv.get_vector(word))\n",
        "        vec = sum(vector_list)\n",
        "        return vec / np.linalg.norm(vec)"
      ]
    },
    {
      "cell_type": "markdown",
      "metadata": {
        "id": "2Hp8OuALtmOF"
      },
      "source": [
        "*Hindi*"
      ]
    },
    {
      "cell_type": "code",
      "execution_count": null,
      "metadata": {
        "id": "CjnYIIng5MyA"
      },
      "outputs": [],
      "source": [
        "# HINDI : Centroid Embeddings for 25 topics\n",
        "cd_25_HI = {}\n",
        "\n",
        "for key in topics_25_HI.keys():\n",
        "  if key == 'hi':\n",
        "    continue\n",
        "  topic = topics_25_HI[key]\n",
        "  cd = CD(doc_distribution_original_language = topics_25_HI['hi'], \n",
        "          doc_distribution_unseen_language = topic, \n",
        "          topics = z_ctm_25_HI.get_topic_lists(25),\n",
        "          topk = 5)\n",
        "  \n",
        "  cd_25_HI[key] = cd.score()\n",
        "\n",
        "cd_25_HI"
      ]
    },
    {
      "cell_type": "code",
      "execution_count": null,
      "metadata": {
        "id": "-w6fflJFgmsm"
      },
      "outputs": [],
      "source": [
        "# Average KLD for 25 topics\n",
        "average_cd_25_HI = sum(cd_25_HI.values())/len(cd_25_HI.keys())"
      ]
    },
    {
      "cell_type": "code",
      "execution_count": null,
      "metadata": {
        "id": "WXRBx6VjW-5q"
      },
      "outputs": [],
      "source": [
        "# HINDI : Centroid Embeddings for 50 topics\n",
        "cd_50_HI = {}\n",
        "\n",
        "for key in topics_50_HI.keys():\n",
        "  if key == 'hi':\n",
        "    continue\n",
        "  topic = topics_50_HI[key]\n",
        "  cd = CD(doc_distribution_original_language = topics_50_HI['hi'], \n",
        "          doc_distribution_unseen_language = topic, \n",
        "          topics = z_ctm_50_HI.get_topic_lists(50),\n",
        "          topk = 5)\n",
        "  \n",
        "  cd_50_HI[key] = cd.score()\n",
        "  cd = None\n",
        "\n",
        "cd_50_HI"
      ]
    },
    {
      "cell_type": "markdown",
      "metadata": {
        "id": "Bil_aX4TtoHu"
      },
      "source": [
        "*English*"
      ]
    },
    {
      "cell_type": "code",
      "execution_count": null,
      "metadata": {
        "id": "orOyp9W4gszO"
      },
      "outputs": [],
      "source": [
        "# Average KLD for 25 topics\n",
        "average_cd_25_HI = sum(cd_25_HI.values())/len(cd_25_HI.keys())"
      ]
    },
    {
      "cell_type": "code",
      "execution_count": null,
      "metadata": {
        "id": "svDMq5Egtrb5"
      },
      "outputs": [],
      "source": [
        "# ENGLISH : Centroid Embeddings for 25 topics\n",
        "cd_25_EN = {}\n",
        "\n",
        "for key in topics_25_EN.keys():\n",
        "  if key == 'en':\n",
        "    continue\n",
        "  topic = topics_25_EN[key]\n",
        "  cd = CD(doc_distribution_original_language = topics_25_EN['en'], \n",
        "          doc_distribution_unseen_language = topic, \n",
        "          topics = z_ctm_25_EN.get_topic_lists(25),\n",
        "          topk = 5)\n",
        "  \n",
        "  cd_25_EN[key] = cd.score()\n",
        "\n",
        "cd_25_EN"
      ]
    },
    {
      "cell_type": "code",
      "execution_count": null,
      "metadata": {
        "id": "GPTN15hogV-4"
      },
      "outputs": [],
      "source": []
    },
    {
      "cell_type": "code",
      "execution_count": null,
      "metadata": {
        "id": "9knOxB92tsmZ"
      },
      "outputs": [],
      "source": [
        "# ENGLISH : Centroid Embeddings for 50 topics\n",
        "cd_50_EN = {}\n",
        "\n",
        "for key in topics_50_EN.keys():\n",
        "  if key == 'hi':\n",
        "    continue\n",
        "  topic = topics_50_EN[key]\n",
        "  cd = CD(doc_distribution_original_language = topics_50_EN['en'], \n",
        "          doc_distribution_unseen_language = topic, \n",
        "          topics = z_ctm_50_EN.get_topic_lists(50),\n",
        "          topk = 5)\n",
        "  \n",
        "  cd_50_EN[key] = cd.score()\n",
        "  cd = None\n",
        "\n",
        "cd_50_EN"
      ]
    },
    {
      "cell_type": "code",
      "execution_count": null,
      "metadata": {
        "id": "obeCKsgJ9gf4"
      },
      "outputs": [],
      "source": [
        "# Store Metrics\n",
        "metrics = {\n",
        "          \"Hindi\" : [{\n",
        "                    \"Mat25\": matches_25_HI,\n",
        "                    \"KL25\": kl_divergence_25_HI, \n",
        "                    \"CD25\": cd_25_HI, \n",
        "                    \"Mat50\": matches_50_HI, \n",
        "                    \"KL50\": kl_divergence_50_HI,\n",
        "                    \"CD50\": cd_50_HI\n",
        "                    }],\n",
        "\n",
        "          \"English\": [{\n",
        "                    \"Mat25\": matches_25_EN,\n",
        "                    \"KL25\": kl_divergence_25_EN, \n",
        "                    \"CD25\": cd_25_EN, \n",
        "                    \"Mat50\": matches_50_EN, \n",
        "                    \"KL50\": kl_divergence_50_EN,\n",
        "                    \"CD50\": cd_50_EN\n",
        "                    }]\n",
        "          }\n",
        "with open(\"metrics_samescript.txt\", 'wb') as F:\n",
        "  pickle.dump(metrics, F)\n",
        "\n",
        "metrics"
      ]
    },
    {
      "cell_type": "markdown",
      "metadata": {
        "id": "lzAMmhgGpTb5"
      },
      "source": [
        "# Evaluation Results"
      ]
    },
    {
      "cell_type": "code",
      "execution_count": null,
      "metadata": {
        "id": "4wOmqj7DsXs_"
      },
      "outputs": [],
      "source": [
        "# Show results\n",
        "metrics = {\"Hindi\" : \n",
        "           \n",
        "           {\"Mat25\": matches_25_HI,\n",
        "           \"KL25\": kl_divergence_25_HI, \n",
        "           \"CD25\": cd_25_HI, \n",
        "           \"Mat50\": matches_50_HI, \n",
        "           \"KL50\": kl_divergence_50_HI,\n",
        "           \"CD50\": cd_50_HI},\n",
        "           \n",
        "           \"English\" : \n",
        "           {\"Mat25\": matches_25_EN,\n",
        "           \"KL25\": kl_divergence_25_EN, \n",
        "           \"CD25\": cd_25_EN, \n",
        "           \"Mat50\": matches_50_EN, \n",
        "           \"KL50\": kl_divergence_50_EN,\n",
        "           \"CD50\": cd_50_EN}\n",
        "           }\n",
        "\n",
        "metrics = pd.DataFrame.from_dict(metrics, orient='columns') \n",
        "print(\"Match, KL, and Centroid Similarity for 25 and 50 topics on various languages on PMIndia Corpus\")\n",
        "metrics"
      ]
    }
  ],
  "metadata": {
    "accelerator": "GPU",
    "colab": {
      "collapsed_sections": [
        "pCeeGc0ykG25",
        "YMHa8mAZjj3p",
        "i9PnZD8oouRq"
      ],
      "machine_shape": "hm",
      "provenance": [],
      "include_colab_link": true
    },
    "gpuClass": "premium",
    "kernelspec": {
      "display_name": "Python 3",
      "name": "python3"
    },
    "language_info": {
      "name": "python"
    },
    "widgets": {
      "application/vnd.jupyter.widget-state+json": {
        "b184b7de29274f50a5405f0e77761819": {
          "model_module": "@jupyter-widgets/controls",
          "model_name": "HBoxModel",
          "model_module_version": "1.5.0",
          "state": {
            "_dom_classes": [],
            "_model_module": "@jupyter-widgets/controls",
            "_model_module_version": "1.5.0",
            "_model_name": "HBoxModel",
            "_view_count": null,
            "_view_module": "@jupyter-widgets/controls",
            "_view_module_version": "1.5.0",
            "_view_name": "HBoxView",
            "box_style": "",
            "children": [
              "IPY_MODEL_dca8b6be2f1f4611b4fc157779ca8871",
              "IPY_MODEL_f9dfc745a50f472d87672d75a6d39ef7",
              "IPY_MODEL_bf6d7c853e0e464587c419f4b197b96f"
            ],
            "layout": "IPY_MODEL_99b33979a8d14b49abe95c16086cdbac"
          }
        },
        "dca8b6be2f1f4611b4fc157779ca8871": {
          "model_module": "@jupyter-widgets/controls",
          "model_name": "HTMLModel",
          "model_module_version": "1.5.0",
          "state": {
            "_dom_classes": [],
            "_model_module": "@jupyter-widgets/controls",
            "_model_module_version": "1.5.0",
            "_model_name": "HTMLModel",
            "_view_count": null,
            "_view_module": "@jupyter-widgets/controls",
            "_view_module_version": "1.5.0",
            "_view_name": "HTMLView",
            "description": "",
            "description_tooltip": null,
            "layout": "IPY_MODEL_a5964f90ef434e859ebc51d033287d48",
            "placeholder": "​",
            "style": "IPY_MODEL_e9c3506deed6482ca9c3f3da5bc1129c",
            "value": "Downloading: 100%"
          }
        },
        "f9dfc745a50f472d87672d75a6d39ef7": {
          "model_module": "@jupyter-widgets/controls",
          "model_name": "FloatProgressModel",
          "model_module_version": "1.5.0",
          "state": {
            "_dom_classes": [],
            "_model_module": "@jupyter-widgets/controls",
            "_model_module_version": "1.5.0",
            "_model_name": "FloatProgressModel",
            "_view_count": null,
            "_view_module": "@jupyter-widgets/controls",
            "_view_module_version": "1.5.0",
            "_view_name": "ProgressView",
            "bar_style": "success",
            "description": "",
            "description_tooltip": null,
            "layout": "IPY_MODEL_f1cf41731abf46d4b04e351463abfe91",
            "max": 345,
            "min": 0,
            "orientation": "horizontal",
            "style": "IPY_MODEL_c0e899ffdd234ba88c1c3818ff304b1b",
            "value": 345
          }
        },
        "bf6d7c853e0e464587c419f4b197b96f": {
          "model_module": "@jupyter-widgets/controls",
          "model_name": "HTMLModel",
          "model_module_version": "1.5.0",
          "state": {
            "_dom_classes": [],
            "_model_module": "@jupyter-widgets/controls",
            "_model_module_version": "1.5.0",
            "_model_name": "HTMLModel",
            "_view_count": null,
            "_view_module": "@jupyter-widgets/controls",
            "_view_module_version": "1.5.0",
            "_view_name": "HTMLView",
            "description": "",
            "description_tooltip": null,
            "layout": "IPY_MODEL_dee4c866123f4614bf914d47e825edfe",
            "placeholder": "​",
            "style": "IPY_MODEL_e775ca1e9c564dfdab997de06abff36f",
            "value": " 345/345 [00:00&lt;00:00, 14.4kB/s]"
          }
        },
        "99b33979a8d14b49abe95c16086cdbac": {
          "model_module": "@jupyter-widgets/base",
          "model_name": "LayoutModel",
          "model_module_version": "1.2.0",
          "state": {
            "_model_module": "@jupyter-widgets/base",
            "_model_module_version": "1.2.0",
            "_model_name": "LayoutModel",
            "_view_count": null,
            "_view_module": "@jupyter-widgets/base",
            "_view_module_version": "1.2.0",
            "_view_name": "LayoutView",
            "align_content": null,
            "align_items": null,
            "align_self": null,
            "border": null,
            "bottom": null,
            "display": null,
            "flex": null,
            "flex_flow": null,
            "grid_area": null,
            "grid_auto_columns": null,
            "grid_auto_flow": null,
            "grid_auto_rows": null,
            "grid_column": null,
            "grid_gap": null,
            "grid_row": null,
            "grid_template_areas": null,
            "grid_template_columns": null,
            "grid_template_rows": null,
            "height": null,
            "justify_content": null,
            "justify_items": null,
            "left": null,
            "margin": null,
            "max_height": null,
            "max_width": null,
            "min_height": null,
            "min_width": null,
            "object_fit": null,
            "object_position": null,
            "order": null,
            "overflow": null,
            "overflow_x": null,
            "overflow_y": null,
            "padding": null,
            "right": null,
            "top": null,
            "visibility": null,
            "width": null
          }
        },
        "a5964f90ef434e859ebc51d033287d48": {
          "model_module": "@jupyter-widgets/base",
          "model_name": "LayoutModel",
          "model_module_version": "1.2.0",
          "state": {
            "_model_module": "@jupyter-widgets/base",
            "_model_module_version": "1.2.0",
            "_model_name": "LayoutModel",
            "_view_count": null,
            "_view_module": "@jupyter-widgets/base",
            "_view_module_version": "1.2.0",
            "_view_name": "LayoutView",
            "align_content": null,
            "align_items": null,
            "align_self": null,
            "border": null,
            "bottom": null,
            "display": null,
            "flex": null,
            "flex_flow": null,
            "grid_area": null,
            "grid_auto_columns": null,
            "grid_auto_flow": null,
            "grid_auto_rows": null,
            "grid_column": null,
            "grid_gap": null,
            "grid_row": null,
            "grid_template_areas": null,
            "grid_template_columns": null,
            "grid_template_rows": null,
            "height": null,
            "justify_content": null,
            "justify_items": null,
            "left": null,
            "margin": null,
            "max_height": null,
            "max_width": null,
            "min_height": null,
            "min_width": null,
            "object_fit": null,
            "object_position": null,
            "order": null,
            "overflow": null,
            "overflow_x": null,
            "overflow_y": null,
            "padding": null,
            "right": null,
            "top": null,
            "visibility": null,
            "width": null
          }
        },
        "e9c3506deed6482ca9c3f3da5bc1129c": {
          "model_module": "@jupyter-widgets/controls",
          "model_name": "DescriptionStyleModel",
          "model_module_version": "1.5.0",
          "state": {
            "_model_module": "@jupyter-widgets/controls",
            "_model_module_version": "1.5.0",
            "_model_name": "DescriptionStyleModel",
            "_view_count": null,
            "_view_module": "@jupyter-widgets/base",
            "_view_module_version": "1.2.0",
            "_view_name": "StyleView",
            "description_width": ""
          }
        },
        "f1cf41731abf46d4b04e351463abfe91": {
          "model_module": "@jupyter-widgets/base",
          "model_name": "LayoutModel",
          "model_module_version": "1.2.0",
          "state": {
            "_model_module": "@jupyter-widgets/base",
            "_model_module_version": "1.2.0",
            "_model_name": "LayoutModel",
            "_view_count": null,
            "_view_module": "@jupyter-widgets/base",
            "_view_module_version": "1.2.0",
            "_view_name": "LayoutView",
            "align_content": null,
            "align_items": null,
            "align_self": null,
            "border": null,
            "bottom": null,
            "display": null,
            "flex": null,
            "flex_flow": null,
            "grid_area": null,
            "grid_auto_columns": null,
            "grid_auto_flow": null,
            "grid_auto_rows": null,
            "grid_column": null,
            "grid_gap": null,
            "grid_row": null,
            "grid_template_areas": null,
            "grid_template_columns": null,
            "grid_template_rows": null,
            "height": null,
            "justify_content": null,
            "justify_items": null,
            "left": null,
            "margin": null,
            "max_height": null,
            "max_width": null,
            "min_height": null,
            "min_width": null,
            "object_fit": null,
            "object_position": null,
            "order": null,
            "overflow": null,
            "overflow_x": null,
            "overflow_y": null,
            "padding": null,
            "right": null,
            "top": null,
            "visibility": null,
            "width": null
          }
        },
        "c0e899ffdd234ba88c1c3818ff304b1b": {
          "model_module": "@jupyter-widgets/controls",
          "model_name": "ProgressStyleModel",
          "model_module_version": "1.5.0",
          "state": {
            "_model_module": "@jupyter-widgets/controls",
            "_model_module_version": "1.5.0",
            "_model_name": "ProgressStyleModel",
            "_view_count": null,
            "_view_module": "@jupyter-widgets/base",
            "_view_module_version": "1.2.0",
            "_view_name": "StyleView",
            "bar_color": null,
            "description_width": ""
          }
        },
        "dee4c866123f4614bf914d47e825edfe": {
          "model_module": "@jupyter-widgets/base",
          "model_name": "LayoutModel",
          "model_module_version": "1.2.0",
          "state": {
            "_model_module": "@jupyter-widgets/base",
            "_model_module_version": "1.2.0",
            "_model_name": "LayoutModel",
            "_view_count": null,
            "_view_module": "@jupyter-widgets/base",
            "_view_module_version": "1.2.0",
            "_view_name": "LayoutView",
            "align_content": null,
            "align_items": null,
            "align_self": null,
            "border": null,
            "bottom": null,
            "display": null,
            "flex": null,
            "flex_flow": null,
            "grid_area": null,
            "grid_auto_columns": null,
            "grid_auto_flow": null,
            "grid_auto_rows": null,
            "grid_column": null,
            "grid_gap": null,
            "grid_row": null,
            "grid_template_areas": null,
            "grid_template_columns": null,
            "grid_template_rows": null,
            "height": null,
            "justify_content": null,
            "justify_items": null,
            "left": null,
            "margin": null,
            "max_height": null,
            "max_width": null,
            "min_height": null,
            "min_width": null,
            "object_fit": null,
            "object_position": null,
            "order": null,
            "overflow": null,
            "overflow_x": null,
            "overflow_y": null,
            "padding": null,
            "right": null,
            "top": null,
            "visibility": null,
            "width": null
          }
        },
        "e775ca1e9c564dfdab997de06abff36f": {
          "model_module": "@jupyter-widgets/controls",
          "model_name": "DescriptionStyleModel",
          "model_module_version": "1.5.0",
          "state": {
            "_model_module": "@jupyter-widgets/controls",
            "_model_module_version": "1.5.0",
            "_model_name": "DescriptionStyleModel",
            "_view_count": null,
            "_view_module": "@jupyter-widgets/base",
            "_view_module_version": "1.2.0",
            "_view_name": "StyleView",
            "description_width": ""
          }
        },
        "fff3d411ed4e4bf7915cd2bc78ddedbf": {
          "model_module": "@jupyter-widgets/controls",
          "model_name": "HBoxModel",
          "model_module_version": "1.5.0",
          "state": {
            "_dom_classes": [],
            "_model_module": "@jupyter-widgets/controls",
            "_model_module_version": "1.5.0",
            "_model_name": "HBoxModel",
            "_view_count": null,
            "_view_module": "@jupyter-widgets/controls",
            "_view_module_version": "1.5.0",
            "_view_name": "HBoxView",
            "box_style": "",
            "children": [
              "IPY_MODEL_a33c68d05b3c47678ac855ef8725a97c",
              "IPY_MODEL_e32d076ab2964fdcb96749b1221b1559",
              "IPY_MODEL_dd9709a0fce44b98b349154e3a036db0"
            ],
            "layout": "IPY_MODEL_8ce9ec13481c4dca8a3deb5ec1cc583a"
          }
        },
        "a33c68d05b3c47678ac855ef8725a97c": {
          "model_module": "@jupyter-widgets/controls",
          "model_name": "HTMLModel",
          "model_module_version": "1.5.0",
          "state": {
            "_dom_classes": [],
            "_model_module": "@jupyter-widgets/controls",
            "_model_module_version": "1.5.0",
            "_model_name": "HTMLModel",
            "_view_count": null,
            "_view_module": "@jupyter-widgets/controls",
            "_view_module_version": "1.5.0",
            "_view_name": "HTMLView",
            "description": "",
            "description_tooltip": null,
            "layout": "IPY_MODEL_f7e2af7aa17049e49f2eda39e0ea85ba",
            "placeholder": "​",
            "style": "IPY_MODEL_90d15836b66a48b6a2a204721ee546f4",
            "value": "Downloading: 100%"
          }
        },
        "e32d076ab2964fdcb96749b1221b1559": {
          "model_module": "@jupyter-widgets/controls",
          "model_name": "FloatProgressModel",
          "model_module_version": "1.5.0",
          "state": {
            "_dom_classes": [],
            "_model_module": "@jupyter-widgets/controls",
            "_model_module_version": "1.5.0",
            "_model_name": "FloatProgressModel",
            "_view_count": null,
            "_view_module": "@jupyter-widgets/controls",
            "_view_module_version": "1.5.0",
            "_view_name": "ProgressView",
            "bar_style": "success",
            "description": "",
            "description_tooltip": null,
            "layout": "IPY_MODEL_91df305f0e6d40a8b8b04f24e291af8f",
            "max": 4829,
            "min": 0,
            "orientation": "horizontal",
            "style": "IPY_MODEL_0c7ed3b6749e4caf90d7ce350fa1d89d",
            "value": 4829
          }
        },
        "dd9709a0fce44b98b349154e3a036db0": {
          "model_module": "@jupyter-widgets/controls",
          "model_name": "HTMLModel",
          "model_module_version": "1.5.0",
          "state": {
            "_dom_classes": [],
            "_model_module": "@jupyter-widgets/controls",
            "_model_module_version": "1.5.0",
            "_model_name": "HTMLModel",
            "_view_count": null,
            "_view_module": "@jupyter-widgets/controls",
            "_view_module_version": "1.5.0",
            "_view_name": "HTMLView",
            "description": "",
            "description_tooltip": null,
            "layout": "IPY_MODEL_912b607224ec4d57beec083a857cae8b",
            "placeholder": "​",
            "style": "IPY_MODEL_034d554207b449e688f763b8cb366e79",
            "value": " 4.83k/4.83k [00:00&lt;00:00, 193kB/s]"
          }
        },
        "8ce9ec13481c4dca8a3deb5ec1cc583a": {
          "model_module": "@jupyter-widgets/base",
          "model_name": "LayoutModel",
          "model_module_version": "1.2.0",
          "state": {
            "_model_module": "@jupyter-widgets/base",
            "_model_module_version": "1.2.0",
            "_model_name": "LayoutModel",
            "_view_count": null,
            "_view_module": "@jupyter-widgets/base",
            "_view_module_version": "1.2.0",
            "_view_name": "LayoutView",
            "align_content": null,
            "align_items": null,
            "align_self": null,
            "border": null,
            "bottom": null,
            "display": null,
            "flex": null,
            "flex_flow": null,
            "grid_area": null,
            "grid_auto_columns": null,
            "grid_auto_flow": null,
            "grid_auto_rows": null,
            "grid_column": null,
            "grid_gap": null,
            "grid_row": null,
            "grid_template_areas": null,
            "grid_template_columns": null,
            "grid_template_rows": null,
            "height": null,
            "justify_content": null,
            "justify_items": null,
            "left": null,
            "margin": null,
            "max_height": null,
            "max_width": null,
            "min_height": null,
            "min_width": null,
            "object_fit": null,
            "object_position": null,
            "order": null,
            "overflow": null,
            "overflow_x": null,
            "overflow_y": null,
            "padding": null,
            "right": null,
            "top": null,
            "visibility": null,
            "width": null
          }
        },
        "f7e2af7aa17049e49f2eda39e0ea85ba": {
          "model_module": "@jupyter-widgets/base",
          "model_name": "LayoutModel",
          "model_module_version": "1.2.0",
          "state": {
            "_model_module": "@jupyter-widgets/base",
            "_model_module_version": "1.2.0",
            "_model_name": "LayoutModel",
            "_view_count": null,
            "_view_module": "@jupyter-widgets/base",
            "_view_module_version": "1.2.0",
            "_view_name": "LayoutView",
            "align_content": null,
            "align_items": null,
            "align_self": null,
            "border": null,
            "bottom": null,
            "display": null,
            "flex": null,
            "flex_flow": null,
            "grid_area": null,
            "grid_auto_columns": null,
            "grid_auto_flow": null,
            "grid_auto_rows": null,
            "grid_column": null,
            "grid_gap": null,
            "grid_row": null,
            "grid_template_areas": null,
            "grid_template_columns": null,
            "grid_template_rows": null,
            "height": null,
            "justify_content": null,
            "justify_items": null,
            "left": null,
            "margin": null,
            "max_height": null,
            "max_width": null,
            "min_height": null,
            "min_width": null,
            "object_fit": null,
            "object_position": null,
            "order": null,
            "overflow": null,
            "overflow_x": null,
            "overflow_y": null,
            "padding": null,
            "right": null,
            "top": null,
            "visibility": null,
            "width": null
          }
        },
        "90d15836b66a48b6a2a204721ee546f4": {
          "model_module": "@jupyter-widgets/controls",
          "model_name": "DescriptionStyleModel",
          "model_module_version": "1.5.0",
          "state": {
            "_model_module": "@jupyter-widgets/controls",
            "_model_module_version": "1.5.0",
            "_model_name": "DescriptionStyleModel",
            "_view_count": null,
            "_view_module": "@jupyter-widgets/base",
            "_view_module_version": "1.2.0",
            "_view_name": "StyleView",
            "description_width": ""
          }
        },
        "91df305f0e6d40a8b8b04f24e291af8f": {
          "model_module": "@jupyter-widgets/base",
          "model_name": "LayoutModel",
          "model_module_version": "1.2.0",
          "state": {
            "_model_module": "@jupyter-widgets/base",
            "_model_module_version": "1.2.0",
            "_model_name": "LayoutModel",
            "_view_count": null,
            "_view_module": "@jupyter-widgets/base",
            "_view_module_version": "1.2.0",
            "_view_name": "LayoutView",
            "align_content": null,
            "align_items": null,
            "align_self": null,
            "border": null,
            "bottom": null,
            "display": null,
            "flex": null,
            "flex_flow": null,
            "grid_area": null,
            "grid_auto_columns": null,
            "grid_auto_flow": null,
            "grid_auto_rows": null,
            "grid_column": null,
            "grid_gap": null,
            "grid_row": null,
            "grid_template_areas": null,
            "grid_template_columns": null,
            "grid_template_rows": null,
            "height": null,
            "justify_content": null,
            "justify_items": null,
            "left": null,
            "margin": null,
            "max_height": null,
            "max_width": null,
            "min_height": null,
            "min_width": null,
            "object_fit": null,
            "object_position": null,
            "order": null,
            "overflow": null,
            "overflow_x": null,
            "overflow_y": null,
            "padding": null,
            "right": null,
            "top": null,
            "visibility": null,
            "width": null
          }
        },
        "0c7ed3b6749e4caf90d7ce350fa1d89d": {
          "model_module": "@jupyter-widgets/controls",
          "model_name": "ProgressStyleModel",
          "model_module_version": "1.5.0",
          "state": {
            "_model_module": "@jupyter-widgets/controls",
            "_model_module_version": "1.5.0",
            "_model_name": "ProgressStyleModel",
            "_view_count": null,
            "_view_module": "@jupyter-widgets/base",
            "_view_module_version": "1.2.0",
            "_view_name": "StyleView",
            "bar_color": null,
            "description_width": ""
          }
        },
        "912b607224ec4d57beec083a857cae8b": {
          "model_module": "@jupyter-widgets/base",
          "model_name": "LayoutModel",
          "model_module_version": "1.2.0",
          "state": {
            "_model_module": "@jupyter-widgets/base",
            "_model_module_version": "1.2.0",
            "_model_name": "LayoutModel",
            "_view_count": null,
            "_view_module": "@jupyter-widgets/base",
            "_view_module_version": "1.2.0",
            "_view_name": "LayoutView",
            "align_content": null,
            "align_items": null,
            "align_self": null,
            "border": null,
            "bottom": null,
            "display": null,
            "flex": null,
            "flex_flow": null,
            "grid_area": null,
            "grid_auto_columns": null,
            "grid_auto_flow": null,
            "grid_auto_rows": null,
            "grid_column": null,
            "grid_gap": null,
            "grid_row": null,
            "grid_template_areas": null,
            "grid_template_columns": null,
            "grid_template_rows": null,
            "height": null,
            "justify_content": null,
            "justify_items": null,
            "left": null,
            "margin": null,
            "max_height": null,
            "max_width": null,
            "min_height": null,
            "min_width": null,
            "object_fit": null,
            "object_position": null,
            "order": null,
            "overflow": null,
            "overflow_x": null,
            "overflow_y": null,
            "padding": null,
            "right": null,
            "top": null,
            "visibility": null,
            "width": null
          }
        },
        "034d554207b449e688f763b8cb366e79": {
          "model_module": "@jupyter-widgets/controls",
          "model_name": "DescriptionStyleModel",
          "model_module_version": "1.5.0",
          "state": {
            "_model_module": "@jupyter-widgets/controls",
            "_model_module_version": "1.5.0",
            "_model_name": "DescriptionStyleModel",
            "_view_count": null,
            "_view_module": "@jupyter-widgets/base",
            "_view_module_version": "1.2.0",
            "_view_name": "StyleView",
            "description_width": ""
          }
        },
        "8de454cb03794bf38c6633850e031d44": {
          "model_module": "@jupyter-widgets/controls",
          "model_name": "HBoxModel",
          "model_module_version": "1.5.0",
          "state": {
            "_dom_classes": [],
            "_model_module": "@jupyter-widgets/controls",
            "_model_module_version": "1.5.0",
            "_model_name": "HBoxModel",
            "_view_count": null,
            "_view_module": "@jupyter-widgets/controls",
            "_view_module_version": "1.5.0",
            "_view_name": "HBoxView",
            "box_style": "",
            "children": [
              "IPY_MODEL_f1d5fc8cdaae499887985b6ead7073ff",
              "IPY_MODEL_9a0f1d8663ae47bea59cdf58172d0cad",
              "IPY_MODEL_d23c9797b09844169451d4f7a8af0bdf"
            ],
            "layout": "IPY_MODEL_7973d0d751744f048f456c7ad7efae94"
          }
        },
        "f1d5fc8cdaae499887985b6ead7073ff": {
          "model_module": "@jupyter-widgets/controls",
          "model_name": "HTMLModel",
          "model_module_version": "1.5.0",
          "state": {
            "_dom_classes": [],
            "_model_module": "@jupyter-widgets/controls",
            "_model_module_version": "1.5.0",
            "_model_name": "HTMLModel",
            "_view_count": null,
            "_view_module": "@jupyter-widgets/controls",
            "_view_module_version": "1.5.0",
            "_view_name": "HTMLView",
            "description": "",
            "description_tooltip": null,
            "layout": "IPY_MODEL_bf4108bcac124c4f9ecc13e9661f34de",
            "placeholder": "​",
            "style": "IPY_MODEL_8262217b75ce419f83701ed39b4e5fc7",
            "value": "Downloading: 100%"
          }
        },
        "9a0f1d8663ae47bea59cdf58172d0cad": {
          "model_module": "@jupyter-widgets/controls",
          "model_name": "FloatProgressModel",
          "model_module_version": "1.5.0",
          "state": {
            "_dom_classes": [],
            "_model_module": "@jupyter-widgets/controls",
            "_model_module_version": "1.5.0",
            "_model_name": "FloatProgressModel",
            "_view_count": null,
            "_view_module": "@jupyter-widgets/controls",
            "_view_module_version": "1.5.0",
            "_view_name": "ProgressView",
            "bar_style": "success",
            "description": "",
            "description_tooltip": null,
            "layout": "IPY_MODEL_09f3d348127b4486848f158061aeda5f",
            "max": 507,
            "min": 0,
            "orientation": "horizontal",
            "style": "IPY_MODEL_94d1a1224c394085a0d99ccb9167de9e",
            "value": 507
          }
        },
        "d23c9797b09844169451d4f7a8af0bdf": {
          "model_module": "@jupyter-widgets/controls",
          "model_name": "HTMLModel",
          "model_module_version": "1.5.0",
          "state": {
            "_dom_classes": [],
            "_model_module": "@jupyter-widgets/controls",
            "_model_module_version": "1.5.0",
            "_model_name": "HTMLModel",
            "_view_count": null,
            "_view_module": "@jupyter-widgets/controls",
            "_view_module_version": "1.5.0",
            "_view_name": "HTMLView",
            "description": "",
            "description_tooltip": null,
            "layout": "IPY_MODEL_9dcc67e190944de6b5a60fb5727f6ade",
            "placeholder": "​",
            "style": "IPY_MODEL_e159290bb80346b4a16886ceee56c01d",
            "value": " 507/507 [00:00&lt;00:00, 21.4kB/s]"
          }
        },
        "7973d0d751744f048f456c7ad7efae94": {
          "model_module": "@jupyter-widgets/base",
          "model_name": "LayoutModel",
          "model_module_version": "1.2.0",
          "state": {
            "_model_module": "@jupyter-widgets/base",
            "_model_module_version": "1.2.0",
            "_model_name": "LayoutModel",
            "_view_count": null,
            "_view_module": "@jupyter-widgets/base",
            "_view_module_version": "1.2.0",
            "_view_name": "LayoutView",
            "align_content": null,
            "align_items": null,
            "align_self": null,
            "border": null,
            "bottom": null,
            "display": null,
            "flex": null,
            "flex_flow": null,
            "grid_area": null,
            "grid_auto_columns": null,
            "grid_auto_flow": null,
            "grid_auto_rows": null,
            "grid_column": null,
            "grid_gap": null,
            "grid_row": null,
            "grid_template_areas": null,
            "grid_template_columns": null,
            "grid_template_rows": null,
            "height": null,
            "justify_content": null,
            "justify_items": null,
            "left": null,
            "margin": null,
            "max_height": null,
            "max_width": null,
            "min_height": null,
            "min_width": null,
            "object_fit": null,
            "object_position": null,
            "order": null,
            "overflow": null,
            "overflow_x": null,
            "overflow_y": null,
            "padding": null,
            "right": null,
            "top": null,
            "visibility": null,
            "width": null
          }
        },
        "bf4108bcac124c4f9ecc13e9661f34de": {
          "model_module": "@jupyter-widgets/base",
          "model_name": "LayoutModel",
          "model_module_version": "1.2.0",
          "state": {
            "_model_module": "@jupyter-widgets/base",
            "_model_module_version": "1.2.0",
            "_model_name": "LayoutModel",
            "_view_count": null,
            "_view_module": "@jupyter-widgets/base",
            "_view_module_version": "1.2.0",
            "_view_name": "LayoutView",
            "align_content": null,
            "align_items": null,
            "align_self": null,
            "border": null,
            "bottom": null,
            "display": null,
            "flex": null,
            "flex_flow": null,
            "grid_area": null,
            "grid_auto_columns": null,
            "grid_auto_flow": null,
            "grid_auto_rows": null,
            "grid_column": null,
            "grid_gap": null,
            "grid_row": null,
            "grid_template_areas": null,
            "grid_template_columns": null,
            "grid_template_rows": null,
            "height": null,
            "justify_content": null,
            "justify_items": null,
            "left": null,
            "margin": null,
            "max_height": null,
            "max_width": null,
            "min_height": null,
            "min_width": null,
            "object_fit": null,
            "object_position": null,
            "order": null,
            "overflow": null,
            "overflow_x": null,
            "overflow_y": null,
            "padding": null,
            "right": null,
            "top": null,
            "visibility": null,
            "width": null
          }
        },
        "8262217b75ce419f83701ed39b4e5fc7": {
          "model_module": "@jupyter-widgets/controls",
          "model_name": "DescriptionStyleModel",
          "model_module_version": "1.5.0",
          "state": {
            "_model_module": "@jupyter-widgets/controls",
            "_model_module_version": "1.5.0",
            "_model_name": "DescriptionStyleModel",
            "_view_count": null,
            "_view_module": "@jupyter-widgets/base",
            "_view_module_version": "1.2.0",
            "_view_name": "StyleView",
            "description_width": ""
          }
        },
        "09f3d348127b4486848f158061aeda5f": {
          "model_module": "@jupyter-widgets/base",
          "model_name": "LayoutModel",
          "model_module_version": "1.2.0",
          "state": {
            "_model_module": "@jupyter-widgets/base",
            "_model_module_version": "1.2.0",
            "_model_name": "LayoutModel",
            "_view_count": null,
            "_view_module": "@jupyter-widgets/base",
            "_view_module_version": "1.2.0",
            "_view_name": "LayoutView",
            "align_content": null,
            "align_items": null,
            "align_self": null,
            "border": null,
            "bottom": null,
            "display": null,
            "flex": null,
            "flex_flow": null,
            "grid_area": null,
            "grid_auto_columns": null,
            "grid_auto_flow": null,
            "grid_auto_rows": null,
            "grid_column": null,
            "grid_gap": null,
            "grid_row": null,
            "grid_template_areas": null,
            "grid_template_columns": null,
            "grid_template_rows": null,
            "height": null,
            "justify_content": null,
            "justify_items": null,
            "left": null,
            "margin": null,
            "max_height": null,
            "max_width": null,
            "min_height": null,
            "min_width": null,
            "object_fit": null,
            "object_position": null,
            "order": null,
            "overflow": null,
            "overflow_x": null,
            "overflow_y": null,
            "padding": null,
            "right": null,
            "top": null,
            "visibility": null,
            "width": null
          }
        },
        "94d1a1224c394085a0d99ccb9167de9e": {
          "model_module": "@jupyter-widgets/controls",
          "model_name": "ProgressStyleModel",
          "model_module_version": "1.5.0",
          "state": {
            "_model_module": "@jupyter-widgets/controls",
            "_model_module_version": "1.5.0",
            "_model_name": "ProgressStyleModel",
            "_view_count": null,
            "_view_module": "@jupyter-widgets/base",
            "_view_module_version": "1.2.0",
            "_view_name": "StyleView",
            "bar_color": null,
            "description_width": ""
          }
        },
        "9dcc67e190944de6b5a60fb5727f6ade": {
          "model_module": "@jupyter-widgets/base",
          "model_name": "LayoutModel",
          "model_module_version": "1.2.0",
          "state": {
            "_model_module": "@jupyter-widgets/base",
            "_model_module_version": "1.2.0",
            "_model_name": "LayoutModel",
            "_view_count": null,
            "_view_module": "@jupyter-widgets/base",
            "_view_module_version": "1.2.0",
            "_view_name": "LayoutView",
            "align_content": null,
            "align_items": null,
            "align_self": null,
            "border": null,
            "bottom": null,
            "display": null,
            "flex": null,
            "flex_flow": null,
            "grid_area": null,
            "grid_auto_columns": null,
            "grid_auto_flow": null,
            "grid_auto_rows": null,
            "grid_column": null,
            "grid_gap": null,
            "grid_row": null,
            "grid_template_areas": null,
            "grid_template_columns": null,
            "grid_template_rows": null,
            "height": null,
            "justify_content": null,
            "justify_items": null,
            "left": null,
            "margin": null,
            "max_height": null,
            "max_width": null,
            "min_height": null,
            "min_width": null,
            "object_fit": null,
            "object_position": null,
            "order": null,
            "overflow": null,
            "overflow_x": null,
            "overflow_y": null,
            "padding": null,
            "right": null,
            "top": null,
            "visibility": null,
            "width": null
          }
        },
        "e159290bb80346b4a16886ceee56c01d": {
          "model_module": "@jupyter-widgets/controls",
          "model_name": "DescriptionStyleModel",
          "model_module_version": "1.5.0",
          "state": {
            "_model_module": "@jupyter-widgets/controls",
            "_model_module_version": "1.5.0",
            "_model_name": "DescriptionStyleModel",
            "_view_count": null,
            "_view_module": "@jupyter-widgets/base",
            "_view_module_version": "1.2.0",
            "_view_name": "StyleView",
            "description_width": ""
          }
        },
        "0baaadeb97274776875beb9c8bb89b74": {
          "model_module": "@jupyter-widgets/controls",
          "model_name": "HBoxModel",
          "model_module_version": "1.5.0",
          "state": {
            "_dom_classes": [],
            "_model_module": "@jupyter-widgets/controls",
            "_model_module_version": "1.5.0",
            "_model_name": "HBoxModel",
            "_view_count": null,
            "_view_module": "@jupyter-widgets/controls",
            "_view_module_version": "1.5.0",
            "_view_name": "HBoxView",
            "box_style": "",
            "children": [
              "IPY_MODEL_67f29af4ba724edb99640b5c17094675",
              "IPY_MODEL_68613beed379417abcb4d0b7a042d79e",
              "IPY_MODEL_2c794f2ad29e4989814866f986567347"
            ],
            "layout": "IPY_MODEL_4f867eac84224da8b7558fb588302d78"
          }
        },
        "67f29af4ba724edb99640b5c17094675": {
          "model_module": "@jupyter-widgets/controls",
          "model_name": "HTMLModel",
          "model_module_version": "1.5.0",
          "state": {
            "_dom_classes": [],
            "_model_module": "@jupyter-widgets/controls",
            "_model_module_version": "1.5.0",
            "_model_name": "HTMLModel",
            "_view_count": null,
            "_view_module": "@jupyter-widgets/controls",
            "_view_module_version": "1.5.0",
            "_view_name": "HTMLView",
            "description": "",
            "description_tooltip": null,
            "layout": "IPY_MODEL_69ef21523f7747959f4eb09f191f1b4d",
            "placeholder": "​",
            "style": "IPY_MODEL_2e90937cb18c42638b3c03a49ed89ccf",
            "value": "Downloading: 100%"
          }
        },
        "68613beed379417abcb4d0b7a042d79e": {
          "model_module": "@jupyter-widgets/controls",
          "model_name": "FloatProgressModel",
          "model_module_version": "1.5.0",
          "state": {
            "_dom_classes": [],
            "_model_module": "@jupyter-widgets/controls",
            "_model_module_version": "1.5.0",
            "_model_name": "FloatProgressModel",
            "_view_count": null,
            "_view_module": "@jupyter-widgets/controls",
            "_view_module_version": "1.5.0",
            "_view_name": "ProgressView",
            "bar_style": "success",
            "description": "",
            "description_tooltip": null,
            "layout": "IPY_MODEL_7f56d71b9d444ea2b4441184dbc37757",
            "max": 134982446,
            "min": 0,
            "orientation": "horizontal",
            "style": "IPY_MODEL_4e2237ed0a284cd58310c8f5ca5e6652",
            "value": 134982446
          }
        },
        "2c794f2ad29e4989814866f986567347": {
          "model_module": "@jupyter-widgets/controls",
          "model_name": "HTMLModel",
          "model_module_version": "1.5.0",
          "state": {
            "_dom_classes": [],
            "_model_module": "@jupyter-widgets/controls",
            "_model_module_version": "1.5.0",
            "_model_name": "HTMLModel",
            "_view_count": null,
            "_view_module": "@jupyter-widgets/controls",
            "_view_module_version": "1.5.0",
            "_view_name": "HTMLView",
            "description": "",
            "description_tooltip": null,
            "layout": "IPY_MODEL_f75fdda70903415ba9ca35eedb7cd0e8",
            "placeholder": "​",
            "style": "IPY_MODEL_e7d624b082874d22bf6e7cb4d691cc0d",
            "value": " 135M/135M [00:04&lt;00:00, 35.4MB/s]"
          }
        },
        "4f867eac84224da8b7558fb588302d78": {
          "model_module": "@jupyter-widgets/base",
          "model_name": "LayoutModel",
          "model_module_version": "1.2.0",
          "state": {
            "_model_module": "@jupyter-widgets/base",
            "_model_module_version": "1.2.0",
            "_model_name": "LayoutModel",
            "_view_count": null,
            "_view_module": "@jupyter-widgets/base",
            "_view_module_version": "1.2.0",
            "_view_name": "LayoutView",
            "align_content": null,
            "align_items": null,
            "align_self": null,
            "border": null,
            "bottom": null,
            "display": null,
            "flex": null,
            "flex_flow": null,
            "grid_area": null,
            "grid_auto_columns": null,
            "grid_auto_flow": null,
            "grid_auto_rows": null,
            "grid_column": null,
            "grid_gap": null,
            "grid_row": null,
            "grid_template_areas": null,
            "grid_template_columns": null,
            "grid_template_rows": null,
            "height": null,
            "justify_content": null,
            "justify_items": null,
            "left": null,
            "margin": null,
            "max_height": null,
            "max_width": null,
            "min_height": null,
            "min_width": null,
            "object_fit": null,
            "object_position": null,
            "order": null,
            "overflow": null,
            "overflow_x": null,
            "overflow_y": null,
            "padding": null,
            "right": null,
            "top": null,
            "visibility": null,
            "width": null
          }
        },
        "69ef21523f7747959f4eb09f191f1b4d": {
          "model_module": "@jupyter-widgets/base",
          "model_name": "LayoutModel",
          "model_module_version": "1.2.0",
          "state": {
            "_model_module": "@jupyter-widgets/base",
            "_model_module_version": "1.2.0",
            "_model_name": "LayoutModel",
            "_view_count": null,
            "_view_module": "@jupyter-widgets/base",
            "_view_module_version": "1.2.0",
            "_view_name": "LayoutView",
            "align_content": null,
            "align_items": null,
            "align_self": null,
            "border": null,
            "bottom": null,
            "display": null,
            "flex": null,
            "flex_flow": null,
            "grid_area": null,
            "grid_auto_columns": null,
            "grid_auto_flow": null,
            "grid_auto_rows": null,
            "grid_column": null,
            "grid_gap": null,
            "grid_row": null,
            "grid_template_areas": null,
            "grid_template_columns": null,
            "grid_template_rows": null,
            "height": null,
            "justify_content": null,
            "justify_items": null,
            "left": null,
            "margin": null,
            "max_height": null,
            "max_width": null,
            "min_height": null,
            "min_width": null,
            "object_fit": null,
            "object_position": null,
            "order": null,
            "overflow": null,
            "overflow_x": null,
            "overflow_y": null,
            "padding": null,
            "right": null,
            "top": null,
            "visibility": null,
            "width": null
          }
        },
        "2e90937cb18c42638b3c03a49ed89ccf": {
          "model_module": "@jupyter-widgets/controls",
          "model_name": "DescriptionStyleModel",
          "model_module_version": "1.5.0",
          "state": {
            "_model_module": "@jupyter-widgets/controls",
            "_model_module_version": "1.5.0",
            "_model_name": "DescriptionStyleModel",
            "_view_count": null,
            "_view_module": "@jupyter-widgets/base",
            "_view_module_version": "1.2.0",
            "_view_name": "StyleView",
            "description_width": ""
          }
        },
        "7f56d71b9d444ea2b4441184dbc37757": {
          "model_module": "@jupyter-widgets/base",
          "model_name": "LayoutModel",
          "model_module_version": "1.2.0",
          "state": {
            "_model_module": "@jupyter-widgets/base",
            "_model_module_version": "1.2.0",
            "_model_name": "LayoutModel",
            "_view_count": null,
            "_view_module": "@jupyter-widgets/base",
            "_view_module_version": "1.2.0",
            "_view_name": "LayoutView",
            "align_content": null,
            "align_items": null,
            "align_self": null,
            "border": null,
            "bottom": null,
            "display": null,
            "flex": null,
            "flex_flow": null,
            "grid_area": null,
            "grid_auto_columns": null,
            "grid_auto_flow": null,
            "grid_auto_rows": null,
            "grid_column": null,
            "grid_gap": null,
            "grid_row": null,
            "grid_template_areas": null,
            "grid_template_columns": null,
            "grid_template_rows": null,
            "height": null,
            "justify_content": null,
            "justify_items": null,
            "left": null,
            "margin": null,
            "max_height": null,
            "max_width": null,
            "min_height": null,
            "min_width": null,
            "object_fit": null,
            "object_position": null,
            "order": null,
            "overflow": null,
            "overflow_x": null,
            "overflow_y": null,
            "padding": null,
            "right": null,
            "top": null,
            "visibility": null,
            "width": null
          }
        },
        "4e2237ed0a284cd58310c8f5ca5e6652": {
          "model_module": "@jupyter-widgets/controls",
          "model_name": "ProgressStyleModel",
          "model_module_version": "1.5.0",
          "state": {
            "_model_module": "@jupyter-widgets/controls",
            "_model_module_version": "1.5.0",
            "_model_name": "ProgressStyleModel",
            "_view_count": null,
            "_view_module": "@jupyter-widgets/base",
            "_view_module_version": "1.2.0",
            "_view_name": "StyleView",
            "bar_color": null,
            "description_width": ""
          }
        },
        "f75fdda70903415ba9ca35eedb7cd0e8": {
          "model_module": "@jupyter-widgets/base",
          "model_name": "LayoutModel",
          "model_module_version": "1.2.0",
          "state": {
            "_model_module": "@jupyter-widgets/base",
            "_model_module_version": "1.2.0",
            "_model_name": "LayoutModel",
            "_view_count": null,
            "_view_module": "@jupyter-widgets/base",
            "_view_module_version": "1.2.0",
            "_view_name": "LayoutView",
            "align_content": null,
            "align_items": null,
            "align_self": null,
            "border": null,
            "bottom": null,
            "display": null,
            "flex": null,
            "flex_flow": null,
            "grid_area": null,
            "grid_auto_columns": null,
            "grid_auto_flow": null,
            "grid_auto_rows": null,
            "grid_column": null,
            "grid_gap": null,
            "grid_row": null,
            "grid_template_areas": null,
            "grid_template_columns": null,
            "grid_template_rows": null,
            "height": null,
            "justify_content": null,
            "justify_items": null,
            "left": null,
            "margin": null,
            "max_height": null,
            "max_width": null,
            "min_height": null,
            "min_width": null,
            "object_fit": null,
            "object_position": null,
            "order": null,
            "overflow": null,
            "overflow_x": null,
            "overflow_y": null,
            "padding": null,
            "right": null,
            "top": null,
            "visibility": null,
            "width": null
          }
        },
        "e7d624b082874d22bf6e7cb4d691cc0d": {
          "model_module": "@jupyter-widgets/controls",
          "model_name": "DescriptionStyleModel",
          "model_module_version": "1.5.0",
          "state": {
            "_model_module": "@jupyter-widgets/controls",
            "_model_module_version": "1.5.0",
            "_model_name": "DescriptionStyleModel",
            "_view_count": null,
            "_view_module": "@jupyter-widgets/base",
            "_view_module_version": "1.2.0",
            "_view_name": "StyleView",
            "description_width": ""
          }
        },
        "a81b678ed95e4da68808966a924e9485": {
          "model_module": "@jupyter-widgets/controls",
          "model_name": "HBoxModel",
          "model_module_version": "1.5.0",
          "state": {
            "_dom_classes": [],
            "_model_module": "@jupyter-widgets/controls",
            "_model_module_version": "1.5.0",
            "_model_name": "HBoxModel",
            "_view_count": null,
            "_view_module": "@jupyter-widgets/controls",
            "_view_module_version": "1.5.0",
            "_view_name": "HBoxView",
            "box_style": "",
            "children": [
              "IPY_MODEL_83710a94cf69468b8ca12e12be9d2d0f",
              "IPY_MODEL_04632d8f8bdb486789e04f7c609b5e90",
              "IPY_MODEL_d87ff37bd8f844278b2e40be76c3745b"
            ],
            "layout": "IPY_MODEL_91a8f531c12a40e4ab833f42f366e9df"
          }
        },
        "83710a94cf69468b8ca12e12be9d2d0f": {
          "model_module": "@jupyter-widgets/controls",
          "model_name": "HTMLModel",
          "model_module_version": "1.5.0",
          "state": {
            "_dom_classes": [],
            "_model_module": "@jupyter-widgets/controls",
            "_model_module_version": "1.5.0",
            "_model_name": "HTMLModel",
            "_view_count": null,
            "_view_module": "@jupyter-widgets/controls",
            "_view_module_version": "1.5.0",
            "_view_name": "HTMLView",
            "description": "",
            "description_tooltip": null,
            "layout": "IPY_MODEL_bc275e29b5a64d248f3bd12a55ed7675",
            "placeholder": "​",
            "style": "IPY_MODEL_19e5bf22800443a3b93f862d31669bd7",
            "value": "Downloading: 100%"
          }
        },
        "04632d8f8bdb486789e04f7c609b5e90": {
          "model_module": "@jupyter-widgets/controls",
          "model_name": "FloatProgressModel",
          "model_module_version": "1.5.0",
          "state": {
            "_dom_classes": [],
            "_model_module": "@jupyter-widgets/controls",
            "_model_module_version": "1.5.0",
            "_model_name": "FloatProgressModel",
            "_view_count": null,
            "_view_module": "@jupyter-widgets/controls",
            "_view_module_version": "1.5.0",
            "_view_name": "ProgressView",
            "bar_style": "success",
            "description": "",
            "description_tooltip": null,
            "layout": "IPY_MODEL_2bf43c241e8a4ec18d07f092b96f3909",
            "max": 5646064,
            "min": 0,
            "orientation": "horizontal",
            "style": "IPY_MODEL_00e5efc4e07d40bb9909c4d42e4c262b",
            "value": 5646064
          }
        },
        "d87ff37bd8f844278b2e40be76c3745b": {
          "model_module": "@jupyter-widgets/controls",
          "model_name": "HTMLModel",
          "model_module_version": "1.5.0",
          "state": {
            "_dom_classes": [],
            "_model_module": "@jupyter-widgets/controls",
            "_model_module_version": "1.5.0",
            "_model_name": "HTMLModel",
            "_view_count": null,
            "_view_module": "@jupyter-widgets/controls",
            "_view_module_version": "1.5.0",
            "_view_name": "HTMLView",
            "description": "",
            "description_tooltip": null,
            "layout": "IPY_MODEL_a4c484f299114c4cb1735b26aaa1d668",
            "placeholder": "​",
            "style": "IPY_MODEL_dec5c83c23e44e9cb2c7ce807ef52ccb",
            "value": " 5.65M/5.65M [00:00&lt;00:00, 14.0MB/s]"
          }
        },
        "91a8f531c12a40e4ab833f42f366e9df": {
          "model_module": "@jupyter-widgets/base",
          "model_name": "LayoutModel",
          "model_module_version": "1.2.0",
          "state": {
            "_model_module": "@jupyter-widgets/base",
            "_model_module_version": "1.2.0",
            "_model_name": "LayoutModel",
            "_view_count": null,
            "_view_module": "@jupyter-widgets/base",
            "_view_module_version": "1.2.0",
            "_view_name": "LayoutView",
            "align_content": null,
            "align_items": null,
            "align_self": null,
            "border": null,
            "bottom": null,
            "display": null,
            "flex": null,
            "flex_flow": null,
            "grid_area": null,
            "grid_auto_columns": null,
            "grid_auto_flow": null,
            "grid_auto_rows": null,
            "grid_column": null,
            "grid_gap": null,
            "grid_row": null,
            "grid_template_areas": null,
            "grid_template_columns": null,
            "grid_template_rows": null,
            "height": null,
            "justify_content": null,
            "justify_items": null,
            "left": null,
            "margin": null,
            "max_height": null,
            "max_width": null,
            "min_height": null,
            "min_width": null,
            "object_fit": null,
            "object_position": null,
            "order": null,
            "overflow": null,
            "overflow_x": null,
            "overflow_y": null,
            "padding": null,
            "right": null,
            "top": null,
            "visibility": null,
            "width": null
          }
        },
        "bc275e29b5a64d248f3bd12a55ed7675": {
          "model_module": "@jupyter-widgets/base",
          "model_name": "LayoutModel",
          "model_module_version": "1.2.0",
          "state": {
            "_model_module": "@jupyter-widgets/base",
            "_model_module_version": "1.2.0",
            "_model_name": "LayoutModel",
            "_view_count": null,
            "_view_module": "@jupyter-widgets/base",
            "_view_module_version": "1.2.0",
            "_view_name": "LayoutView",
            "align_content": null,
            "align_items": null,
            "align_self": null,
            "border": null,
            "bottom": null,
            "display": null,
            "flex": null,
            "flex_flow": null,
            "grid_area": null,
            "grid_auto_columns": null,
            "grid_auto_flow": null,
            "grid_auto_rows": null,
            "grid_column": null,
            "grid_gap": null,
            "grid_row": null,
            "grid_template_areas": null,
            "grid_template_columns": null,
            "grid_template_rows": null,
            "height": null,
            "justify_content": null,
            "justify_items": null,
            "left": null,
            "margin": null,
            "max_height": null,
            "max_width": null,
            "min_height": null,
            "min_width": null,
            "object_fit": null,
            "object_position": null,
            "order": null,
            "overflow": null,
            "overflow_x": null,
            "overflow_y": null,
            "padding": null,
            "right": null,
            "top": null,
            "visibility": null,
            "width": null
          }
        },
        "19e5bf22800443a3b93f862d31669bd7": {
          "model_module": "@jupyter-widgets/controls",
          "model_name": "DescriptionStyleModel",
          "model_module_version": "1.5.0",
          "state": {
            "_model_module": "@jupyter-widgets/controls",
            "_model_module_version": "1.5.0",
            "_model_name": "DescriptionStyleModel",
            "_view_count": null,
            "_view_module": "@jupyter-widgets/base",
            "_view_module_version": "1.2.0",
            "_view_name": "StyleView",
            "description_width": ""
          }
        },
        "2bf43c241e8a4ec18d07f092b96f3909": {
          "model_module": "@jupyter-widgets/base",
          "model_name": "LayoutModel",
          "model_module_version": "1.2.0",
          "state": {
            "_model_module": "@jupyter-widgets/base",
            "_model_module_version": "1.2.0",
            "_model_name": "LayoutModel",
            "_view_count": null,
            "_view_module": "@jupyter-widgets/base",
            "_view_module_version": "1.2.0",
            "_view_name": "LayoutView",
            "align_content": null,
            "align_items": null,
            "align_self": null,
            "border": null,
            "bottom": null,
            "display": null,
            "flex": null,
            "flex_flow": null,
            "grid_area": null,
            "grid_auto_columns": null,
            "grid_auto_flow": null,
            "grid_auto_rows": null,
            "grid_column": null,
            "grid_gap": null,
            "grid_row": null,
            "grid_template_areas": null,
            "grid_template_columns": null,
            "grid_template_rows": null,
            "height": null,
            "justify_content": null,
            "justify_items": null,
            "left": null,
            "margin": null,
            "max_height": null,
            "max_width": null,
            "min_height": null,
            "min_width": null,
            "object_fit": null,
            "object_position": null,
            "order": null,
            "overflow": null,
            "overflow_x": null,
            "overflow_y": null,
            "padding": null,
            "right": null,
            "top": null,
            "visibility": null,
            "width": null
          }
        },
        "00e5efc4e07d40bb9909c4d42e4c262b": {
          "model_module": "@jupyter-widgets/controls",
          "model_name": "ProgressStyleModel",
          "model_module_version": "1.5.0",
          "state": {
            "_model_module": "@jupyter-widgets/controls",
            "_model_module_version": "1.5.0",
            "_model_name": "ProgressStyleModel",
            "_view_count": null,
            "_view_module": "@jupyter-widgets/base",
            "_view_module_version": "1.2.0",
            "_view_name": "StyleView",
            "bar_color": null,
            "description_width": ""
          }
        },
        "a4c484f299114c4cb1735b26aaa1d668": {
          "model_module": "@jupyter-widgets/base",
          "model_name": "LayoutModel",
          "model_module_version": "1.2.0",
          "state": {
            "_model_module": "@jupyter-widgets/base",
            "_model_module_version": "1.2.0",
            "_model_name": "LayoutModel",
            "_view_count": null,
            "_view_module": "@jupyter-widgets/base",
            "_view_module_version": "1.2.0",
            "_view_name": "LayoutView",
            "align_content": null,
            "align_items": null,
            "align_self": null,
            "border": null,
            "bottom": null,
            "display": null,
            "flex": null,
            "flex_flow": null,
            "grid_area": null,
            "grid_auto_columns": null,
            "grid_auto_flow": null,
            "grid_auto_rows": null,
            "grid_column": null,
            "grid_gap": null,
            "grid_row": null,
            "grid_template_areas": null,
            "grid_template_columns": null,
            "grid_template_rows": null,
            "height": null,
            "justify_content": null,
            "justify_items": null,
            "left": null,
            "margin": null,
            "max_height": null,
            "max_width": null,
            "min_height": null,
            "min_width": null,
            "object_fit": null,
            "object_position": null,
            "order": null,
            "overflow": null,
            "overflow_x": null,
            "overflow_y": null,
            "padding": null,
            "right": null,
            "top": null,
            "visibility": null,
            "width": null
          }
        },
        "dec5c83c23e44e9cb2c7ce807ef52ccb": {
          "model_module": "@jupyter-widgets/controls",
          "model_name": "DescriptionStyleModel",
          "model_module_version": "1.5.0",
          "state": {
            "_model_module": "@jupyter-widgets/controls",
            "_model_module_version": "1.5.0",
            "_model_name": "DescriptionStyleModel",
            "_view_count": null,
            "_view_module": "@jupyter-widgets/base",
            "_view_module_version": "1.2.0",
            "_view_name": "StyleView",
            "description_width": ""
          }
        },
        "66748e77868e4d39b8b9f1c185f61dc5": {
          "model_module": "@jupyter-widgets/controls",
          "model_name": "HBoxModel",
          "model_module_version": "1.5.0",
          "state": {
            "_dom_classes": [],
            "_model_module": "@jupyter-widgets/controls",
            "_model_module_version": "1.5.0",
            "_model_name": "HBoxModel",
            "_view_count": null,
            "_view_module": "@jupyter-widgets/controls",
            "_view_module_version": "1.5.0",
            "_view_name": "HBoxView",
            "box_style": "",
            "children": [
              "IPY_MODEL_c14bb8f44536431daa41ce4d716d45cf",
              "IPY_MODEL_317085fc73054800b4cf321805347f36",
              "IPY_MODEL_f4497bf1ac444b26b755368766961e0d"
            ],
            "layout": "IPY_MODEL_19ec163338044e559959f280dd9a5eba"
          }
        },
        "c14bb8f44536431daa41ce4d716d45cf": {
          "model_module": "@jupyter-widgets/controls",
          "model_name": "HTMLModel",
          "model_module_version": "1.5.0",
          "state": {
            "_dom_classes": [],
            "_model_module": "@jupyter-widgets/controls",
            "_model_module_version": "1.5.0",
            "_model_name": "HTMLModel",
            "_view_count": null,
            "_view_module": "@jupyter-widgets/controls",
            "_view_module_version": "1.5.0",
            "_view_name": "HTMLView",
            "description": "",
            "description_tooltip": null,
            "layout": "IPY_MODEL_a9b45bcd3c4542029d2453488b8c6c2c",
            "placeholder": "​",
            "style": "IPY_MODEL_cbc836ce3d8445cb85ef9361e9508e0e",
            "value": "Downloading: 100%"
          }
        },
        "317085fc73054800b4cf321805347f36": {
          "model_module": "@jupyter-widgets/controls",
          "model_name": "FloatProgressModel",
          "model_module_version": "1.5.0",
          "state": {
            "_dom_classes": [],
            "_model_module": "@jupyter-widgets/controls",
            "_model_module_version": "1.5.0",
            "_model_name": "FloatProgressModel",
            "_view_count": null,
            "_view_module": "@jupyter-widgets/controls",
            "_view_module_version": "1.5.0",
            "_view_name": "ProgressView",
            "bar_style": "success",
            "description": "",
            "description_tooltip": null,
            "layout": "IPY_MODEL_11fe754aa60e44d1bcbd4c40e0ef230c",
            "max": 5585896,
            "min": 0,
            "orientation": "horizontal",
            "style": "IPY_MODEL_2ca6f0ece55c43a29ccf923bad34b13e",
            "value": 5585896
          }
        },
        "f4497bf1ac444b26b755368766961e0d": {
          "model_module": "@jupyter-widgets/controls",
          "model_name": "HTMLModel",
          "model_module_version": "1.5.0",
          "state": {
            "_dom_classes": [],
            "_model_module": "@jupyter-widgets/controls",
            "_model_module_version": "1.5.0",
            "_model_name": "HTMLModel",
            "_view_count": null,
            "_view_module": "@jupyter-widgets/controls",
            "_view_module_version": "1.5.0",
            "_view_name": "HTMLView",
            "description": "",
            "description_tooltip": null,
            "layout": "IPY_MODEL_b08de4f765aa407e8df02600d18cd2b9",
            "placeholder": "​",
            "style": "IPY_MODEL_00a1af4b09c84ede8a997dae01411c7e",
            "value": " 5.59M/5.59M [00:00&lt;00:00, 16.2MB/s]"
          }
        },
        "19ec163338044e559959f280dd9a5eba": {
          "model_module": "@jupyter-widgets/base",
          "model_name": "LayoutModel",
          "model_module_version": "1.2.0",
          "state": {
            "_model_module": "@jupyter-widgets/base",
            "_model_module_version": "1.2.0",
            "_model_name": "LayoutModel",
            "_view_count": null,
            "_view_module": "@jupyter-widgets/base",
            "_view_module_version": "1.2.0",
            "_view_name": "LayoutView",
            "align_content": null,
            "align_items": null,
            "align_self": null,
            "border": null,
            "bottom": null,
            "display": null,
            "flex": null,
            "flex_flow": null,
            "grid_area": null,
            "grid_auto_columns": null,
            "grid_auto_flow": null,
            "grid_auto_rows": null,
            "grid_column": null,
            "grid_gap": null,
            "grid_row": null,
            "grid_template_areas": null,
            "grid_template_columns": null,
            "grid_template_rows": null,
            "height": null,
            "justify_content": null,
            "justify_items": null,
            "left": null,
            "margin": null,
            "max_height": null,
            "max_width": null,
            "min_height": null,
            "min_width": null,
            "object_fit": null,
            "object_position": null,
            "order": null,
            "overflow": null,
            "overflow_x": null,
            "overflow_y": null,
            "padding": null,
            "right": null,
            "top": null,
            "visibility": null,
            "width": null
          }
        },
        "a9b45bcd3c4542029d2453488b8c6c2c": {
          "model_module": "@jupyter-widgets/base",
          "model_name": "LayoutModel",
          "model_module_version": "1.2.0",
          "state": {
            "_model_module": "@jupyter-widgets/base",
            "_model_module_version": "1.2.0",
            "_model_name": "LayoutModel",
            "_view_count": null,
            "_view_module": "@jupyter-widgets/base",
            "_view_module_version": "1.2.0",
            "_view_name": "LayoutView",
            "align_content": null,
            "align_items": null,
            "align_self": null,
            "border": null,
            "bottom": null,
            "display": null,
            "flex": null,
            "flex_flow": null,
            "grid_area": null,
            "grid_auto_columns": null,
            "grid_auto_flow": null,
            "grid_auto_rows": null,
            "grid_column": null,
            "grid_gap": null,
            "grid_row": null,
            "grid_template_areas": null,
            "grid_template_columns": null,
            "grid_template_rows": null,
            "height": null,
            "justify_content": null,
            "justify_items": null,
            "left": null,
            "margin": null,
            "max_height": null,
            "max_width": null,
            "min_height": null,
            "min_width": null,
            "object_fit": null,
            "object_position": null,
            "order": null,
            "overflow": null,
            "overflow_x": null,
            "overflow_y": null,
            "padding": null,
            "right": null,
            "top": null,
            "visibility": null,
            "width": null
          }
        },
        "cbc836ce3d8445cb85ef9361e9508e0e": {
          "model_module": "@jupyter-widgets/controls",
          "model_name": "DescriptionStyleModel",
          "model_module_version": "1.5.0",
          "state": {
            "_model_module": "@jupyter-widgets/controls",
            "_model_module_version": "1.5.0",
            "_model_name": "DescriptionStyleModel",
            "_view_count": null,
            "_view_module": "@jupyter-widgets/base",
            "_view_module_version": "1.2.0",
            "_view_name": "StyleView",
            "description_width": ""
          }
        },
        "11fe754aa60e44d1bcbd4c40e0ef230c": {
          "model_module": "@jupyter-widgets/base",
          "model_name": "LayoutModel",
          "model_module_version": "1.2.0",
          "state": {
            "_model_module": "@jupyter-widgets/base",
            "_model_module_version": "1.2.0",
            "_model_name": "LayoutModel",
            "_view_count": null,
            "_view_module": "@jupyter-widgets/base",
            "_view_module_version": "1.2.0",
            "_view_name": "LayoutView",
            "align_content": null,
            "align_items": null,
            "align_self": null,
            "border": null,
            "bottom": null,
            "display": null,
            "flex": null,
            "flex_flow": null,
            "grid_area": null,
            "grid_auto_columns": null,
            "grid_auto_flow": null,
            "grid_auto_rows": null,
            "grid_column": null,
            "grid_gap": null,
            "grid_row": null,
            "grid_template_areas": null,
            "grid_template_columns": null,
            "grid_template_rows": null,
            "height": null,
            "justify_content": null,
            "justify_items": null,
            "left": null,
            "margin": null,
            "max_height": null,
            "max_width": null,
            "min_height": null,
            "min_width": null,
            "object_fit": null,
            "object_position": null,
            "order": null,
            "overflow": null,
            "overflow_x": null,
            "overflow_y": null,
            "padding": null,
            "right": null,
            "top": null,
            "visibility": null,
            "width": null
          }
        },
        "2ca6f0ece55c43a29ccf923bad34b13e": {
          "model_module": "@jupyter-widgets/controls",
          "model_name": "ProgressStyleModel",
          "model_module_version": "1.5.0",
          "state": {
            "_model_module": "@jupyter-widgets/controls",
            "_model_module_version": "1.5.0",
            "_model_name": "ProgressStyleModel",
            "_view_count": null,
            "_view_module": "@jupyter-widgets/base",
            "_view_module_version": "1.2.0",
            "_view_name": "StyleView",
            "bar_color": null,
            "description_width": ""
          }
        },
        "b08de4f765aa407e8df02600d18cd2b9": {
          "model_module": "@jupyter-widgets/base",
          "model_name": "LayoutModel",
          "model_module_version": "1.2.0",
          "state": {
            "_model_module": "@jupyter-widgets/base",
            "_model_module_version": "1.2.0",
            "_model_name": "LayoutModel",
            "_view_count": null,
            "_view_module": "@jupyter-widgets/base",
            "_view_module_version": "1.2.0",
            "_view_name": "LayoutView",
            "align_content": null,
            "align_items": null,
            "align_self": null,
            "border": null,
            "bottom": null,
            "display": null,
            "flex": null,
            "flex_flow": null,
            "grid_area": null,
            "grid_auto_columns": null,
            "grid_auto_flow": null,
            "grid_auto_rows": null,
            "grid_column": null,
            "grid_gap": null,
            "grid_row": null,
            "grid_template_areas": null,
            "grid_template_columns": null,
            "grid_template_rows": null,
            "height": null,
            "justify_content": null,
            "justify_items": null,
            "left": null,
            "margin": null,
            "max_height": null,
            "max_width": null,
            "min_height": null,
            "min_width": null,
            "object_fit": null,
            "object_position": null,
            "order": null,
            "overflow": null,
            "overflow_x": null,
            "overflow_y": null,
            "padding": null,
            "right": null,
            "top": null,
            "visibility": null,
            "width": null
          }
        },
        "00a1af4b09c84ede8a997dae01411c7e": {
          "model_module": "@jupyter-widgets/controls",
          "model_name": "DescriptionStyleModel",
          "model_module_version": "1.5.0",
          "state": {
            "_model_module": "@jupyter-widgets/controls",
            "_model_module_version": "1.5.0",
            "_model_name": "DescriptionStyleModel",
            "_view_count": null,
            "_view_module": "@jupyter-widgets/base",
            "_view_module_version": "1.2.0",
            "_view_name": "StyleView",
            "description_width": ""
          }
        },
        "3a7f5db86fa44fef83cc739612bf4711": {
          "model_module": "@jupyter-widgets/controls",
          "model_name": "HBoxModel",
          "model_module_version": "1.5.0",
          "state": {
            "_dom_classes": [],
            "_model_module": "@jupyter-widgets/controls",
            "_model_module_version": "1.5.0",
            "_model_name": "HBoxModel",
            "_view_count": null,
            "_view_module": "@jupyter-widgets/controls",
            "_view_module_version": "1.5.0",
            "_view_name": "HBoxView",
            "box_style": "",
            "children": [
              "IPY_MODEL_af00b3fae4f4416d98fe16d3584cfe0d",
              "IPY_MODEL_abc9ce9c53624a6399a1b39d506a99a5",
              "IPY_MODEL_46e85adb792d448ca9d9f016459d9c81"
            ],
            "layout": "IPY_MODEL_283a08252e274c7e811e4397a8e2f06f"
          }
        },
        "af00b3fae4f4416d98fe16d3584cfe0d": {
          "model_module": "@jupyter-widgets/controls",
          "model_name": "HTMLModel",
          "model_module_version": "1.5.0",
          "state": {
            "_dom_classes": [],
            "_model_module": "@jupyter-widgets/controls",
            "_model_module_version": "1.5.0",
            "_model_name": "HTMLModel",
            "_view_count": null,
            "_view_module": "@jupyter-widgets/controls",
            "_view_module_version": "1.5.0",
            "_view_name": "HTMLView",
            "description": "",
            "description_tooltip": null,
            "layout": "IPY_MODEL_98ddaed247d9462b8bb6a39b6e93ac97",
            "placeholder": "​",
            "style": "IPY_MODEL_54ff370d2f364021a687765a52cc3765",
            "value": "Downloading: 100%"
          }
        },
        "abc9ce9c53624a6399a1b39d506a99a5": {
          "model_module": "@jupyter-widgets/controls",
          "model_name": "FloatProgressModel",
          "model_module_version": "1.5.0",
          "state": {
            "_dom_classes": [],
            "_model_module": "@jupyter-widgets/controls",
            "_model_module_version": "1.5.0",
            "_model_name": "FloatProgressModel",
            "_view_count": null,
            "_view_module": "@jupyter-widgets/controls",
            "_view_module_version": "1.5.0",
            "_view_name": "ProgressView",
            "bar_style": "success",
            "description": "",
            "description_tooltip": null,
            "layout": "IPY_MODEL_d626132bccc54615a8de0320e623781a",
            "max": 400182536,
            "min": 0,
            "orientation": "horizontal",
            "style": "IPY_MODEL_3d6581cd6b3c4e4f880c346ca5b879ec",
            "value": 400182536
          }
        },
        "46e85adb792d448ca9d9f016459d9c81": {
          "model_module": "@jupyter-widgets/controls",
          "model_name": "HTMLModel",
          "model_module_version": "1.5.0",
          "state": {
            "_dom_classes": [],
            "_model_module": "@jupyter-widgets/controls",
            "_model_module_version": "1.5.0",
            "_model_name": "HTMLModel",
            "_view_count": null,
            "_view_module": "@jupyter-widgets/controls",
            "_view_module_version": "1.5.0",
            "_view_name": "HTMLView",
            "description": "",
            "description_tooltip": null,
            "layout": "IPY_MODEL_072b20025b87476e9667f22d431470ed",
            "placeholder": "​",
            "style": "IPY_MODEL_cca0a9e0b026462a9f5d2fdd25fd5e20",
            "value": " 400M/400M [00:08&lt;00:00, 45.7MB/s]"
          }
        },
        "283a08252e274c7e811e4397a8e2f06f": {
          "model_module": "@jupyter-widgets/base",
          "model_name": "LayoutModel",
          "model_module_version": "1.2.0",
          "state": {
            "_model_module": "@jupyter-widgets/base",
            "_model_module_version": "1.2.0",
            "_model_name": "LayoutModel",
            "_view_count": null,
            "_view_module": "@jupyter-widgets/base",
            "_view_module_version": "1.2.0",
            "_view_name": "LayoutView",
            "align_content": null,
            "align_items": null,
            "align_self": null,
            "border": null,
            "bottom": null,
            "display": null,
            "flex": null,
            "flex_flow": null,
            "grid_area": null,
            "grid_auto_columns": null,
            "grid_auto_flow": null,
            "grid_auto_rows": null,
            "grid_column": null,
            "grid_gap": null,
            "grid_row": null,
            "grid_template_areas": null,
            "grid_template_columns": null,
            "grid_template_rows": null,
            "height": null,
            "justify_content": null,
            "justify_items": null,
            "left": null,
            "margin": null,
            "max_height": null,
            "max_width": null,
            "min_height": null,
            "min_width": null,
            "object_fit": null,
            "object_position": null,
            "order": null,
            "overflow": null,
            "overflow_x": null,
            "overflow_y": null,
            "padding": null,
            "right": null,
            "top": null,
            "visibility": null,
            "width": null
          }
        },
        "98ddaed247d9462b8bb6a39b6e93ac97": {
          "model_module": "@jupyter-widgets/base",
          "model_name": "LayoutModel",
          "model_module_version": "1.2.0",
          "state": {
            "_model_module": "@jupyter-widgets/base",
            "_model_module_version": "1.2.0",
            "_model_name": "LayoutModel",
            "_view_count": null,
            "_view_module": "@jupyter-widgets/base",
            "_view_module_version": "1.2.0",
            "_view_name": "LayoutView",
            "align_content": null,
            "align_items": null,
            "align_self": null,
            "border": null,
            "bottom": null,
            "display": null,
            "flex": null,
            "flex_flow": null,
            "grid_area": null,
            "grid_auto_columns": null,
            "grid_auto_flow": null,
            "grid_auto_rows": null,
            "grid_column": null,
            "grid_gap": null,
            "grid_row": null,
            "grid_template_areas": null,
            "grid_template_columns": null,
            "grid_template_rows": null,
            "height": null,
            "justify_content": null,
            "justify_items": null,
            "left": null,
            "margin": null,
            "max_height": null,
            "max_width": null,
            "min_height": null,
            "min_width": null,
            "object_fit": null,
            "object_position": null,
            "order": null,
            "overflow": null,
            "overflow_x": null,
            "overflow_y": null,
            "padding": null,
            "right": null,
            "top": null,
            "visibility": null,
            "width": null
          }
        },
        "54ff370d2f364021a687765a52cc3765": {
          "model_module": "@jupyter-widgets/controls",
          "model_name": "DescriptionStyleModel",
          "model_module_version": "1.5.0",
          "state": {
            "_model_module": "@jupyter-widgets/controls",
            "_model_module_version": "1.5.0",
            "_model_name": "DescriptionStyleModel",
            "_view_count": null,
            "_view_module": "@jupyter-widgets/base",
            "_view_module_version": "1.2.0",
            "_view_name": "StyleView",
            "description_width": ""
          }
        },
        "d626132bccc54615a8de0320e623781a": {
          "model_module": "@jupyter-widgets/base",
          "model_name": "LayoutModel",
          "model_module_version": "1.2.0",
          "state": {
            "_model_module": "@jupyter-widgets/base",
            "_model_module_version": "1.2.0",
            "_model_name": "LayoutModel",
            "_view_count": null,
            "_view_module": "@jupyter-widgets/base",
            "_view_module_version": "1.2.0",
            "_view_name": "LayoutView",
            "align_content": null,
            "align_items": null,
            "align_self": null,
            "border": null,
            "bottom": null,
            "display": null,
            "flex": null,
            "flex_flow": null,
            "grid_area": null,
            "grid_auto_columns": null,
            "grid_auto_flow": null,
            "grid_auto_rows": null,
            "grid_column": null,
            "grid_gap": null,
            "grid_row": null,
            "grid_template_areas": null,
            "grid_template_columns": null,
            "grid_template_rows": null,
            "height": null,
            "justify_content": null,
            "justify_items": null,
            "left": null,
            "margin": null,
            "max_height": null,
            "max_width": null,
            "min_height": null,
            "min_width": null,
            "object_fit": null,
            "object_position": null,
            "order": null,
            "overflow": null,
            "overflow_x": null,
            "overflow_y": null,
            "padding": null,
            "right": null,
            "top": null,
            "visibility": null,
            "width": null
          }
        },
        "3d6581cd6b3c4e4f880c346ca5b879ec": {
          "model_module": "@jupyter-widgets/controls",
          "model_name": "ProgressStyleModel",
          "model_module_version": "1.5.0",
          "state": {
            "_model_module": "@jupyter-widgets/controls",
            "_model_module_version": "1.5.0",
            "_model_name": "ProgressStyleModel",
            "_view_count": null,
            "_view_module": "@jupyter-widgets/base",
            "_view_module_version": "1.2.0",
            "_view_name": "StyleView",
            "bar_color": null,
            "description_width": ""
          }
        },
        "072b20025b87476e9667f22d431470ed": {
          "model_module": "@jupyter-widgets/base",
          "model_name": "LayoutModel",
          "model_module_version": "1.2.0",
          "state": {
            "_model_module": "@jupyter-widgets/base",
            "_model_module_version": "1.2.0",
            "_model_name": "LayoutModel",
            "_view_count": null,
            "_view_module": "@jupyter-widgets/base",
            "_view_module_version": "1.2.0",
            "_view_name": "LayoutView",
            "align_content": null,
            "align_items": null,
            "align_self": null,
            "border": null,
            "bottom": null,
            "display": null,
            "flex": null,
            "flex_flow": null,
            "grid_area": null,
            "grid_auto_columns": null,
            "grid_auto_flow": null,
            "grid_auto_rows": null,
            "grid_column": null,
            "grid_gap": null,
            "grid_row": null,
            "grid_template_areas": null,
            "grid_template_columns": null,
            "grid_template_rows": null,
            "height": null,
            "justify_content": null,
            "justify_items": null,
            "left": null,
            "margin": null,
            "max_height": null,
            "max_width": null,
            "min_height": null,
            "min_width": null,
            "object_fit": null,
            "object_position": null,
            "order": null,
            "overflow": null,
            "overflow_x": null,
            "overflow_y": null,
            "padding": null,
            "right": null,
            "top": null,
            "visibility": null,
            "width": null
          }
        },
        "cca0a9e0b026462a9f5d2fdd25fd5e20": {
          "model_module": "@jupyter-widgets/controls",
          "model_name": "DescriptionStyleModel",
          "model_module_version": "1.5.0",
          "state": {
            "_model_module": "@jupyter-widgets/controls",
            "_model_module_version": "1.5.0",
            "_model_name": "DescriptionStyleModel",
            "_view_count": null,
            "_view_module": "@jupyter-widgets/base",
            "_view_module_version": "1.2.0",
            "_view_name": "StyleView",
            "description_width": ""
          }
        },
        "c6dd6a83f5aa4ddfaafd093a2b9e89f8": {
          "model_module": "@jupyter-widgets/controls",
          "model_name": "HBoxModel",
          "model_module_version": "1.5.0",
          "state": {
            "_dom_classes": [],
            "_model_module": "@jupyter-widgets/controls",
            "_model_module_version": "1.5.0",
            "_model_name": "HBoxModel",
            "_view_count": null,
            "_view_module": "@jupyter-widgets/controls",
            "_view_module_version": "1.5.0",
            "_view_name": "HBoxView",
            "box_style": "",
            "children": [
              "IPY_MODEL_c85584e00845450c9f031dfece367944",
              "IPY_MODEL_16940b162a1644fab25eb2c2092c45fd",
              "IPY_MODEL_8745541416b148dca6034513502310d9"
            ],
            "layout": "IPY_MODEL_61d804a3cd504979a73c58a4beb7464d"
          }
        },
        "c85584e00845450c9f031dfece367944": {
          "model_module": "@jupyter-widgets/controls",
          "model_name": "HTMLModel",
          "model_module_version": "1.5.0",
          "state": {
            "_dom_classes": [],
            "_model_module": "@jupyter-widgets/controls",
            "_model_module_version": "1.5.0",
            "_model_name": "HTMLModel",
            "_view_count": null,
            "_view_module": "@jupyter-widgets/controls",
            "_view_module_version": "1.5.0",
            "_view_name": "HTMLView",
            "description": "",
            "description_tooltip": null,
            "layout": "IPY_MODEL_fe395b9d43d64a24a31418a540fbb1eb",
            "placeholder": "​",
            "style": "IPY_MODEL_dce2cdd231ce4c7c88f54fed18737ad6",
            "value": "Downloading: 100%"
          }
        },
        "16940b162a1644fab25eb2c2092c45fd": {
          "model_module": "@jupyter-widgets/controls",
          "model_name": "FloatProgressModel",
          "model_module_version": "1.5.0",
          "state": {
            "_dom_classes": [],
            "_model_module": "@jupyter-widgets/controls",
            "_model_module_version": "1.5.0",
            "_model_name": "FloatProgressModel",
            "_view_count": null,
            "_view_module": "@jupyter-widgets/controls",
            "_view_module_version": "1.5.0",
            "_view_name": "ProgressView",
            "bar_style": "success",
            "description": "",
            "description_tooltip": null,
            "layout": "IPY_MODEL_a48ef96582e4408e9042e0c9cc37b2da",
            "max": 1868,
            "min": 0,
            "orientation": "horizontal",
            "style": "IPY_MODEL_60436e974acd4d5fa64b2561013905c5",
            "value": 1868
          }
        },
        "8745541416b148dca6034513502310d9": {
          "model_module": "@jupyter-widgets/controls",
          "model_name": "HTMLModel",
          "model_module_version": "1.5.0",
          "state": {
            "_dom_classes": [],
            "_model_module": "@jupyter-widgets/controls",
            "_model_module_version": "1.5.0",
            "_model_name": "HTMLModel",
            "_view_count": null,
            "_view_module": "@jupyter-widgets/controls",
            "_view_module_version": "1.5.0",
            "_view_name": "HTMLView",
            "description": "",
            "description_tooltip": null,
            "layout": "IPY_MODEL_7e822315f57144ad8783ad55798a9afc",
            "placeholder": "​",
            "style": "IPY_MODEL_d88dafff4bf84c9d9e03883662af2d8c",
            "value": " 1.87k/1.87k [00:00&lt;00:00, 80.8kB/s]"
          }
        },
        "61d804a3cd504979a73c58a4beb7464d": {
          "model_module": "@jupyter-widgets/base",
          "model_name": "LayoutModel",
          "model_module_version": "1.2.0",
          "state": {
            "_model_module": "@jupyter-widgets/base",
            "_model_module_version": "1.2.0",
            "_model_name": "LayoutModel",
            "_view_count": null,
            "_view_module": "@jupyter-widgets/base",
            "_view_module_version": "1.2.0",
            "_view_name": "LayoutView",
            "align_content": null,
            "align_items": null,
            "align_self": null,
            "border": null,
            "bottom": null,
            "display": null,
            "flex": null,
            "flex_flow": null,
            "grid_area": null,
            "grid_auto_columns": null,
            "grid_auto_flow": null,
            "grid_auto_rows": null,
            "grid_column": null,
            "grid_gap": null,
            "grid_row": null,
            "grid_template_areas": null,
            "grid_template_columns": null,
            "grid_template_rows": null,
            "height": null,
            "justify_content": null,
            "justify_items": null,
            "left": null,
            "margin": null,
            "max_height": null,
            "max_width": null,
            "min_height": null,
            "min_width": null,
            "object_fit": null,
            "object_position": null,
            "order": null,
            "overflow": null,
            "overflow_x": null,
            "overflow_y": null,
            "padding": null,
            "right": null,
            "top": null,
            "visibility": null,
            "width": null
          }
        },
        "fe395b9d43d64a24a31418a540fbb1eb": {
          "model_module": "@jupyter-widgets/base",
          "model_name": "LayoutModel",
          "model_module_version": "1.2.0",
          "state": {
            "_model_module": "@jupyter-widgets/base",
            "_model_module_version": "1.2.0",
            "_model_name": "LayoutModel",
            "_view_count": null,
            "_view_module": "@jupyter-widgets/base",
            "_view_module_version": "1.2.0",
            "_view_name": "LayoutView",
            "align_content": null,
            "align_items": null,
            "align_self": null,
            "border": null,
            "bottom": null,
            "display": null,
            "flex": null,
            "flex_flow": null,
            "grid_area": null,
            "grid_auto_columns": null,
            "grid_auto_flow": null,
            "grid_auto_rows": null,
            "grid_column": null,
            "grid_gap": null,
            "grid_row": null,
            "grid_template_areas": null,
            "grid_template_columns": null,
            "grid_template_rows": null,
            "height": null,
            "justify_content": null,
            "justify_items": null,
            "left": null,
            "margin": null,
            "max_height": null,
            "max_width": null,
            "min_height": null,
            "min_width": null,
            "object_fit": null,
            "object_position": null,
            "order": null,
            "overflow": null,
            "overflow_x": null,
            "overflow_y": null,
            "padding": null,
            "right": null,
            "top": null,
            "visibility": null,
            "width": null
          }
        },
        "dce2cdd231ce4c7c88f54fed18737ad6": {
          "model_module": "@jupyter-widgets/controls",
          "model_name": "DescriptionStyleModel",
          "model_module_version": "1.5.0",
          "state": {
            "_model_module": "@jupyter-widgets/controls",
            "_model_module_version": "1.5.0",
            "_model_name": "DescriptionStyleModel",
            "_view_count": null,
            "_view_module": "@jupyter-widgets/base",
            "_view_module_version": "1.2.0",
            "_view_name": "StyleView",
            "description_width": ""
          }
        },
        "a48ef96582e4408e9042e0c9cc37b2da": {
          "model_module": "@jupyter-widgets/base",
          "model_name": "LayoutModel",
          "model_module_version": "1.2.0",
          "state": {
            "_model_module": "@jupyter-widgets/base",
            "_model_module_version": "1.2.0",
            "_model_name": "LayoutModel",
            "_view_count": null,
            "_view_module": "@jupyter-widgets/base",
            "_view_module_version": "1.2.0",
            "_view_name": "LayoutView",
            "align_content": null,
            "align_items": null,
            "align_self": null,
            "border": null,
            "bottom": null,
            "display": null,
            "flex": null,
            "flex_flow": null,
            "grid_area": null,
            "grid_auto_columns": null,
            "grid_auto_flow": null,
            "grid_auto_rows": null,
            "grid_column": null,
            "grid_gap": null,
            "grid_row": null,
            "grid_template_areas": null,
            "grid_template_columns": null,
            "grid_template_rows": null,
            "height": null,
            "justify_content": null,
            "justify_items": null,
            "left": null,
            "margin": null,
            "max_height": null,
            "max_width": null,
            "min_height": null,
            "min_width": null,
            "object_fit": null,
            "object_position": null,
            "order": null,
            "overflow": null,
            "overflow_x": null,
            "overflow_y": null,
            "padding": null,
            "right": null,
            "top": null,
            "visibility": null,
            "width": null
          }
        },
        "60436e974acd4d5fa64b2561013905c5": {
          "model_module": "@jupyter-widgets/controls",
          "model_name": "ProgressStyleModel",
          "model_module_version": "1.5.0",
          "state": {
            "_model_module": "@jupyter-widgets/controls",
            "_model_module_version": "1.5.0",
            "_model_name": "ProgressStyleModel",
            "_view_count": null,
            "_view_module": "@jupyter-widgets/base",
            "_view_module_version": "1.2.0",
            "_view_name": "StyleView",
            "bar_color": null,
            "description_width": ""
          }
        },
        "7e822315f57144ad8783ad55798a9afc": {
          "model_module": "@jupyter-widgets/base",
          "model_name": "LayoutModel",
          "model_module_version": "1.2.0",
          "state": {
            "_model_module": "@jupyter-widgets/base",
            "_model_module_version": "1.2.0",
            "_model_name": "LayoutModel",
            "_view_count": null,
            "_view_module": "@jupyter-widgets/base",
            "_view_module_version": "1.2.0",
            "_view_name": "LayoutView",
            "align_content": null,
            "align_items": null,
            "align_self": null,
            "border": null,
            "bottom": null,
            "display": null,
            "flex": null,
            "flex_flow": null,
            "grid_area": null,
            "grid_auto_columns": null,
            "grid_auto_flow": null,
            "grid_auto_rows": null,
            "grid_column": null,
            "grid_gap": null,
            "grid_row": null,
            "grid_template_areas": null,
            "grid_template_columns": null,
            "grid_template_rows": null,
            "height": null,
            "justify_content": null,
            "justify_items": null,
            "left": null,
            "margin": null,
            "max_height": null,
            "max_width": null,
            "min_height": null,
            "min_width": null,
            "object_fit": null,
            "object_position": null,
            "order": null,
            "overflow": null,
            "overflow_x": null,
            "overflow_y": null,
            "padding": null,
            "right": null,
            "top": null,
            "visibility": null,
            "width": null
          }
        },
        "d88dafff4bf84c9d9e03883662af2d8c": {
          "model_module": "@jupyter-widgets/controls",
          "model_name": "DescriptionStyleModel",
          "model_module_version": "1.5.0",
          "state": {
            "_model_module": "@jupyter-widgets/controls",
            "_model_module_version": "1.5.0",
            "_model_name": "DescriptionStyleModel",
            "_view_count": null,
            "_view_module": "@jupyter-widgets/base",
            "_view_module_version": "1.2.0",
            "_view_name": "StyleView",
            "description_width": ""
          }
        },
        "9c6b7f1d8b524ed7aa5ec15d55c91872": {
          "model_module": "@jupyter-widgets/controls",
          "model_name": "HBoxModel",
          "model_module_version": "1.5.0",
          "state": {
            "_dom_classes": [],
            "_model_module": "@jupyter-widgets/controls",
            "_model_module_version": "1.5.0",
            "_model_name": "HBoxModel",
            "_view_count": null,
            "_view_module": "@jupyter-widgets/controls",
            "_view_module_version": "1.5.0",
            "_view_name": "HBoxView",
            "box_style": "",
            "children": [
              "IPY_MODEL_a29cf81dd71048e7828085397234c37a",
              "IPY_MODEL_802136887ba44e2c8d052c6476131369",
              "IPY_MODEL_b783f86fdc5f4975b83336b879bd62de"
            ],
            "layout": "IPY_MODEL_4e5be4df8b6f4e1282ffd1897ac7d012"
          }
        },
        "a29cf81dd71048e7828085397234c37a": {
          "model_module": "@jupyter-widgets/controls",
          "model_name": "HTMLModel",
          "model_module_version": "1.5.0",
          "state": {
            "_dom_classes": [],
            "_model_module": "@jupyter-widgets/controls",
            "_model_module_version": "1.5.0",
            "_model_name": "HTMLModel",
            "_view_count": null,
            "_view_module": "@jupyter-widgets/controls",
            "_view_module_version": "1.5.0",
            "_view_name": "HTMLView",
            "description": "",
            "description_tooltip": null,
            "layout": "IPY_MODEL_c5f2f6c14fdc4b8f819f6c2d7ecf964b",
            "placeholder": "​",
            "style": "IPY_MODEL_341ffa07c4a54a6c977ded48981c5346",
            "value": "Downloading: 100%"
          }
        },
        "802136887ba44e2c8d052c6476131369": {
          "model_module": "@jupyter-widgets/controls",
          "model_name": "FloatProgressModel",
          "model_module_version": "1.5.0",
          "state": {
            "_dom_classes": [],
            "_model_module": "@jupyter-widgets/controls",
            "_model_module_version": "1.5.0",
            "_model_name": "FloatProgressModel",
            "_view_count": null,
            "_view_module": "@jupyter-widgets/controls",
            "_view_module_version": "1.5.0",
            "_view_name": "ProgressView",
            "bar_style": "success",
            "description": "",
            "description_tooltip": null,
            "layout": "IPY_MODEL_99c0e7ca8c8d4f188052e068f48a078f",
            "max": 2199516,
            "min": 0,
            "orientation": "horizontal",
            "style": "IPY_MODEL_c4c33ee3022748cf9f1c510f00ecb674",
            "value": 2199516
          }
        },
        "b783f86fdc5f4975b83336b879bd62de": {
          "model_module": "@jupyter-widgets/controls",
          "model_name": "HTMLModel",
          "model_module_version": "1.5.0",
          "state": {
            "_dom_classes": [],
            "_model_module": "@jupyter-widgets/controls",
            "_model_module_version": "1.5.0",
            "_model_name": "HTMLModel",
            "_view_count": null,
            "_view_module": "@jupyter-widgets/controls",
            "_view_module_version": "1.5.0",
            "_view_name": "HTMLView",
            "description": "",
            "description_tooltip": null,
            "layout": "IPY_MODEL_018d5a41553a4659a577a1a6ebd3bd8f",
            "placeholder": "​",
            "style": "IPY_MODEL_a29e7fe400574977b2e9966f5b60e863",
            "value": " 2.20M/2.20M [00:00&lt;00:00, 1.82MB/s]"
          }
        },
        "4e5be4df8b6f4e1282ffd1897ac7d012": {
          "model_module": "@jupyter-widgets/base",
          "model_name": "LayoutModel",
          "model_module_version": "1.2.0",
          "state": {
            "_model_module": "@jupyter-widgets/base",
            "_model_module_version": "1.2.0",
            "_model_name": "LayoutModel",
            "_view_count": null,
            "_view_module": "@jupyter-widgets/base",
            "_view_module_version": "1.2.0",
            "_view_name": "LayoutView",
            "align_content": null,
            "align_items": null,
            "align_self": null,
            "border": null,
            "bottom": null,
            "display": null,
            "flex": null,
            "flex_flow": null,
            "grid_area": null,
            "grid_auto_columns": null,
            "grid_auto_flow": null,
            "grid_auto_rows": null,
            "grid_column": null,
            "grid_gap": null,
            "grid_row": null,
            "grid_template_areas": null,
            "grid_template_columns": null,
            "grid_template_rows": null,
            "height": null,
            "justify_content": null,
            "justify_items": null,
            "left": null,
            "margin": null,
            "max_height": null,
            "max_width": null,
            "min_height": null,
            "min_width": null,
            "object_fit": null,
            "object_position": null,
            "order": null,
            "overflow": null,
            "overflow_x": null,
            "overflow_y": null,
            "padding": null,
            "right": null,
            "top": null,
            "visibility": null,
            "width": null
          }
        },
        "c5f2f6c14fdc4b8f819f6c2d7ecf964b": {
          "model_module": "@jupyter-widgets/base",
          "model_name": "LayoutModel",
          "model_module_version": "1.2.0",
          "state": {
            "_model_module": "@jupyter-widgets/base",
            "_model_module_version": "1.2.0",
            "_model_name": "LayoutModel",
            "_view_count": null,
            "_view_module": "@jupyter-widgets/base",
            "_view_module_version": "1.2.0",
            "_view_name": "LayoutView",
            "align_content": null,
            "align_items": null,
            "align_self": null,
            "border": null,
            "bottom": null,
            "display": null,
            "flex": null,
            "flex_flow": null,
            "grid_area": null,
            "grid_auto_columns": null,
            "grid_auto_flow": null,
            "grid_auto_rows": null,
            "grid_column": null,
            "grid_gap": null,
            "grid_row": null,
            "grid_template_areas": null,
            "grid_template_columns": null,
            "grid_template_rows": null,
            "height": null,
            "justify_content": null,
            "justify_items": null,
            "left": null,
            "margin": null,
            "max_height": null,
            "max_width": null,
            "min_height": null,
            "min_width": null,
            "object_fit": null,
            "object_position": null,
            "order": null,
            "overflow": null,
            "overflow_x": null,
            "overflow_y": null,
            "padding": null,
            "right": null,
            "top": null,
            "visibility": null,
            "width": null
          }
        },
        "341ffa07c4a54a6c977ded48981c5346": {
          "model_module": "@jupyter-widgets/controls",
          "model_name": "DescriptionStyleModel",
          "model_module_version": "1.5.0",
          "state": {
            "_model_module": "@jupyter-widgets/controls",
            "_model_module_version": "1.5.0",
            "_model_name": "DescriptionStyleModel",
            "_view_count": null,
            "_view_module": "@jupyter-widgets/base",
            "_view_module_version": "1.2.0",
            "_view_name": "StyleView",
            "description_width": ""
          }
        },
        "99c0e7ca8c8d4f188052e068f48a078f": {
          "model_module": "@jupyter-widgets/base",
          "model_name": "LayoutModel",
          "model_module_version": "1.2.0",
          "state": {
            "_model_module": "@jupyter-widgets/base",
            "_model_module_version": "1.2.0",
            "_model_name": "LayoutModel",
            "_view_count": null,
            "_view_module": "@jupyter-widgets/base",
            "_view_module_version": "1.2.0",
            "_view_name": "LayoutView",
            "align_content": null,
            "align_items": null,
            "align_self": null,
            "border": null,
            "bottom": null,
            "display": null,
            "flex": null,
            "flex_flow": null,
            "grid_area": null,
            "grid_auto_columns": null,
            "grid_auto_flow": null,
            "grid_auto_rows": null,
            "grid_column": null,
            "grid_gap": null,
            "grid_row": null,
            "grid_template_areas": null,
            "grid_template_columns": null,
            "grid_template_rows": null,
            "height": null,
            "justify_content": null,
            "justify_items": null,
            "left": null,
            "margin": null,
            "max_height": null,
            "max_width": null,
            "min_height": null,
            "min_width": null,
            "object_fit": null,
            "object_position": null,
            "order": null,
            "overflow": null,
            "overflow_x": null,
            "overflow_y": null,
            "padding": null,
            "right": null,
            "top": null,
            "visibility": null,
            "width": null
          }
        },
        "c4c33ee3022748cf9f1c510f00ecb674": {
          "model_module": "@jupyter-widgets/controls",
          "model_name": "ProgressStyleModel",
          "model_module_version": "1.5.0",
          "state": {
            "_model_module": "@jupyter-widgets/controls",
            "_model_module_version": "1.5.0",
            "_model_name": "ProgressStyleModel",
            "_view_count": null,
            "_view_module": "@jupyter-widgets/base",
            "_view_module_version": "1.2.0",
            "_view_name": "StyleView",
            "bar_color": null,
            "description_width": ""
          }
        },
        "018d5a41553a4659a577a1a6ebd3bd8f": {
          "model_module": "@jupyter-widgets/base",
          "model_name": "LayoutModel",
          "model_module_version": "1.2.0",
          "state": {
            "_model_module": "@jupyter-widgets/base",
            "_model_module_version": "1.2.0",
            "_model_name": "LayoutModel",
            "_view_count": null,
            "_view_module": "@jupyter-widgets/base",
            "_view_module_version": "1.2.0",
            "_view_name": "LayoutView",
            "align_content": null,
            "align_items": null,
            "align_self": null,
            "border": null,
            "bottom": null,
            "display": null,
            "flex": null,
            "flex_flow": null,
            "grid_area": null,
            "grid_auto_columns": null,
            "grid_auto_flow": null,
            "grid_auto_rows": null,
            "grid_column": null,
            "grid_gap": null,
            "grid_row": null,
            "grid_template_areas": null,
            "grid_template_columns": null,
            "grid_template_rows": null,
            "height": null,
            "justify_content": null,
            "justify_items": null,
            "left": null,
            "margin": null,
            "max_height": null,
            "max_width": null,
            "min_height": null,
            "min_width": null,
            "object_fit": null,
            "object_position": null,
            "order": null,
            "overflow": null,
            "overflow_x": null,
            "overflow_y": null,
            "padding": null,
            "right": null,
            "top": null,
            "visibility": null,
            "width": null
          }
        },
        "a29e7fe400574977b2e9966f5b60e863": {
          "model_module": "@jupyter-widgets/controls",
          "model_name": "DescriptionStyleModel",
          "model_module_version": "1.5.0",
          "state": {
            "_model_module": "@jupyter-widgets/controls",
            "_model_module_version": "1.5.0",
            "_model_name": "DescriptionStyleModel",
            "_view_count": null,
            "_view_module": "@jupyter-widgets/base",
            "_view_module_version": "1.2.0",
            "_view_name": "StyleView",
            "description_width": ""
          }
        },
        "db3257f074944f00b78c5ae360d11822": {
          "model_module": "@jupyter-widgets/controls",
          "model_name": "HBoxModel",
          "model_module_version": "1.5.0",
          "state": {
            "_dom_classes": [],
            "_model_module": "@jupyter-widgets/controls",
            "_model_module_version": "1.5.0",
            "_model_name": "HBoxModel",
            "_view_count": null,
            "_view_module": "@jupyter-widgets/controls",
            "_view_module_version": "1.5.0",
            "_view_name": "HBoxView",
            "box_style": "",
            "children": [
              "IPY_MODEL_fa2b4be4690e43cdb71c1e9884b08848",
              "IPY_MODEL_c47d3ef6c4a94cbfa49d25aac8732e47",
              "IPY_MODEL_85ce43bf8c9944c0a9b6faf33e459c92"
            ],
            "layout": "IPY_MODEL_d929e8f3141244e0bb8c672d4db09324"
          }
        },
        "fa2b4be4690e43cdb71c1e9884b08848": {
          "model_module": "@jupyter-widgets/controls",
          "model_name": "HTMLModel",
          "model_module_version": "1.5.0",
          "state": {
            "_dom_classes": [],
            "_model_module": "@jupyter-widgets/controls",
            "_model_module_version": "1.5.0",
            "_model_name": "HTMLModel",
            "_view_count": null,
            "_view_module": "@jupyter-widgets/controls",
            "_view_module_version": "1.5.0",
            "_view_name": "HTMLView",
            "description": "",
            "description_tooltip": null,
            "layout": "IPY_MODEL_00a78d5a325747779ee401d97e3fbae3",
            "placeholder": "​",
            "style": "IPY_MODEL_f83ee45cc7e0499fa95b38ae721fe58a",
            "value": "Batches: 100%"
          }
        },
        "c47d3ef6c4a94cbfa49d25aac8732e47": {
          "model_module": "@jupyter-widgets/controls",
          "model_name": "FloatProgressModel",
          "model_module_version": "1.5.0",
          "state": {
            "_dom_classes": [],
            "_model_module": "@jupyter-widgets/controls",
            "_model_module_version": "1.5.0",
            "_model_name": "FloatProgressModel",
            "_view_count": null,
            "_view_module": "@jupyter-widgets/controls",
            "_view_module_version": "1.5.0",
            "_view_name": "ProgressView",
            "bar_style": "success",
            "description": "",
            "description_tooltip": null,
            "layout": "IPY_MODEL_f3607cb40d7a4aeeae5c9e3eb01425a7",
            "max": 21,
            "min": 0,
            "orientation": "horizontal",
            "style": "IPY_MODEL_eca26916b48f4523acb9428cbf7e1073",
            "value": 21
          }
        },
        "85ce43bf8c9944c0a9b6faf33e459c92": {
          "model_module": "@jupyter-widgets/controls",
          "model_name": "HTMLModel",
          "model_module_version": "1.5.0",
          "state": {
            "_dom_classes": [],
            "_model_module": "@jupyter-widgets/controls",
            "_model_module_version": "1.5.0",
            "_model_name": "HTMLModel",
            "_view_count": null,
            "_view_module": "@jupyter-widgets/controls",
            "_view_module_version": "1.5.0",
            "_view_name": "HTMLView",
            "description": "",
            "description_tooltip": null,
            "layout": "IPY_MODEL_48ba70ed36ff4b268acb6bf4f74725e6",
            "placeholder": "​",
            "style": "IPY_MODEL_6edea9b226d8406aa88b2e0c4540c466",
            "value": " 21/21 [00:08&lt;00:00,  5.44it/s]"
          }
        },
        "d929e8f3141244e0bb8c672d4db09324": {
          "model_module": "@jupyter-widgets/base",
          "model_name": "LayoutModel",
          "model_module_version": "1.2.0",
          "state": {
            "_model_module": "@jupyter-widgets/base",
            "_model_module_version": "1.2.0",
            "_model_name": "LayoutModel",
            "_view_count": null,
            "_view_module": "@jupyter-widgets/base",
            "_view_module_version": "1.2.0",
            "_view_name": "LayoutView",
            "align_content": null,
            "align_items": null,
            "align_self": null,
            "border": null,
            "bottom": null,
            "display": null,
            "flex": null,
            "flex_flow": null,
            "grid_area": null,
            "grid_auto_columns": null,
            "grid_auto_flow": null,
            "grid_auto_rows": null,
            "grid_column": null,
            "grid_gap": null,
            "grid_row": null,
            "grid_template_areas": null,
            "grid_template_columns": null,
            "grid_template_rows": null,
            "height": null,
            "justify_content": null,
            "justify_items": null,
            "left": null,
            "margin": null,
            "max_height": null,
            "max_width": null,
            "min_height": null,
            "min_width": null,
            "object_fit": null,
            "object_position": null,
            "order": null,
            "overflow": null,
            "overflow_x": null,
            "overflow_y": null,
            "padding": null,
            "right": null,
            "top": null,
            "visibility": null,
            "width": null
          }
        },
        "00a78d5a325747779ee401d97e3fbae3": {
          "model_module": "@jupyter-widgets/base",
          "model_name": "LayoutModel",
          "model_module_version": "1.2.0",
          "state": {
            "_model_module": "@jupyter-widgets/base",
            "_model_module_version": "1.2.0",
            "_model_name": "LayoutModel",
            "_view_count": null,
            "_view_module": "@jupyter-widgets/base",
            "_view_module_version": "1.2.0",
            "_view_name": "LayoutView",
            "align_content": null,
            "align_items": null,
            "align_self": null,
            "border": null,
            "bottom": null,
            "display": null,
            "flex": null,
            "flex_flow": null,
            "grid_area": null,
            "grid_auto_columns": null,
            "grid_auto_flow": null,
            "grid_auto_rows": null,
            "grid_column": null,
            "grid_gap": null,
            "grid_row": null,
            "grid_template_areas": null,
            "grid_template_columns": null,
            "grid_template_rows": null,
            "height": null,
            "justify_content": null,
            "justify_items": null,
            "left": null,
            "margin": null,
            "max_height": null,
            "max_width": null,
            "min_height": null,
            "min_width": null,
            "object_fit": null,
            "object_position": null,
            "order": null,
            "overflow": null,
            "overflow_x": null,
            "overflow_y": null,
            "padding": null,
            "right": null,
            "top": null,
            "visibility": null,
            "width": null
          }
        },
        "f83ee45cc7e0499fa95b38ae721fe58a": {
          "model_module": "@jupyter-widgets/controls",
          "model_name": "DescriptionStyleModel",
          "model_module_version": "1.5.0",
          "state": {
            "_model_module": "@jupyter-widgets/controls",
            "_model_module_version": "1.5.0",
            "_model_name": "DescriptionStyleModel",
            "_view_count": null,
            "_view_module": "@jupyter-widgets/base",
            "_view_module_version": "1.2.0",
            "_view_name": "StyleView",
            "description_width": ""
          }
        },
        "f3607cb40d7a4aeeae5c9e3eb01425a7": {
          "model_module": "@jupyter-widgets/base",
          "model_name": "LayoutModel",
          "model_module_version": "1.2.0",
          "state": {
            "_model_module": "@jupyter-widgets/base",
            "_model_module_version": "1.2.0",
            "_model_name": "LayoutModel",
            "_view_count": null,
            "_view_module": "@jupyter-widgets/base",
            "_view_module_version": "1.2.0",
            "_view_name": "LayoutView",
            "align_content": null,
            "align_items": null,
            "align_self": null,
            "border": null,
            "bottom": null,
            "display": null,
            "flex": null,
            "flex_flow": null,
            "grid_area": null,
            "grid_auto_columns": null,
            "grid_auto_flow": null,
            "grid_auto_rows": null,
            "grid_column": null,
            "grid_gap": null,
            "grid_row": null,
            "grid_template_areas": null,
            "grid_template_columns": null,
            "grid_template_rows": null,
            "height": null,
            "justify_content": null,
            "justify_items": null,
            "left": null,
            "margin": null,
            "max_height": null,
            "max_width": null,
            "min_height": null,
            "min_width": null,
            "object_fit": null,
            "object_position": null,
            "order": null,
            "overflow": null,
            "overflow_x": null,
            "overflow_y": null,
            "padding": null,
            "right": null,
            "top": null,
            "visibility": null,
            "width": null
          }
        },
        "eca26916b48f4523acb9428cbf7e1073": {
          "model_module": "@jupyter-widgets/controls",
          "model_name": "ProgressStyleModel",
          "model_module_version": "1.5.0",
          "state": {
            "_model_module": "@jupyter-widgets/controls",
            "_model_module_version": "1.5.0",
            "_model_name": "ProgressStyleModel",
            "_view_count": null,
            "_view_module": "@jupyter-widgets/base",
            "_view_module_version": "1.2.0",
            "_view_name": "StyleView",
            "bar_color": null,
            "description_width": ""
          }
        },
        "48ba70ed36ff4b268acb6bf4f74725e6": {
          "model_module": "@jupyter-widgets/base",
          "model_name": "LayoutModel",
          "model_module_version": "1.2.0",
          "state": {
            "_model_module": "@jupyter-widgets/base",
            "_model_module_version": "1.2.0",
            "_model_name": "LayoutModel",
            "_view_count": null,
            "_view_module": "@jupyter-widgets/base",
            "_view_module_version": "1.2.0",
            "_view_name": "LayoutView",
            "align_content": null,
            "align_items": null,
            "align_self": null,
            "border": null,
            "bottom": null,
            "display": null,
            "flex": null,
            "flex_flow": null,
            "grid_area": null,
            "grid_auto_columns": null,
            "grid_auto_flow": null,
            "grid_auto_rows": null,
            "grid_column": null,
            "grid_gap": null,
            "grid_row": null,
            "grid_template_areas": null,
            "grid_template_columns": null,
            "grid_template_rows": null,
            "height": null,
            "justify_content": null,
            "justify_items": null,
            "left": null,
            "margin": null,
            "max_height": null,
            "max_width": null,
            "min_height": null,
            "min_width": null,
            "object_fit": null,
            "object_position": null,
            "order": null,
            "overflow": null,
            "overflow_x": null,
            "overflow_y": null,
            "padding": null,
            "right": null,
            "top": null,
            "visibility": null,
            "width": null
          }
        },
        "6edea9b226d8406aa88b2e0c4540c466": {
          "model_module": "@jupyter-widgets/controls",
          "model_name": "DescriptionStyleModel",
          "model_module_version": "1.5.0",
          "state": {
            "_model_module": "@jupyter-widgets/controls",
            "_model_module_version": "1.5.0",
            "_model_name": "DescriptionStyleModel",
            "_view_count": null,
            "_view_module": "@jupyter-widgets/base",
            "_view_module_version": "1.2.0",
            "_view_name": "StyleView",
            "description_width": ""
          }
        }
      }
    }
  },
  "nbformat": 4,
  "nbformat_minor": 0
}